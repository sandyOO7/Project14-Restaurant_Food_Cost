{
  "nbformat": 4,
  "nbformat_minor": 0,
  "metadata": {
    "colab": {
      "name": "Restuarant_food_cost.ipynb",
      "provenance": []
    },
    "kernelspec": {
      "name": "python3",
      "display_name": "Python 3"
    }
  },
  "cells": [
    {
      "cell_type": "code",
      "metadata": {
        "id": "j7EIuohXujSr"
      },
      "source": [
        "# import all the neccessary libraries\r\n",
        "\r\n",
        "import pandas as pd\r\n",
        "import numpy as np\r\n",
        "import seaborn as sns\r\n",
        "import matplotlib.pyplot as plt\r\n",
        "\r\n",
        "#importing warnings\r\n",
        "import warnings\r\n",
        "warnings.filterwarnings('ignore')"
      ],
      "execution_count": 1,
      "outputs": []
    },
    {
      "cell_type": "code",
      "metadata": {
        "colab": {
          "resources": {
            "http://localhost:8080/nbextensions/google.colab/files.js": {
              "data": "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",
              "ok": true,
              "headers": [
                [
                  "content-type",
                  "application/javascript"
                ]
              ],
              "status": 200,
              "status_text": ""
            }
          },
          "base_uri": "https://localhost:8080/",
          "height": 72
        },
        "id": "utUCNWbAuonL",
        "outputId": "6f7814c4-d090-456a-a7ef-0c0727644b23"
      },
      "source": [
        "from google.colab import files\r\n",
        "uploaded = files.upload()"
      ],
      "execution_count": 2,
      "outputs": [
        {
          "output_type": "display_data",
          "data": {
            "text/html": [
              "\n",
              "     <input type=\"file\" id=\"files-a193328e-52bb-4d84-bf40-e388b7ef2632\" name=\"files[]\" multiple disabled\n",
              "        style=\"border:none\" />\n",
              "     <output id=\"result-a193328e-52bb-4d84-bf40-e388b7ef2632\">\n",
              "      Upload widget is only available when the cell has been executed in the\n",
              "      current browser session. Please rerun this cell to enable.\n",
              "      </output>\n",
              "      <script src=\"/nbextensions/google.colab/files.js\"></script> "
            ],
            "text/plain": [
              "<IPython.core.display.HTML object>"
            ]
          },
          "metadata": {
            "tags": []
          }
        },
        {
          "output_type": "stream",
          "text": [
            "Saving Doctor_Train.xlsx to Doctor_Train.xlsx\n"
          ],
          "name": "stdout"
        }
      ]
    },
    {
      "cell_type": "code",
      "metadata": {
        "id": "OAUiAX_GurOA"
      },
      "source": [
        "#Loading the Train and Test data\r\n",
        "Train_data = pd.read_excel('Data_Train.xlsx')\r\n",
        "Test_data  = pd.read_excel('Data_Test.xlsx')"
      ],
      "execution_count": 3,
      "outputs": []
    },
    {
      "cell_type": "code",
      "metadata": {
        "colab": {
          "base_uri": "https://localhost:8080/",
          "height": 204
        },
        "id": "QcGfylJovPd9",
        "outputId": "ab980723-171a-4667-8b88-4a04a033fa0a"
      },
      "source": [
        "# Seeing first five rows of Training data\r\n",
        "Train_data.head()"
      ],
      "execution_count": 4,
      "outputs": [
        {
          "output_type": "execute_result",
          "data": {
            "text/html": [
              "<div>\n",
              "<style scoped>\n",
              "    .dataframe tbody tr th:only-of-type {\n",
              "        vertical-align: middle;\n",
              "    }\n",
              "\n",
              "    .dataframe tbody tr th {\n",
              "        vertical-align: top;\n",
              "    }\n",
              "\n",
              "    .dataframe thead th {\n",
              "        text-align: right;\n",
              "    }\n",
              "</style>\n",
              "<table border=\"1\" class=\"dataframe\">\n",
              "  <thead>\n",
              "    <tr style=\"text-align: right;\">\n",
              "      <th></th>\n",
              "      <th>TITLE</th>\n",
              "      <th>RESTAURANT_ID</th>\n",
              "      <th>CUISINES</th>\n",
              "      <th>TIME</th>\n",
              "      <th>CITY</th>\n",
              "      <th>LOCALITY</th>\n",
              "      <th>RATING</th>\n",
              "      <th>VOTES</th>\n",
              "      <th>COST</th>\n",
              "    </tr>\n",
              "  </thead>\n",
              "  <tbody>\n",
              "    <tr>\n",
              "      <th>0</th>\n",
              "      <td>CASUAL DINING</td>\n",
              "      <td>9438</td>\n",
              "      <td>Malwani, Goan, North Indian</td>\n",
              "      <td>11am – 4pm, 7:30pm – 11:30pm (Mon-Sun)</td>\n",
              "      <td>Thane</td>\n",
              "      <td>Dombivali East</td>\n",
              "      <td>3.6</td>\n",
              "      <td>49 votes</td>\n",
              "      <td>1200</td>\n",
              "    </tr>\n",
              "    <tr>\n",
              "      <th>1</th>\n",
              "      <td>CASUAL DINING,BAR</td>\n",
              "      <td>13198</td>\n",
              "      <td>Asian, Modern Indian, Japanese</td>\n",
              "      <td>6pm – 11pm (Mon-Sun)</td>\n",
              "      <td>Chennai</td>\n",
              "      <td>Ramapuram</td>\n",
              "      <td>4.2</td>\n",
              "      <td>30 votes</td>\n",
              "      <td>1500</td>\n",
              "    </tr>\n",
              "    <tr>\n",
              "      <th>2</th>\n",
              "      <td>CASUAL DINING</td>\n",
              "      <td>10915</td>\n",
              "      <td>North Indian, Chinese, Biryani, Hyderabadi</td>\n",
              "      <td>11am – 3:30pm, 7pm – 11pm (Mon-Sun)</td>\n",
              "      <td>Chennai</td>\n",
              "      <td>Saligramam</td>\n",
              "      <td>3.8</td>\n",
              "      <td>221 votes</td>\n",
              "      <td>800</td>\n",
              "    </tr>\n",
              "    <tr>\n",
              "      <th>3</th>\n",
              "      <td>QUICK BITES</td>\n",
              "      <td>6346</td>\n",
              "      <td>Tibetan, Chinese</td>\n",
              "      <td>11:30am – 1am (Mon-Sun)</td>\n",
              "      <td>Mumbai</td>\n",
              "      <td>Bandra West</td>\n",
              "      <td>4.1</td>\n",
              "      <td>24 votes</td>\n",
              "      <td>800</td>\n",
              "    </tr>\n",
              "    <tr>\n",
              "      <th>4</th>\n",
              "      <td>DESSERT PARLOR</td>\n",
              "      <td>15387</td>\n",
              "      <td>Desserts</td>\n",
              "      <td>11am – 1am (Mon-Sun)</td>\n",
              "      <td>Mumbai</td>\n",
              "      <td>Lower Parel</td>\n",
              "      <td>3.8</td>\n",
              "      <td>165 votes</td>\n",
              "      <td>300</td>\n",
              "    </tr>\n",
              "  </tbody>\n",
              "</table>\n",
              "</div>"
            ],
            "text/plain": [
              "               TITLE  RESTAURANT_ID  ...      VOTES  COST\n",
              "0      CASUAL DINING           9438  ...   49 votes  1200\n",
              "1  CASUAL DINING,BAR          13198  ...   30 votes  1500\n",
              "2      CASUAL DINING          10915  ...  221 votes   800\n",
              "3        QUICK BITES           6346  ...   24 votes   800\n",
              "4     DESSERT PARLOR          15387  ...  165 votes   300\n",
              "\n",
              "[5 rows x 9 columns]"
            ]
          },
          "metadata": {
            "tags": []
          },
          "execution_count": 4
        }
      ]
    },
    {
      "cell_type": "code",
      "metadata": {
        "colab": {
          "base_uri": "https://localhost:8080/",
          "height": 589
        },
        "id": "rdcRHq5FvUMd",
        "outputId": "cc935945-6b78-4d50-ea20-2610a757d0d4"
      },
      "source": [
        "Train_data"
      ],
      "execution_count": 5,
      "outputs": [
        {
          "output_type": "execute_result",
          "data": {
            "text/html": [
              "<div>\n",
              "<style scoped>\n",
              "    .dataframe tbody tr th:only-of-type {\n",
              "        vertical-align: middle;\n",
              "    }\n",
              "\n",
              "    .dataframe tbody tr th {\n",
              "        vertical-align: top;\n",
              "    }\n",
              "\n",
              "    .dataframe thead th {\n",
              "        text-align: right;\n",
              "    }\n",
              "</style>\n",
              "<table border=\"1\" class=\"dataframe\">\n",
              "  <thead>\n",
              "    <tr style=\"text-align: right;\">\n",
              "      <th></th>\n",
              "      <th>TITLE</th>\n",
              "      <th>RESTAURANT_ID</th>\n",
              "      <th>CUISINES</th>\n",
              "      <th>TIME</th>\n",
              "      <th>CITY</th>\n",
              "      <th>LOCALITY</th>\n",
              "      <th>RATING</th>\n",
              "      <th>VOTES</th>\n",
              "      <th>COST</th>\n",
              "    </tr>\n",
              "  </thead>\n",
              "  <tbody>\n",
              "    <tr>\n",
              "      <th>0</th>\n",
              "      <td>CASUAL DINING</td>\n",
              "      <td>9438</td>\n",
              "      <td>Malwani, Goan, North Indian</td>\n",
              "      <td>11am – 4pm, 7:30pm – 11:30pm (Mon-Sun)</td>\n",
              "      <td>Thane</td>\n",
              "      <td>Dombivali East</td>\n",
              "      <td>3.6</td>\n",
              "      <td>49 votes</td>\n",
              "      <td>1200</td>\n",
              "    </tr>\n",
              "    <tr>\n",
              "      <th>1</th>\n",
              "      <td>CASUAL DINING,BAR</td>\n",
              "      <td>13198</td>\n",
              "      <td>Asian, Modern Indian, Japanese</td>\n",
              "      <td>6pm – 11pm (Mon-Sun)</td>\n",
              "      <td>Chennai</td>\n",
              "      <td>Ramapuram</td>\n",
              "      <td>4.2</td>\n",
              "      <td>30 votes</td>\n",
              "      <td>1500</td>\n",
              "    </tr>\n",
              "    <tr>\n",
              "      <th>2</th>\n",
              "      <td>CASUAL DINING</td>\n",
              "      <td>10915</td>\n",
              "      <td>North Indian, Chinese, Biryani, Hyderabadi</td>\n",
              "      <td>11am – 3:30pm, 7pm – 11pm (Mon-Sun)</td>\n",
              "      <td>Chennai</td>\n",
              "      <td>Saligramam</td>\n",
              "      <td>3.8</td>\n",
              "      <td>221 votes</td>\n",
              "      <td>800</td>\n",
              "    </tr>\n",
              "    <tr>\n",
              "      <th>3</th>\n",
              "      <td>QUICK BITES</td>\n",
              "      <td>6346</td>\n",
              "      <td>Tibetan, Chinese</td>\n",
              "      <td>11:30am – 1am (Mon-Sun)</td>\n",
              "      <td>Mumbai</td>\n",
              "      <td>Bandra West</td>\n",
              "      <td>4.1</td>\n",
              "      <td>24 votes</td>\n",
              "      <td>800</td>\n",
              "    </tr>\n",
              "    <tr>\n",
              "      <th>4</th>\n",
              "      <td>DESSERT PARLOR</td>\n",
              "      <td>15387</td>\n",
              "      <td>Desserts</td>\n",
              "      <td>11am – 1am (Mon-Sun)</td>\n",
              "      <td>Mumbai</td>\n",
              "      <td>Lower Parel</td>\n",
              "      <td>3.8</td>\n",
              "      <td>165 votes</td>\n",
              "      <td>300</td>\n",
              "    </tr>\n",
              "    <tr>\n",
              "      <th>...</th>\n",
              "      <td>...</td>\n",
              "      <td>...</td>\n",
              "      <td>...</td>\n",
              "      <td>...</td>\n",
              "      <td>...</td>\n",
              "      <td>...</td>\n",
              "      <td>...</td>\n",
              "      <td>...</td>\n",
              "      <td>...</td>\n",
              "    </tr>\n",
              "    <tr>\n",
              "      <th>12685</th>\n",
              "      <td>QUICK BITES</td>\n",
              "      <td>13228</td>\n",
              "      <td>North Indian, Burger, Kebab</td>\n",
              "      <td>12noon – 12midnight (Mon, Tue, Wed, Thu, Sun)...</td>\n",
              "      <td>Hyderabad</td>\n",
              "      <td>Gachibowli</td>\n",
              "      <td>3.8</td>\n",
              "      <td>546 votes</td>\n",
              "      <td>500</td>\n",
              "    </tr>\n",
              "    <tr>\n",
              "      <th>12686</th>\n",
              "      <td>CASUAL DINING,BAR</td>\n",
              "      <td>9686</td>\n",
              "      <td>Goan, Continental</td>\n",
              "      <td>12noon – 1am (Mon-Fri),11am – 5pm, 7pm – 1am...</td>\n",
              "      <td>Mumbai</td>\n",
              "      <td>Bandra Kurla Complex</td>\n",
              "      <td>4.3</td>\n",
              "      <td>1214 votes</td>\n",
              "      <td>1800</td>\n",
              "    </tr>\n",
              "    <tr>\n",
              "      <th>12687</th>\n",
              "      <td>LOUNGE</td>\n",
              "      <td>11133</td>\n",
              "      <td>Finger Food, Continental, Asian, Chinese</td>\n",
              "      <td>12noon – 12:30AM (Mon-Sun)</td>\n",
              "      <td>Navi Mumbai</td>\n",
              "      <td>Vashi</td>\n",
              "      <td>4.0</td>\n",
              "      <td>608 votes</td>\n",
              "      <td>1300</td>\n",
              "    </tr>\n",
              "    <tr>\n",
              "      <th>12688</th>\n",
              "      <td>CASUAL DINING</td>\n",
              "      <td>6134</td>\n",
              "      <td>North Indian, South Indian, Chinese, Street Food</td>\n",
              "      <td>6am – 10:45pm (Mon-Sun)</td>\n",
              "      <td>Chennai</td>\n",
              "      <td>Maduravoyal</td>\n",
              "      <td>3.5</td>\n",
              "      <td>32 votes</td>\n",
              "      <td>400</td>\n",
              "    </tr>\n",
              "    <tr>\n",
              "      <th>12689</th>\n",
              "      <td>CASUAL DINING</td>\n",
              "      <td>6430</td>\n",
              "      <td>North Indian, Chinese</td>\n",
              "      <td>12:30pm – 11pm (Mon-Sun)</td>\n",
              "      <td>Hyderabad</td>\n",
              "      <td>Vanasthalipuram</td>\n",
              "      <td>3.4</td>\n",
              "      <td>677 votes</td>\n",
              "      <td>600</td>\n",
              "    </tr>\n",
              "  </tbody>\n",
              "</table>\n",
              "<p>12690 rows × 9 columns</p>\n",
              "</div>"
            ],
            "text/plain": [
              "                   TITLE  RESTAURANT_ID  ...       VOTES  COST\n",
              "0          CASUAL DINING           9438  ...    49 votes  1200\n",
              "1      CASUAL DINING,BAR          13198  ...    30 votes  1500\n",
              "2          CASUAL DINING          10915  ...   221 votes   800\n",
              "3            QUICK BITES           6346  ...    24 votes   800\n",
              "4         DESSERT PARLOR          15387  ...   165 votes   300\n",
              "...                  ...            ...  ...         ...   ...\n",
              "12685        QUICK BITES          13228  ...   546 votes   500\n",
              "12686  CASUAL DINING,BAR           9686  ...  1214 votes  1800\n",
              "12687             LOUNGE          11133  ...   608 votes  1300\n",
              "12688      CASUAL DINING           6134  ...    32 votes   400\n",
              "12689      CASUAL DINING           6430  ...   677 votes   600\n",
              "\n",
              "[12690 rows x 9 columns]"
            ]
          },
          "metadata": {
            "tags": []
          },
          "execution_count": 5
        }
      ]
    },
    {
      "cell_type": "code",
      "metadata": {
        "colab": {
          "base_uri": "https://localhost:8080/",
          "height": 204
        },
        "id": "_m7G9n6bvaXO",
        "outputId": "bf699f74-6571-4234-8503-4e91a1ed68ff"
      },
      "source": [
        "# Seeing first five rows of Testing data\r\n",
        "Test_data.head()"
      ],
      "execution_count": 6,
      "outputs": [
        {
          "output_type": "execute_result",
          "data": {
            "text/html": [
              "<div>\n",
              "<style scoped>\n",
              "    .dataframe tbody tr th:only-of-type {\n",
              "        vertical-align: middle;\n",
              "    }\n",
              "\n",
              "    .dataframe tbody tr th {\n",
              "        vertical-align: top;\n",
              "    }\n",
              "\n",
              "    .dataframe thead th {\n",
              "        text-align: right;\n",
              "    }\n",
              "</style>\n",
              "<table border=\"1\" class=\"dataframe\">\n",
              "  <thead>\n",
              "    <tr style=\"text-align: right;\">\n",
              "      <th></th>\n",
              "      <th>TITLE</th>\n",
              "      <th>RESTAURANT_ID</th>\n",
              "      <th>CUISINES</th>\n",
              "      <th>TIME</th>\n",
              "      <th>CITY</th>\n",
              "      <th>LOCALITY</th>\n",
              "      <th>RATING</th>\n",
              "      <th>VOTES</th>\n",
              "    </tr>\n",
              "  </thead>\n",
              "  <tbody>\n",
              "    <tr>\n",
              "      <th>0</th>\n",
              "      <td>CASUAL DINING</td>\n",
              "      <td>4085</td>\n",
              "      <td>North Indian, Chinese, Mughlai, Kebab</td>\n",
              "      <td>12noon – 12midnight (Mon-Sun)</td>\n",
              "      <td>Noida</td>\n",
              "      <td>Sector 18</td>\n",
              "      <td>4.3</td>\n",
              "      <td>564 votes</td>\n",
              "    </tr>\n",
              "    <tr>\n",
              "      <th>1</th>\n",
              "      <td>QUICK BITES</td>\n",
              "      <td>12680</td>\n",
              "      <td>South Indian, Fast Food, Pizza, North Indian</td>\n",
              "      <td>7am – 12:30AM (Mon-Sun)</td>\n",
              "      <td>Mumbai</td>\n",
              "      <td>Grant Road</td>\n",
              "      <td>4.2</td>\n",
              "      <td>61 votes</td>\n",
              "    </tr>\n",
              "    <tr>\n",
              "      <th>2</th>\n",
              "      <td>CASUAL DINING</td>\n",
              "      <td>1411</td>\n",
              "      <td>North Indian, Seafood, Biryani, Chinese</td>\n",
              "      <td>11am – 11:30pm (Mon-Sun)</td>\n",
              "      <td>Mumbai</td>\n",
              "      <td>Marine Lines</td>\n",
              "      <td>3.8</td>\n",
              "      <td>350 votes</td>\n",
              "    </tr>\n",
              "    <tr>\n",
              "      <th>3</th>\n",
              "      <td>None</td>\n",
              "      <td>204</td>\n",
              "      <td>Biryani</td>\n",
              "      <td>9am – 10pm (Mon, Wed, Thu, Fri, Sat, Sun), 10:...</td>\n",
              "      <td>Faridabad</td>\n",
              "      <td>NIT</td>\n",
              "      <td>3.8</td>\n",
              "      <td>1445 votes</td>\n",
              "    </tr>\n",
              "    <tr>\n",
              "      <th>4</th>\n",
              "      <td>QUICK BITES</td>\n",
              "      <td>13453</td>\n",
              "      <td>South Indian, Kerala</td>\n",
              "      <td>11am – 10pm (Mon-Sun)</td>\n",
              "      <td>Kochi</td>\n",
              "      <td>Kaloor</td>\n",
              "      <td>3.6</td>\n",
              "      <td>23 votes</td>\n",
              "    </tr>\n",
              "  </tbody>\n",
              "</table>\n",
              "</div>"
            ],
            "text/plain": [
              "           TITLE  RESTAURANT_ID  ... RATING       VOTES\n",
              "0  CASUAL DINING           4085  ...    4.3   564 votes\n",
              "1    QUICK BITES          12680  ...    4.2    61 votes\n",
              "2  CASUAL DINING           1411  ...    3.8   350 votes\n",
              "3           None            204  ...    3.8  1445 votes\n",
              "4    QUICK BITES          13453  ...    3.6    23 votes\n",
              "\n",
              "[5 rows x 8 columns]"
            ]
          },
          "metadata": {
            "tags": []
          },
          "execution_count": 6
        }
      ]
    },
    {
      "cell_type": "code",
      "metadata": {
        "colab": {
          "base_uri": "https://localhost:8080/"
        },
        "id": "vdrQ6FZNv6UO",
        "outputId": "27f72ccc-b67a-4d46-b4ca-099e7ada7ad2"
      },
      "source": [
        "# Checking the shape of train and test data\r\n",
        "\r\n",
        "print('Train_data:',Train_data.shape)\r\n",
        "print('\\n')\r\n",
        "print('Test_data:',Test_data.shape)"
      ],
      "execution_count": 7,
      "outputs": [
        {
          "output_type": "stream",
          "text": [
            "Train_data: (12690, 9)\n",
            "\n",
            "\n",
            "Test_data: (4231, 8)\n"
          ],
          "name": "stdout"
        }
      ]
    },
    {
      "cell_type": "markdown",
      "metadata": {
        "id": "rC-2VAR6v94u"
      },
      "source": [
        "## **Train_data**"
      ]
    },
    {
      "cell_type": "code",
      "metadata": {
        "colab": {
          "base_uri": "https://localhost:8080/"
        },
        "id": "8CrDk76xwwDe",
        "outputId": "f3255493-84bb-4fcd-f271-e46bb841daf0"
      },
      "source": [
        "#Checking the shape of Train data\r\n",
        "Train_data.shape"
      ],
      "execution_count": 8,
      "outputs": [
        {
          "output_type": "execute_result",
          "data": {
            "text/plain": [
              "(12690, 9)"
            ]
          },
          "metadata": {
            "tags": []
          },
          "execution_count": 8
        }
      ]
    },
    {
      "cell_type": "markdown",
      "metadata": {
        "id": "p3T3SB68w4W4"
      },
      "source": [
        "Observation:\r\n",
        "\r\n",
        "There are 12690 rows and 9 columns are present in train dataset"
      ]
    },
    {
      "cell_type": "code",
      "metadata": {
        "colab": {
          "base_uri": "https://localhost:8080/"
        },
        "id": "C-uCqXgsxBX_",
        "outputId": "ebce0820-b274-49db-c55b-90781cb5b6f1"
      },
      "source": [
        "#Checking the columns of Train data\r\n",
        "Train_data.columns"
      ],
      "execution_count": 9,
      "outputs": [
        {
          "output_type": "execute_result",
          "data": {
            "text/plain": [
              "Index(['TITLE', 'RESTAURANT_ID', 'CUISINES', 'TIME', 'CITY', 'LOCALITY',\n",
              "       'RATING', 'VOTES', 'COST'],\n",
              "      dtype='object')"
            ]
          },
          "metadata": {
            "tags": []
          },
          "execution_count": 9
        }
      ]
    },
    {
      "cell_type": "markdown",
      "metadata": {
        "id": "h9Fx2CAhxEuG"
      },
      "source": [
        "**checking for missing values**"
      ]
    },
    {
      "cell_type": "code",
      "metadata": {
        "colab": {
          "base_uri": "https://localhost:8080/"
        },
        "id": "aElh4WngxSTk",
        "outputId": "40fe9998-0914-4f51-9dcf-17c8c2d3cac1"
      },
      "source": [
        "#Checking  for  anynull values\r\n",
        "Train_data.isnull().values.any()"
      ],
      "execution_count": 10,
      "outputs": [
        {
          "output_type": "execute_result",
          "data": {
            "text/plain": [
              "True"
            ]
          },
          "metadata": {
            "tags": []
          },
          "execution_count": 10
        }
      ]
    },
    {
      "cell_type": "code",
      "metadata": {
        "id": "5Z_Xpn5UxU1C",
        "colab": {
          "base_uri": "https://localhost:8080/"
        },
        "outputId": "acb70973-f4e0-473e-8ee0-da86303a130e"
      },
      "source": [
        "#checking for null values in columns\r\n",
        "Train_data.isnull().sum()"
      ],
      "execution_count": 11,
      "outputs": [
        {
          "output_type": "execute_result",
          "data": {
            "text/plain": [
              "TITLE               0\n",
              "RESTAURANT_ID       0\n",
              "CUISINES            0\n",
              "TIME                0\n",
              "CITY              112\n",
              "LOCALITY           98\n",
              "RATING              2\n",
              "VOTES            1204\n",
              "COST                0\n",
              "dtype: int64"
            ]
          },
          "metadata": {
            "tags": []
          },
          "execution_count": 11
        }
      ]
    },
    {
      "cell_type": "code",
      "metadata": {
        "id": "GUOyv6S1xXdD",
        "colab": {
          "base_uri": "https://localhost:8080/",
          "height": 341
        },
        "outputId": "81e54d1c-2741-4feb-e946-52e956ddbdcb"
      },
      "source": [
        "#Now we check  for null value via visualization\r\n",
        "\r\n",
        "sns.heatmap(Train_data.isnull(),yticklabels=False,cbar=True,cmap='tab20_r')\r\n",
        "plt.show()"
      ],
      "execution_count": 12,
      "outputs": [
        {
          "output_type": "display_data",
          "data": {
            "image/png": "[encoded data removed]",
            "text/plain": [
              "<Figure size 432x288 with 2 Axes>"
            ]
          },
          "metadata": {
            "tags": [],
            "needs_background": "light"
          }
        }
      ]
    },
    {
      "cell_type": "markdown",
      "metadata": {
        "id": "1WbNrOZN330f"
      },
      "source": [
        "Observation:\r\n",
        "\r\n",
        "1-There are 112 null values are present in CITY column.\r\n",
        "\r\n",
        "2-98 null values are present in LOCALITY column.\r\n",
        "\r\n",
        "3-2 null values present in RATING column.\r\n",
        "\r\n",
        "4-1204 null values are present in VOTES column."
      ]
    },
    {
      "cell_type": "code",
      "metadata": {
        "colab": {
          "base_uri": "https://localhost:8080/"
        },
        "id": "U75oXNWS3Mmj",
        "outputId": "2415de3b-bbec-4f99-e497-7b31c7f29548"
      },
      "source": [
        "#checking the information of column\r\n",
        "Train_data.info()"
      ],
      "execution_count": 13,
      "outputs": [
        {
          "output_type": "stream",
          "text": [
            "<class 'pandas.core.frame.DataFrame'>\n",
            "RangeIndex: 12690 entries, 0 to 12689\n",
            "Data columns (total 9 columns):\n",
            " #   Column         Non-Null Count  Dtype \n",
            "---  ------         --------------  ----- \n",
            " 0   TITLE          12690 non-null  object\n",
            " 1   RESTAURANT_ID  12690 non-null  int64 \n",
            " 2   CUISINES       12690 non-null  object\n",
            " 3   TIME           12690 non-null  object\n",
            " 4   CITY           12578 non-null  object\n",
            " 5   LOCALITY       12592 non-null  object\n",
            " 6   RATING         12688 non-null  object\n",
            " 7   VOTES          11486 non-null  object\n",
            " 8   COST           12690 non-null  int64 \n",
            "dtypes: int64(2), object(7)\n",
            "memory usage: 892.4+ KB\n"
          ],
          "name": "stdout"
        }
      ]
    },
    {
      "cell_type": "markdown",
      "metadata": {
        "id": "9710mv9q4jpt"
      },
      "source": [
        "Observation:\r\n",
        "\r\n",
        "1-CITY, LOCALITY, RATING AND VOTES column contain missing values.\r\n",
        "\r\n",
        "2-All of these  varibles are of categorical datatype .So, we impute the missing values with most frequent value i.e. mode."
      ]
    },
    {
      "cell_type": "code",
      "metadata": {
        "id": "kZzoS5rk4ei1"
      },
      "source": [
        "#Imputing the missing value with mode\r\n",
        "\r\n",
        "for col in ['CITY','LOCALITY','RATING','VOTES']:\r\n",
        "  Train_data[col].fillna(Train_data[col].mode()[0],inplace=True)"
      ],
      "execution_count": 14,
      "outputs": []
    },
    {
      "cell_type": "code",
      "metadata": {
        "colab": {
          "base_uri": "https://localhost:8080/"
        },
        "id": "2GEqTSfY-fOG",
        "outputId": "84a0afc6-9a93-4b00-e03c-14bb49a30474"
      },
      "source": [
        "#now again check for missing values\r\n",
        "Train_data.isnull().values.any()"
      ],
      "execution_count": 15,
      "outputs": [
        {
          "output_type": "execute_result",
          "data": {
            "text/plain": [
              "False"
            ]
          },
          "metadata": {
            "tags": []
          },
          "execution_count": 15
        }
      ]
    },
    {
      "cell_type": "code",
      "metadata": {
        "colab": {
          "base_uri": "https://localhost:8080/"
        },
        "id": "T89oP6rd_ZTC",
        "outputId": "d2f2f867-af38-4a53-84e6-016704aa66f6"
      },
      "source": [
        "#checking for null values in columns again\r\n",
        "Train_data.isnull().sum()"
      ],
      "execution_count": 16,
      "outputs": [
        {
          "output_type": "execute_result",
          "data": {
            "text/plain": [
              "TITLE            0\n",
              "RESTAURANT_ID    0\n",
              "CUISINES         0\n",
              "TIME             0\n",
              "CITY             0\n",
              "LOCALITY         0\n",
              "RATING           0\n",
              "VOTES            0\n",
              "COST             0\n",
              "dtype: int64"
            ]
          },
          "metadata": {
            "tags": []
          },
          "execution_count": 16
        }
      ]
    },
    {
      "cell_type": "markdown",
      "metadata": {
        "id": "krejp10O_bte"
      },
      "source": [
        "Observation :\r\n",
        "\r\n",
        "There is no null value present in our dataset."
      ]
    },
    {
      "cell_type": "code",
      "metadata": {
        "colab": {
          "base_uri": "https://localhost:8080/"
        },
        "id": "SjaR7cav_fIl",
        "outputId": "2cca3746-c119-48cc-da4b-5329bce19637"
      },
      "source": [
        "#Now checking the shape\r\n",
        "Train_data.shape"
      ],
      "execution_count": 17,
      "outputs": [
        {
          "output_type": "execute_result",
          "data": {
            "text/plain": [
              "(12690, 9)"
            ]
          },
          "metadata": {
            "tags": []
          },
          "execution_count": 17
        }
      ]
    },
    {
      "cell_type": "code",
      "metadata": {
        "colab": {
          "base_uri": "https://localhost:8080/"
        },
        "id": "3obHCZeB_ipN",
        "outputId": "6137416e-5922-4016-93fc-f52d6fd5564b"
      },
      "source": [
        "#checking the datatypes of train dataset\r\n",
        "Train_data.dtypes"
      ],
      "execution_count": 18,
      "outputs": [
        {
          "output_type": "execute_result",
          "data": {
            "text/plain": [
              "TITLE            object\n",
              "RESTAURANT_ID     int64\n",
              "CUISINES         object\n",
              "TIME             object\n",
              "CITY             object\n",
              "LOCALITY         object\n",
              "RATING           object\n",
              "VOTES            object\n",
              "COST              int64\n",
              "dtype: object"
            ]
          },
          "metadata": {
            "tags": []
          },
          "execution_count": 18
        }
      ]
    },
    {
      "cell_type": "markdown",
      "metadata": {
        "id": "NEPCklF5_knQ"
      },
      "source": [
        "Observation\r\n",
        "\r\n",
        "1- All the columns are object type except RESTAURANT_ID and COST column which are int data type .COST is  our independent variable.\r\n",
        "\r\n",
        "2- Before going further we have to change the data type of column which have object data type and also we have to change the value inside the columns because our model does not understand string values."
      ]
    },
    {
      "cell_type": "markdown",
      "metadata": {
        "id": "AqIraZgmBTGq"
      },
      "source": [
        "**We have to create separate columns for TITLE, CUISINES, TIME for analyzing**"
      ]
    },
    {
      "cell_type": "code",
      "metadata": {
        "id": "qGnUgzjU8j0X"
      },
      "source": [
        "#Splitting Titles in two various columns\r\n",
        "Train_data['TITLE_1'] = Train_data['TITLE'].str.split(',').str[0]\r\n",
        "Train_data['TITLE_2'] = Train_data['TITLE'].str.split(',').str[1]"
      ],
      "execution_count": 19,
      "outputs": []
    },
    {
      "cell_type": "code",
      "metadata": {
        "id": "-m12qsxHATFy"
      },
      "source": [
        "#Splitting cousines in four various columns\r\n",
        "Train_data['CUISINES_1'] = Train_data['CUISINES'].str.split(',').str[0]\r\n",
        "Train_data['CUISINES_2'] = Train_data['CUISINES'].str.split(',').str[1]\r\n",
        "Train_data['CUISINES_3'] = Train_data['CUISINES'].str.split(',').str[2]\r\n",
        "Train_data['CUISINES_4'] = Train_data['CUISINES'].str.split(',').str[3]"
      ],
      "execution_count": 20,
      "outputs": []
    },
    {
      "cell_type": "code",
      "metadata": {
        "id": "b2qlTMKKAtVD"
      },
      "source": [
        "#Splitting Time in two various columns\r\n",
        "Train_data['TIME_1'] = Train_data['TIME'].str.split(',').str[0]\r\n",
        "Train_data['TIME_2'] = Train_data['TIME'].str.split(',').str[1]"
      ],
      "execution_count": 21,
      "outputs": []
    },
    {
      "cell_type": "code",
      "metadata": {
        "id": "BSaOU4nT6wba"
      },
      "source": [
        "#now we drop title, time and ciusine columns as it has no use\r\n",
        "Train_data.drop(['TITLE'],axis=1, inplace= True)\r\n",
        "Train_data.drop(['CUISINES'],axis=1, inplace= True)\r\n",
        "Train_data.drop(['TIME'],axis=1, inplace= True)"
      ],
      "execution_count": 22,
      "outputs": []
    },
    {
      "cell_type": "code",
      "metadata": {
        "colab": {
          "base_uri": "https://localhost:8080/",
          "height": 306
        },
        "id": "JTBcggKb8LCQ",
        "outputId": "3292a02d-6f60-4221-9537-aa4648b680a2"
      },
      "source": [
        "Train_data.head()"
      ],
      "execution_count": 23,
      "outputs": [
        {
          "output_type": "execute_result",
          "data": {
            "text/html": [
              "<div>\n",
              "<style scoped>\n",
              "    .dataframe tbody tr th:only-of-type {\n",
              "        vertical-align: middle;\n",
              "    }\n",
              "\n",
              "    .dataframe tbody tr th {\n",
              "        vertical-align: top;\n",
              "    }\n",
              "\n",
              "    .dataframe thead th {\n",
              "        text-align: right;\n",
              "    }\n",
              "</style>\n",
              "<table border=\"1\" class=\"dataframe\">\n",
              "  <thead>\n",
              "    <tr style=\"text-align: right;\">\n",
              "      <th></th>\n",
              "      <th>RESTAURANT_ID</th>\n",
              "      <th>CITY</th>\n",
              "      <th>LOCALITY</th>\n",
              "      <th>RATING</th>\n",
              "      <th>VOTES</th>\n",
              "      <th>COST</th>\n",
              "      <th>TITLE_1</th>\n",
              "      <th>TITLE_2</th>\n",
              "      <th>CUISINES_1</th>\n",
              "      <th>CUISINES_2</th>\n",
              "      <th>CUISINES_3</th>\n",
              "      <th>CUISINES_4</th>\n",
              "      <th>TIME_1</th>\n",
              "      <th>TIME_2</th>\n",
              "    </tr>\n",
              "  </thead>\n",
              "  <tbody>\n",
              "    <tr>\n",
              "      <th>0</th>\n",
              "      <td>9438</td>\n",
              "      <td>Thane</td>\n",
              "      <td>Dombivali East</td>\n",
              "      <td>3.6</td>\n",
              "      <td>49 votes</td>\n",
              "      <td>1200</td>\n",
              "      <td>CASUAL DINING</td>\n",
              "      <td>NaN</td>\n",
              "      <td>Malwani</td>\n",
              "      <td>Goan</td>\n",
              "      <td>North Indian</td>\n",
              "      <td>NaN</td>\n",
              "      <td>11am – 4pm</td>\n",
              "      <td>7:30pm – 11:30pm (Mon-Sun)</td>\n",
              "    </tr>\n",
              "    <tr>\n",
              "      <th>1</th>\n",
              "      <td>13198</td>\n",
              "      <td>Chennai</td>\n",
              "      <td>Ramapuram</td>\n",
              "      <td>4.2</td>\n",
              "      <td>30 votes</td>\n",
              "      <td>1500</td>\n",
              "      <td>CASUAL DINING</td>\n",
              "      <td>BAR</td>\n",
              "      <td>Asian</td>\n",
              "      <td>Modern Indian</td>\n",
              "      <td>Japanese</td>\n",
              "      <td>NaN</td>\n",
              "      <td>6pm – 11pm (Mon-Sun)</td>\n",
              "      <td>NaN</td>\n",
              "    </tr>\n",
              "    <tr>\n",
              "      <th>2</th>\n",
              "      <td>10915</td>\n",
              "      <td>Chennai</td>\n",
              "      <td>Saligramam</td>\n",
              "      <td>3.8</td>\n",
              "      <td>221 votes</td>\n",
              "      <td>800</td>\n",
              "      <td>CASUAL DINING</td>\n",
              "      <td>NaN</td>\n",
              "      <td>North Indian</td>\n",
              "      <td>Chinese</td>\n",
              "      <td>Biryani</td>\n",
              "      <td>Hyderabadi</td>\n",
              "      <td>11am – 3:30pm</td>\n",
              "      <td>7pm – 11pm (Mon-Sun)</td>\n",
              "    </tr>\n",
              "    <tr>\n",
              "      <th>3</th>\n",
              "      <td>6346</td>\n",
              "      <td>Mumbai</td>\n",
              "      <td>Bandra West</td>\n",
              "      <td>4.1</td>\n",
              "      <td>24 votes</td>\n",
              "      <td>800</td>\n",
              "      <td>QUICK BITES</td>\n",
              "      <td>NaN</td>\n",
              "      <td>Tibetan</td>\n",
              "      <td>Chinese</td>\n",
              "      <td>NaN</td>\n",
              "      <td>NaN</td>\n",
              "      <td>11:30am – 1am (Mon-Sun)</td>\n",
              "      <td>NaN</td>\n",
              "    </tr>\n",
              "    <tr>\n",
              "      <th>4</th>\n",
              "      <td>15387</td>\n",
              "      <td>Mumbai</td>\n",
              "      <td>Lower Parel</td>\n",
              "      <td>3.8</td>\n",
              "      <td>165 votes</td>\n",
              "      <td>300</td>\n",
              "      <td>DESSERT PARLOR</td>\n",
              "      <td>NaN</td>\n",
              "      <td>Desserts</td>\n",
              "      <td>NaN</td>\n",
              "      <td>NaN</td>\n",
              "      <td>NaN</td>\n",
              "      <td>11am – 1am (Mon-Sun)</td>\n",
              "      <td>NaN</td>\n",
              "    </tr>\n",
              "  </tbody>\n",
              "</table>\n",
              "</div>"
            ],
            "text/plain": [
              "   RESTAURANT_ID     CITY  ...                   TIME_1                       TIME_2\n",
              "0           9438    Thane  ...               11am – 4pm   7:30pm – 11:30pm (Mon-Sun)\n",
              "1          13198  Chennai  ...     6pm – 11pm (Mon-Sun)                          NaN\n",
              "2          10915  Chennai  ...            11am – 3:30pm         7pm – 11pm (Mon-Sun)\n",
              "3           6346   Mumbai  ...  11:30am – 1am (Mon-Sun)                          NaN\n",
              "4          15387   Mumbai  ...     11am – 1am (Mon-Sun)                          NaN\n",
              "\n",
              "[5 rows x 14 columns]"
            ]
          },
          "metadata": {
            "tags": []
          },
          "execution_count": 23
        }
      ]
    },
    {
      "cell_type": "code",
      "metadata": {
        "colab": {
          "base_uri": "https://localhost:8080/"
        },
        "id": "4wA7BXJs_ku7",
        "outputId": "72ac0240-54e3-4274-d224-dc043b0786ca"
      },
      "source": [
        "#checking  for null values again\r\n",
        "Train_data.isnull().values.any()"
      ],
      "execution_count": 24,
      "outputs": [
        {
          "output_type": "execute_result",
          "data": {
            "text/plain": [
              "True"
            ]
          },
          "metadata": {
            "tags": []
          },
          "execution_count": 24
        }
      ]
    },
    {
      "cell_type": "markdown",
      "metadata": {
        "id": "8TqeZCLbCxCR"
      },
      "source": [
        "Observation:\r\n",
        "\r\n",
        "We see there are null values and there is 'None' present in our dataset which is treated as null values."
      ]
    },
    {
      "cell_type": "code",
      "metadata": {
        "colab": {
          "base_uri": "https://localhost:8080/"
        },
        "id": "-1Yb7KMPDHih",
        "outputId": "4102c134-2eba-4dc8-8a48-549771866e20"
      },
      "source": [
        "#checking the information of dataset\r\n",
        "Train_data.info()"
      ],
      "execution_count": 25,
      "outputs": [
        {
          "output_type": "stream",
          "text": [
            "<class 'pandas.core.frame.DataFrame'>\n",
            "RangeIndex: 12690 entries, 0 to 12689\n",
            "Data columns (total 14 columns):\n",
            " #   Column         Non-Null Count  Dtype \n",
            "---  ------         --------------  ----- \n",
            " 0   RESTAURANT_ID  12690 non-null  int64 \n",
            " 1   CITY           12690 non-null  object\n",
            " 2   LOCALITY       12690 non-null  object\n",
            " 3   RATING         12690 non-null  object\n",
            " 4   VOTES          12690 non-null  object\n",
            " 5   COST           12690 non-null  int64 \n",
            " 6   TITLE_1        12690 non-null  object\n",
            " 7   TITLE_2        1482 non-null   object\n",
            " 8   CUISINES_1     12690 non-null  object\n",
            " 9   CUISINES_2     9628 non-null   object\n",
            " 10  CUISINES_3     5691 non-null   object\n",
            " 11  CUISINES_4     2695 non-null   object\n",
            " 12  TIME_1         12690 non-null  object\n",
            " 13  TIME_2         3252 non-null   object\n",
            "dtypes: int64(2), object(12)\n",
            "memory usage: 1.4+ MB\n"
          ],
          "name": "stdout"
        }
      ]
    },
    {
      "cell_type": "markdown",
      "metadata": {
        "id": "Cwu9BmWNDKBl"
      },
      "source": [
        "Oservation:\r\n",
        "    \r\n",
        "There are  missing values in our dataset also'None' is present so we will encode this as Nan value."
      ]
    },
    {
      "cell_type": "code",
      "metadata": {
        "colab": {
          "base_uri": "https://localhost:8080/",
          "height": 759
        },
        "collapsed": true,
        "id": "dpTxe8IrDoGC",
        "outputId": "b45ab9a0-1a21-4af6-fec4-40a2e87b3603"
      },
      "source": [
        "#Replacing the 'None' with NaN\r\n",
        "Train_data=Train_data.replace('None',np.nan)\r\n",
        "Train_data"
      ],
      "execution_count": 26,
      "outputs": [
        {
          "output_type": "execute_result",
          "data": {
            "text/html": [
              "<div>\n",
              "<style scoped>\n",
              "    .dataframe tbody tr th:only-of-type {\n",
              "        vertical-align: middle;\n",
              "    }\n",
              "\n",
              "    .dataframe tbody tr th {\n",
              "        vertical-align: top;\n",
              "    }\n",
              "\n",
              "    .dataframe thead th {\n",
              "        text-align: right;\n",
              "    }\n",
              "</style>\n",
              "<table border=\"1\" class=\"dataframe\">\n",
              "  <thead>\n",
              "    <tr style=\"text-align: right;\">\n",
              "      <th></th>\n",
              "      <th>RESTAURANT_ID</th>\n",
              "      <th>CITY</th>\n",
              "      <th>LOCALITY</th>\n",
              "      <th>RATING</th>\n",
              "      <th>VOTES</th>\n",
              "      <th>COST</th>\n",
              "      <th>TITLE_1</th>\n",
              "      <th>TITLE_2</th>\n",
              "      <th>CUISINES_1</th>\n",
              "      <th>CUISINES_2</th>\n",
              "      <th>CUISINES_3</th>\n",
              "      <th>CUISINES_4</th>\n",
              "      <th>TIME_1</th>\n",
              "      <th>TIME_2</th>\n",
              "    </tr>\n",
              "  </thead>\n",
              "  <tbody>\n",
              "    <tr>\n",
              "      <th>0</th>\n",
              "      <td>9438</td>\n",
              "      <td>Thane</td>\n",
              "      <td>Dombivali East</td>\n",
              "      <td>3.6</td>\n",
              "      <td>49 votes</td>\n",
              "      <td>1200</td>\n",
              "      <td>CASUAL DINING</td>\n",
              "      <td>NaN</td>\n",
              "      <td>Malwani</td>\n",
              "      <td>Goan</td>\n",
              "      <td>North Indian</td>\n",
              "      <td>NaN</td>\n",
              "      <td>11am – 4pm</td>\n",
              "      <td>7:30pm – 11:30pm (Mon-Sun)</td>\n",
              "    </tr>\n",
              "    <tr>\n",
              "      <th>1</th>\n",
              "      <td>13198</td>\n",
              "      <td>Chennai</td>\n",
              "      <td>Ramapuram</td>\n",
              "      <td>4.2</td>\n",
              "      <td>30 votes</td>\n",
              "      <td>1500</td>\n",
              "      <td>CASUAL DINING</td>\n",
              "      <td>BAR</td>\n",
              "      <td>Asian</td>\n",
              "      <td>Modern Indian</td>\n",
              "      <td>Japanese</td>\n",
              "      <td>NaN</td>\n",
              "      <td>6pm – 11pm (Mon-Sun)</td>\n",
              "      <td>NaN</td>\n",
              "    </tr>\n",
              "    <tr>\n",
              "      <th>2</th>\n",
              "      <td>10915</td>\n",
              "      <td>Chennai</td>\n",
              "      <td>Saligramam</td>\n",
              "      <td>3.8</td>\n",
              "      <td>221 votes</td>\n",
              "      <td>800</td>\n",
              "      <td>CASUAL DINING</td>\n",
              "      <td>NaN</td>\n",
              "      <td>North Indian</td>\n",
              "      <td>Chinese</td>\n",
              "      <td>Biryani</td>\n",
              "      <td>Hyderabadi</td>\n",
              "      <td>11am – 3:30pm</td>\n",
              "      <td>7pm – 11pm (Mon-Sun)</td>\n",
              "    </tr>\n",
              "    <tr>\n",
              "      <th>3</th>\n",
              "      <td>6346</td>\n",
              "      <td>Mumbai</td>\n",
              "      <td>Bandra West</td>\n",
              "      <td>4.1</td>\n",
              "      <td>24 votes</td>\n",
              "      <td>800</td>\n",
              "      <td>QUICK BITES</td>\n",
              "      <td>NaN</td>\n",
              "      <td>Tibetan</td>\n",
              "      <td>Chinese</td>\n",
              "      <td>NaN</td>\n",
              "      <td>NaN</td>\n",
              "      <td>11:30am – 1am (Mon-Sun)</td>\n",
              "      <td>NaN</td>\n",
              "    </tr>\n",
              "    <tr>\n",
              "      <th>4</th>\n",
              "      <td>15387</td>\n",
              "      <td>Mumbai</td>\n",
              "      <td>Lower Parel</td>\n",
              "      <td>3.8</td>\n",
              "      <td>165 votes</td>\n",
              "      <td>300</td>\n",
              "      <td>DESSERT PARLOR</td>\n",
              "      <td>NaN</td>\n",
              "      <td>Desserts</td>\n",
              "      <td>NaN</td>\n",
              "      <td>NaN</td>\n",
              "      <td>NaN</td>\n",
              "      <td>11am – 1am (Mon-Sun)</td>\n",
              "      <td>NaN</td>\n",
              "    </tr>\n",
              "    <tr>\n",
              "      <th>...</th>\n",
              "      <td>...</td>\n",
              "      <td>...</td>\n",
              "      <td>...</td>\n",
              "      <td>...</td>\n",
              "      <td>...</td>\n",
              "      <td>...</td>\n",
              "      <td>...</td>\n",
              "      <td>...</td>\n",
              "      <td>...</td>\n",
              "      <td>...</td>\n",
              "      <td>...</td>\n",
              "      <td>...</td>\n",
              "      <td>...</td>\n",
              "      <td>...</td>\n",
              "    </tr>\n",
              "    <tr>\n",
              "      <th>12685</th>\n",
              "      <td>13228</td>\n",
              "      <td>Hyderabad</td>\n",
              "      <td>Gachibowli</td>\n",
              "      <td>3.8</td>\n",
              "      <td>546 votes</td>\n",
              "      <td>500</td>\n",
              "      <td>QUICK BITES</td>\n",
              "      <td>NaN</td>\n",
              "      <td>North Indian</td>\n",
              "      <td>Burger</td>\n",
              "      <td>Kebab</td>\n",
              "      <td>NaN</td>\n",
              "      <td>12noon – 12midnight (Mon</td>\n",
              "      <td>Tue</td>\n",
              "    </tr>\n",
              "    <tr>\n",
              "      <th>12686</th>\n",
              "      <td>9686</td>\n",
              "      <td>Mumbai</td>\n",
              "      <td>Bandra Kurla Complex</td>\n",
              "      <td>4.3</td>\n",
              "      <td>1214 votes</td>\n",
              "      <td>1800</td>\n",
              "      <td>CASUAL DINING</td>\n",
              "      <td>BAR</td>\n",
              "      <td>Goan</td>\n",
              "      <td>Continental</td>\n",
              "      <td>NaN</td>\n",
              "      <td>NaN</td>\n",
              "      <td>12noon – 1am (Mon-Fri)</td>\n",
              "      <td>11am – 5pm</td>\n",
              "    </tr>\n",
              "    <tr>\n",
              "      <th>12687</th>\n",
              "      <td>11133</td>\n",
              "      <td>Navi Mumbai</td>\n",
              "      <td>Vashi</td>\n",
              "      <td>4.0</td>\n",
              "      <td>608 votes</td>\n",
              "      <td>1300</td>\n",
              "      <td>LOUNGE</td>\n",
              "      <td>NaN</td>\n",
              "      <td>Finger Food</td>\n",
              "      <td>Continental</td>\n",
              "      <td>Asian</td>\n",
              "      <td>Chinese</td>\n",
              "      <td>12noon – 12:30AM (Mon-Sun)</td>\n",
              "      <td>NaN</td>\n",
              "    </tr>\n",
              "    <tr>\n",
              "      <th>12688</th>\n",
              "      <td>6134</td>\n",
              "      <td>Chennai</td>\n",
              "      <td>Maduravoyal</td>\n",
              "      <td>3.5</td>\n",
              "      <td>32 votes</td>\n",
              "      <td>400</td>\n",
              "      <td>CASUAL DINING</td>\n",
              "      <td>NaN</td>\n",
              "      <td>North Indian</td>\n",
              "      <td>South Indian</td>\n",
              "      <td>Chinese</td>\n",
              "      <td>Street Food</td>\n",
              "      <td>6am – 10:45pm (Mon-Sun)</td>\n",
              "      <td>NaN</td>\n",
              "    </tr>\n",
              "    <tr>\n",
              "      <th>12689</th>\n",
              "      <td>6430</td>\n",
              "      <td>Hyderabad</td>\n",
              "      <td>Vanasthalipuram</td>\n",
              "      <td>3.4</td>\n",
              "      <td>677 votes</td>\n",
              "      <td>600</td>\n",
              "      <td>CASUAL DINING</td>\n",
              "      <td>NaN</td>\n",
              "      <td>North Indian</td>\n",
              "      <td>Chinese</td>\n",
              "      <td>NaN</td>\n",
              "      <td>NaN</td>\n",
              "      <td>12:30pm – 11pm (Mon-Sun)</td>\n",
              "      <td>NaN</td>\n",
              "    </tr>\n",
              "  </tbody>\n",
              "</table>\n",
              "<p>12690 rows × 14 columns</p>\n",
              "</div>"
            ],
            "text/plain": [
              "       RESTAURANT_ID  ...                       TIME_2\n",
              "0               9438  ...   7:30pm – 11:30pm (Mon-Sun)\n",
              "1              13198  ...                          NaN\n",
              "2              10915  ...         7pm – 11pm (Mon-Sun)\n",
              "3               6346  ...                          NaN\n",
              "4              15387  ...                          NaN\n",
              "...              ...  ...                          ...\n",
              "12685          13228  ...                          Tue\n",
              "12686           9686  ...                   11am – 5pm\n",
              "12687          11133  ...                          NaN\n",
              "12688           6134  ...                          NaN\n",
              "12689           6430  ...                          NaN\n",
              "\n",
              "[12690 rows x 14 columns]"
            ]
          },
          "metadata": {
            "tags": []
          },
          "execution_count": 26
        }
      ]
    },
    {
      "cell_type": "code",
      "metadata": {
        "colab": {
          "base_uri": "https://localhost:8080/"
        },
        "id": "-iNH3l4cEE0z",
        "outputId": "ce33d901-6b84-4dfc-d6d9-4ea638934a6b"
      },
      "source": [
        "#now we check null values for particular column\r\n",
        "#checking for null values\r\n",
        "Train_data.isnull().sum()"
      ],
      "execution_count": 27,
      "outputs": [
        {
          "output_type": "execute_result",
          "data": {
            "text/plain": [
              "RESTAURANT_ID        0\n",
              "CITY                 0\n",
              "LOCALITY             0\n",
              "RATING               0\n",
              "VOTES                0\n",
              "COST                 0\n",
              "TITLE_1           1003\n",
              "TITLE_2          11208\n",
              "CUISINES_1           0\n",
              "CUISINES_2        3062\n",
              "CUISINES_3        6999\n",
              "CUISINES_4        9995\n",
              "TIME_1               0\n",
              "TIME_2            9438\n",
              "dtype: int64"
            ]
          },
          "metadata": {
            "tags": []
          },
          "execution_count": 27
        }
      ]
    },
    {
      "cell_type": "markdown",
      "metadata": {
        "id": "1LYWq0ilETKu"
      },
      "source": [
        "Observation:\r\n",
        "\r\n",
        "1-There are 1003 null values are present in TITLE_1  column\r\n",
        "\r\n",
        "2-11208 null values are present in TITLE_2 column.\r\n",
        "\r\n",
        "3-3062 null values present in CUISINES_2  column.\r\n",
        "\r\n",
        "3-6999 null values present in CUISINES_3  column.\r\n",
        "\r\n",
        "3-9995 null values present in CUISINES_4  column.\r\n",
        "\r\n",
        "3-9438 null values present in TIME_2  column.\r\n",
        "\r\n"
      ]
    },
    {
      "cell_type": "code",
      "metadata": {
        "colab": {
          "base_uri": "https://localhost:8080/",
          "height": 358
        },
        "id": "VfXVHSwKE8cM",
        "outputId": "321e6abc-85cb-4b4c-d79f-78a786c14b9e"
      },
      "source": [
        "#checking null values using heatmap\r\n",
        "sns.heatmap(Train_data.isnull(),yticklabels=False,cbar=True)"
      ],
      "execution_count": 28,
      "outputs": [
        {
          "output_type": "execute_result",
          "data": {
            "text/plain": [
              "<matplotlib.axes._subplots.AxesSubplot at 0x7f45b3a42b00>"
            ]
          },
          "metadata": {
            "tags": []
          },
          "execution_count": 28
        },
        {
          "output_type": "display_data",
          "data": {
            "image/png": "[encoded data removed]",
            "text/plain": [
              "<Figure size 432x288 with 2 Axes>"
            ]
          },
          "metadata": {
            "tags": [],
            "needs_background": "light"
          }
        }
      ]
    },
    {
      "cell_type": "code",
      "metadata": {
        "colab": {
          "base_uri": "https://localhost:8080/"
        },
        "id": "hRZbeXzcFA5b",
        "outputId": "bd09a295-4e1e-454d-a728-f9beef84043a"
      },
      "source": [
        "#checking the information of column agian\r\n",
        "Train_data.info()"
      ],
      "execution_count": 29,
      "outputs": [
        {
          "output_type": "stream",
          "text": [
            "<class 'pandas.core.frame.DataFrame'>\n",
            "RangeIndex: 12690 entries, 0 to 12689\n",
            "Data columns (total 14 columns):\n",
            " #   Column         Non-Null Count  Dtype \n",
            "---  ------         --------------  ----- \n",
            " 0   RESTAURANT_ID  12690 non-null  int64 \n",
            " 1   CITY           12690 non-null  object\n",
            " 2   LOCALITY       12690 non-null  object\n",
            " 3   RATING         12690 non-null  object\n",
            " 4   VOTES          12690 non-null  object\n",
            " 5   COST           12690 non-null  int64 \n",
            " 6   TITLE_1        11687 non-null  object\n",
            " 7   TITLE_2        1482 non-null   object\n",
            " 8   CUISINES_1     12690 non-null  object\n",
            " 9   CUISINES_2     9628 non-null   object\n",
            " 10  CUISINES_3     5691 non-null   object\n",
            " 11  CUISINES_4     2695 non-null   object\n",
            " 12  TIME_1         12690 non-null  object\n",
            " 13  TIME_2         3252 non-null   object\n",
            "dtypes: int64(2), object(12)\n",
            "memory usage: 1.4+ MB\n"
          ],
          "name": "stdout"
        }
      ]
    },
    {
      "cell_type": "markdown",
      "metadata": {
        "id": "0ZOBscbBFI6n"
      },
      "source": [
        "Observation:\r\n",
        "\r\n",
        "TITLE_1, TITLE_2 , CUISINES_2, CUISINES_3, CUISINES_4, TIME_2 contain missing values.All of these varibles are categorical datatype .So, we impute the missing values with most frequent value i.e. mode."
      ]
    },
    {
      "cell_type": "code",
      "metadata": {
        "id": "_RElfX2tFlVV"
      },
      "source": [
        "#Imputing the missing value with mode\r\n",
        "\r\n",
        "for col in ['TITLE_1','TITLE_2','CUISINES_2','CUISINES_3','CUISINES_4','TIME_2']:\r\n",
        "  Train_data[col].fillna(Train_data[col].mode()[0],inplace=True)"
      ],
      "execution_count": 30,
      "outputs": []
    },
    {
      "cell_type": "code",
      "metadata": {
        "colab": {
          "base_uri": "https://localhost:8080/"
        },
        "id": "Fg32jfObGA7P",
        "outputId": "1599eaa4-2895-4885-ce19-036e577c4a9f"
      },
      "source": [
        "#checking  for null values again\r\n",
        "Train_data.isnull().values.any()"
      ],
      "execution_count": 31,
      "outputs": [
        {
          "output_type": "execute_result",
          "data": {
            "text/plain": [
              "False"
            ]
          },
          "metadata": {
            "tags": []
          },
          "execution_count": 31
        }
      ]
    },
    {
      "cell_type": "markdown",
      "metadata": {
        "id": "Vnur_vLyGGff"
      },
      "source": [
        "null values are removed"
      ]
    },
    {
      "cell_type": "markdown",
      "metadata": {
        "id": "l1SpmgeQHQL7"
      },
      "source": [
        "**Handling Categorical Data**"
      ]
    },
    {
      "cell_type": "code",
      "metadata": {
        "colab": {
          "base_uri": "https://localhost:8080/",
          "height": 306
        },
        "id": "bM0XvPumH2Lz",
        "outputId": "b9281188-0a82-4b91-deee-a4e48d718528"
      },
      "source": [
        "Train_data.head()"
      ],
      "execution_count": 32,
      "outputs": [
        {
          "output_type": "execute_result",
          "data": {
            "text/html": [
              "<div>\n",
              "<style scoped>\n",
              "    .dataframe tbody tr th:only-of-type {\n",
              "        vertical-align: middle;\n",
              "    }\n",
              "\n",
              "    .dataframe tbody tr th {\n",
              "        vertical-align: top;\n",
              "    }\n",
              "\n",
              "    .dataframe thead th {\n",
              "        text-align: right;\n",
              "    }\n",
              "</style>\n",
              "<table border=\"1\" class=\"dataframe\">\n",
              "  <thead>\n",
              "    <tr style=\"text-align: right;\">\n",
              "      <th></th>\n",
              "      <th>RESTAURANT_ID</th>\n",
              "      <th>CITY</th>\n",
              "      <th>LOCALITY</th>\n",
              "      <th>RATING</th>\n",
              "      <th>VOTES</th>\n",
              "      <th>COST</th>\n",
              "      <th>TITLE_1</th>\n",
              "      <th>TITLE_2</th>\n",
              "      <th>CUISINES_1</th>\n",
              "      <th>CUISINES_2</th>\n",
              "      <th>CUISINES_3</th>\n",
              "      <th>CUISINES_4</th>\n",
              "      <th>TIME_1</th>\n",
              "      <th>TIME_2</th>\n",
              "    </tr>\n",
              "  </thead>\n",
              "  <tbody>\n",
              "    <tr>\n",
              "      <th>0</th>\n",
              "      <td>9438</td>\n",
              "      <td>Thane</td>\n",
              "      <td>Dombivali East</td>\n",
              "      <td>3.6</td>\n",
              "      <td>49 votes</td>\n",
              "      <td>1200</td>\n",
              "      <td>CASUAL DINING</td>\n",
              "      <td>BAR</td>\n",
              "      <td>Malwani</td>\n",
              "      <td>Goan</td>\n",
              "      <td>North Indian</td>\n",
              "      <td>Chinese</td>\n",
              "      <td>11am – 4pm</td>\n",
              "      <td>7:30pm – 11:30pm (Mon-Sun)</td>\n",
              "    </tr>\n",
              "    <tr>\n",
              "      <th>1</th>\n",
              "      <td>13198</td>\n",
              "      <td>Chennai</td>\n",
              "      <td>Ramapuram</td>\n",
              "      <td>4.2</td>\n",
              "      <td>30 votes</td>\n",
              "      <td>1500</td>\n",
              "      <td>CASUAL DINING</td>\n",
              "      <td>BAR</td>\n",
              "      <td>Asian</td>\n",
              "      <td>Modern Indian</td>\n",
              "      <td>Japanese</td>\n",
              "      <td>Chinese</td>\n",
              "      <td>6pm – 11pm (Mon-Sun)</td>\n",
              "      <td>7pm – 11pm (Mon-Sun)</td>\n",
              "    </tr>\n",
              "    <tr>\n",
              "      <th>2</th>\n",
              "      <td>10915</td>\n",
              "      <td>Chennai</td>\n",
              "      <td>Saligramam</td>\n",
              "      <td>3.8</td>\n",
              "      <td>221 votes</td>\n",
              "      <td>800</td>\n",
              "      <td>CASUAL DINING</td>\n",
              "      <td>BAR</td>\n",
              "      <td>North Indian</td>\n",
              "      <td>Chinese</td>\n",
              "      <td>Biryani</td>\n",
              "      <td>Hyderabadi</td>\n",
              "      <td>11am – 3:30pm</td>\n",
              "      <td>7pm – 11pm (Mon-Sun)</td>\n",
              "    </tr>\n",
              "    <tr>\n",
              "      <th>3</th>\n",
              "      <td>6346</td>\n",
              "      <td>Mumbai</td>\n",
              "      <td>Bandra West</td>\n",
              "      <td>4.1</td>\n",
              "      <td>24 votes</td>\n",
              "      <td>800</td>\n",
              "      <td>QUICK BITES</td>\n",
              "      <td>BAR</td>\n",
              "      <td>Tibetan</td>\n",
              "      <td>Chinese</td>\n",
              "      <td>Chinese</td>\n",
              "      <td>Chinese</td>\n",
              "      <td>11:30am – 1am (Mon-Sun)</td>\n",
              "      <td>7pm – 11pm (Mon-Sun)</td>\n",
              "    </tr>\n",
              "    <tr>\n",
              "      <th>4</th>\n",
              "      <td>15387</td>\n",
              "      <td>Mumbai</td>\n",
              "      <td>Lower Parel</td>\n",
              "      <td>3.8</td>\n",
              "      <td>165 votes</td>\n",
              "      <td>300</td>\n",
              "      <td>DESSERT PARLOR</td>\n",
              "      <td>BAR</td>\n",
              "      <td>Desserts</td>\n",
              "      <td>Chinese</td>\n",
              "      <td>Chinese</td>\n",
              "      <td>Chinese</td>\n",
              "      <td>11am – 1am (Mon-Sun)</td>\n",
              "      <td>7pm – 11pm (Mon-Sun)</td>\n",
              "    </tr>\n",
              "  </tbody>\n",
              "</table>\n",
              "</div>"
            ],
            "text/plain": [
              "   RESTAURANT_ID     CITY  ...                   TIME_1                       TIME_2\n",
              "0           9438    Thane  ...               11am – 4pm   7:30pm – 11:30pm (Mon-Sun)\n",
              "1          13198  Chennai  ...     6pm – 11pm (Mon-Sun)         7pm – 11pm (Mon-Sun)\n",
              "2          10915  Chennai  ...            11am – 3:30pm         7pm – 11pm (Mon-Sun)\n",
              "3           6346   Mumbai  ...  11:30am – 1am (Mon-Sun)         7pm – 11pm (Mon-Sun)\n",
              "4          15387   Mumbai  ...     11am – 1am (Mon-Sun)         7pm – 11pm (Mon-Sun)\n",
              "\n",
              "[5 rows x 14 columns]"
            ]
          },
          "metadata": {
            "tags": []
          },
          "execution_count": 32
        }
      ]
    },
    {
      "cell_type": "markdown",
      "metadata": {
        "id": "scju24pLH5UW"
      },
      "source": [
        "We have to convert CITY, LOCALITY, VOTES, TITLE_1 ,TITLE_2, CUISINES_1, CUISINES_2,CUISINES_3, CUISINES_4, TIME_1, and TIME_2 into int data"
      ]
    },
    {
      "cell_type": "code",
      "metadata": {
        "id": "j7ia-uvtInsV"
      },
      "source": [
        "from sklearn.preprocessing import LabelEncoder\r\n",
        "le=LabelEncoder()\r\n",
        "\r\n",
        "#CITY\r\n",
        "Train_data['CITY']=le.fit_transform(Train_data['CITY'])\r\n",
        "\r\n",
        "#LOCALITY\r\n",
        "Train_data['LOCALITY']=le.fit_transform(Train_data['LOCALITY'])\r\n",
        "\r\n",
        "#TITLE_1\r\n",
        "Train_data['TITLE_1']=le.fit_transform(Train_data['TITLE_1'])\r\n",
        "\r\n",
        "#TITLE_2\r\n",
        "Train_data['TITLE_2']=le.fit_transform(Train_data['TITLE_2'])\r\n",
        "\r\n",
        "#CUISINES_1\r\n",
        "Train_data['CUISINES_1']=le.fit_transform(Train_data['CUISINES_1'])\r\n",
        "\r\n",
        "#CUISINES_2\r\n",
        "Train_data['CUISINES_2']=le.fit_transform(Train_data['CUISINES_2'])\r\n",
        "\r\n",
        "#CUISINES_3\r\n",
        "Train_data['CUISINES_3']=le.fit_transform(Train_data['CUISINES_3'])\r\n",
        "\r\n",
        "#CUISINES_4\r\n",
        "Train_data['CUISINES_4']=le.fit_transform(Train_data['CUISINES_4'])\r\n",
        "\r\n",
        "#TIME_1\r\n",
        "Train_data['TIME_1']=le.fit_transform(Train_data['TIME_1'])\r\n",
        "\r\n",
        "#TIME_2\r\n",
        "Train_data['TIME_2']=le.fit_transform(Train_data['TIME_2'])\r\n",
        "\r\n",
        "#for votes we have to remove votes.\r\n",
        "Train_data=Train_data.replace(['votes'],[''],regex=True)"
      ],
      "execution_count": 33,
      "outputs": []
    },
    {
      "cell_type": "code",
      "metadata": {
        "colab": {
          "base_uri": "https://localhost:8080/",
          "height": 204
        },
        "id": "rhb_JrFOMCyF",
        "outputId": "12d5fd1b-b361-4ca9-8f12-acf027f66b15"
      },
      "source": [
        "Train_data.head()"
      ],
      "execution_count": 34,
      "outputs": [
        {
          "output_type": "execute_result",
          "data": {
            "text/html": [
              "<div>\n",
              "<style scoped>\n",
              "    .dataframe tbody tr th:only-of-type {\n",
              "        vertical-align: middle;\n",
              "    }\n",
              "\n",
              "    .dataframe tbody tr th {\n",
              "        vertical-align: top;\n",
              "    }\n",
              "\n",
              "    .dataframe thead th {\n",
              "        text-align: right;\n",
              "    }\n",
              "</style>\n",
              "<table border=\"1\" class=\"dataframe\">\n",
              "  <thead>\n",
              "    <tr style=\"text-align: right;\">\n",
              "      <th></th>\n",
              "      <th>RESTAURANT_ID</th>\n",
              "      <th>CITY</th>\n",
              "      <th>LOCALITY</th>\n",
              "      <th>RATING</th>\n",
              "      <th>VOTES</th>\n",
              "      <th>COST</th>\n",
              "      <th>TITLE_1</th>\n",
              "      <th>TITLE_2</th>\n",
              "      <th>CUISINES_1</th>\n",
              "      <th>CUISINES_2</th>\n",
              "      <th>CUISINES_3</th>\n",
              "      <th>CUISINES_4</th>\n",
              "      <th>TIME_1</th>\n",
              "      <th>TIME_2</th>\n",
              "    </tr>\n",
              "  </thead>\n",
              "  <tbody>\n",
              "    <tr>\n",
              "      <th>0</th>\n",
              "      <td>9438</td>\n",
              "      <td>320</td>\n",
              "      <td>285</td>\n",
              "      <td>3.6</td>\n",
              "      <td>49</td>\n",
              "      <td>1200</td>\n",
              "      <td>4</td>\n",
              "      <td>1</td>\n",
              "      <td>59</td>\n",
              "      <td>32</td>\n",
              "      <td>66</td>\n",
              "      <td>18</td>\n",
              "      <td>343</td>\n",
              "      <td>239</td>\n",
              "    </tr>\n",
              "    <tr>\n",
              "      <th>1</th>\n",
              "      <td>13198</td>\n",
              "      <td>67</td>\n",
              "      <td>1046</td>\n",
              "      <td>4.2</td>\n",
              "      <td>30</td>\n",
              "      <td>1500</td>\n",
              "      <td>4</td>\n",
              "      <td>1</td>\n",
              "      <td>6</td>\n",
              "      <td>60</td>\n",
              "      <td>41</td>\n",
              "      <td>18</td>\n",
              "      <td>945</td>\n",
              "      <td>291</td>\n",
              "    </tr>\n",
              "    <tr>\n",
              "      <th>2</th>\n",
              "      <td>10915</td>\n",
              "      <td>67</td>\n",
              "      <td>1101</td>\n",
              "      <td>3.8</td>\n",
              "      <td>221</td>\n",
              "      <td>800</td>\n",
              "      <td>4</td>\n",
              "      <td>1</td>\n",
              "      <td>72</td>\n",
              "      <td>23</td>\n",
              "      <td>12</td>\n",
              "      <td>32</td>\n",
              "      <td>327</td>\n",
              "      <td>291</td>\n",
              "    </tr>\n",
              "    <tr>\n",
              "      <th>3</th>\n",
              "      <td>6346</td>\n",
              "      <td>222</td>\n",
              "      <td>136</td>\n",
              "      <td>4.1</td>\n",
              "      <td>24</td>\n",
              "      <td>800</td>\n",
              "      <td>20</td>\n",
              "      <td>1</td>\n",
              "      <td>100</td>\n",
              "      <td>23</td>\n",
              "      <td>21</td>\n",
              "      <td>18</td>\n",
              "      <td>178</td>\n",
              "      <td>291</td>\n",
              "    </tr>\n",
              "    <tr>\n",
              "      <th>4</th>\n",
              "      <td>15387</td>\n",
              "      <td>222</td>\n",
              "      <td>620</td>\n",
              "      <td>3.8</td>\n",
              "      <td>165</td>\n",
              "      <td>300</td>\n",
              "      <td>8</td>\n",
              "      <td>1</td>\n",
              "      <td>28</td>\n",
              "      <td>23</td>\n",
              "      <td>21</td>\n",
              "      <td>18</td>\n",
              "      <td>316</td>\n",
              "      <td>291</td>\n",
              "    </tr>\n",
              "  </tbody>\n",
              "</table>\n",
              "</div>"
            ],
            "text/plain": [
              "   RESTAURANT_ID  CITY  LOCALITY RATING  ... CUISINES_3  CUISINES_4  TIME_1  TIME_2\n",
              "0           9438   320       285    3.6  ...         66          18     343     239\n",
              "1          13198    67      1046    4.2  ...         41          18     945     291\n",
              "2          10915    67      1101    3.8  ...         12          32     327     291\n",
              "3           6346   222       136    4.1  ...         21          18     178     291\n",
              "4          15387   222       620    3.8  ...         21          18     316     291\n",
              "\n",
              "[5 rows x 14 columns]"
            ]
          },
          "metadata": {
            "tags": []
          },
          "execution_count": 34
        }
      ]
    },
    {
      "cell_type": "code",
      "metadata": {
        "colab": {
          "base_uri": "https://localhost:8080/"
        },
        "id": "lbwW1xSTMFaq",
        "outputId": "61efa6eb-77aa-4df9-d1d3-b903585f01fc"
      },
      "source": [
        "Train_data.info()"
      ],
      "execution_count": 35,
      "outputs": [
        {
          "output_type": "stream",
          "text": [
            "<class 'pandas.core.frame.DataFrame'>\n",
            "RangeIndex: 12690 entries, 0 to 12689\n",
            "Data columns (total 14 columns):\n",
            " #   Column         Non-Null Count  Dtype \n",
            "---  ------         --------------  ----- \n",
            " 0   RESTAURANT_ID  12690 non-null  int64 \n",
            " 1   CITY           12690 non-null  int64 \n",
            " 2   LOCALITY       12690 non-null  int64 \n",
            " 3   RATING         12690 non-null  object\n",
            " 4   VOTES          12690 non-null  object\n",
            " 5   COST           12690 non-null  int64 \n",
            " 6   TITLE_1        12690 non-null  int64 \n",
            " 7   TITLE_2        12690 non-null  int64 \n",
            " 8   CUISINES_1     12690 non-null  int64 \n",
            " 9   CUISINES_2     12690 non-null  int64 \n",
            " 10  CUISINES_3     12690 non-null  int64 \n",
            " 11  CUISINES_4     12690 non-null  int64 \n",
            " 12  TIME_1         12690 non-null  int64 \n",
            " 13  TIME_2         12690 non-null  int64 \n",
            "dtypes: int64(12), object(2)\n",
            "memory usage: 1.4+ MB\n"
          ],
          "name": "stdout"
        }
      ]
    },
    {
      "cell_type": "code",
      "metadata": {
        "colab": {
          "base_uri": "https://localhost:8080/",
          "height": 204
        },
        "id": "bdzUCQPmMwsm",
        "outputId": "d8f230e5-3799-4b0d-e241-0fc810fc7336"
      },
      "source": [
        "# VOTES AND Rating are of object type we have to them into float\r\n",
        "\r\n",
        "#for VOTES\r\n",
        "Train_data['VOTES'].unique()\r\n",
        "Train_data['VOTES']=Train_data['VOTES'].astype(float)\r\n",
        "Train_data['VOTES']=Train_data['VOTES'].fillna(Train_data['VOTES'].mean())\r\n",
        "\r\n",
        "#for RATING\r\n",
        "Train_data['RATING'].unique()\r\n",
        "Train_data['RATING']=Train_data['RATING'].replace(['NEW'],np.nan)\r\n",
        "Train_data['RATING']=Train_data['RATING'].replace(['-'],np.nan)\r\n",
        "Train_data['RATING']=Train_data['RATING'].astype(float)\r\n",
        "Train_data['RATING']=Train_data['RATING'].fillna(Train_data['RATING'].mean())\r\n",
        "\r\n",
        "Train_data.head()"
      ],
      "execution_count": 36,
      "outputs": [
        {
          "output_type": "execute_result",
          "data": {
            "text/html": [
              "<div>\n",
              "<style scoped>\n",
              "    .dataframe tbody tr th:only-of-type {\n",
              "        vertical-align: middle;\n",
              "    }\n",
              "\n",
              "    .dataframe tbody tr th {\n",
              "        vertical-align: top;\n",
              "    }\n",
              "\n",
              "    .dataframe thead th {\n",
              "        text-align: right;\n",
              "    }\n",
              "</style>\n",
              "<table border=\"1\" class=\"dataframe\">\n",
              "  <thead>\n",
              "    <tr style=\"text-align: right;\">\n",
              "      <th></th>\n",
              "      <th>RESTAURANT_ID</th>\n",
              "      <th>CITY</th>\n",
              "      <th>LOCALITY</th>\n",
              "      <th>RATING</th>\n",
              "      <th>VOTES</th>\n",
              "      <th>COST</th>\n",
              "      <th>TITLE_1</th>\n",
              "      <th>TITLE_2</th>\n",
              "      <th>CUISINES_1</th>\n",
              "      <th>CUISINES_2</th>\n",
              "      <th>CUISINES_3</th>\n",
              "      <th>CUISINES_4</th>\n",
              "      <th>TIME_1</th>\n",
              "      <th>TIME_2</th>\n",
              "    </tr>\n",
              "  </thead>\n",
              "  <tbody>\n",
              "    <tr>\n",
              "      <th>0</th>\n",
              "      <td>9438</td>\n",
              "      <td>320</td>\n",
              "      <td>285</td>\n",
              "      <td>3.6</td>\n",
              "      <td>49.0</td>\n",
              "      <td>1200</td>\n",
              "      <td>4</td>\n",
              "      <td>1</td>\n",
              "      <td>59</td>\n",
              "      <td>32</td>\n",
              "      <td>66</td>\n",
              "      <td>18</td>\n",
              "      <td>343</td>\n",
              "      <td>239</td>\n",
              "    </tr>\n",
              "    <tr>\n",
              "      <th>1</th>\n",
              "      <td>13198</td>\n",
              "      <td>67</td>\n",
              "      <td>1046</td>\n",
              "      <td>4.2</td>\n",
              "      <td>30.0</td>\n",
              "      <td>1500</td>\n",
              "      <td>4</td>\n",
              "      <td>1</td>\n",
              "      <td>6</td>\n",
              "      <td>60</td>\n",
              "      <td>41</td>\n",
              "      <td>18</td>\n",
              "      <td>945</td>\n",
              "      <td>291</td>\n",
              "    </tr>\n",
              "    <tr>\n",
              "      <th>2</th>\n",
              "      <td>10915</td>\n",
              "      <td>67</td>\n",
              "      <td>1101</td>\n",
              "      <td>3.8</td>\n",
              "      <td>221.0</td>\n",
              "      <td>800</td>\n",
              "      <td>4</td>\n",
              "      <td>1</td>\n",
              "      <td>72</td>\n",
              "      <td>23</td>\n",
              "      <td>12</td>\n",
              "      <td>32</td>\n",
              "      <td>327</td>\n",
              "      <td>291</td>\n",
              "    </tr>\n",
              "    <tr>\n",
              "      <th>3</th>\n",
              "      <td>6346</td>\n",
              "      <td>222</td>\n",
              "      <td>136</td>\n",
              "      <td>4.1</td>\n",
              "      <td>24.0</td>\n",
              "      <td>800</td>\n",
              "      <td>20</td>\n",
              "      <td>1</td>\n",
              "      <td>100</td>\n",
              "      <td>23</td>\n",
              "      <td>21</td>\n",
              "      <td>18</td>\n",
              "      <td>178</td>\n",
              "      <td>291</td>\n",
              "    </tr>\n",
              "    <tr>\n",
              "      <th>4</th>\n",
              "      <td>15387</td>\n",
              "      <td>222</td>\n",
              "      <td>620</td>\n",
              "      <td>3.8</td>\n",
              "      <td>165.0</td>\n",
              "      <td>300</td>\n",
              "      <td>8</td>\n",
              "      <td>1</td>\n",
              "      <td>28</td>\n",
              "      <td>23</td>\n",
              "      <td>21</td>\n",
              "      <td>18</td>\n",
              "      <td>316</td>\n",
              "      <td>291</td>\n",
              "    </tr>\n",
              "  </tbody>\n",
              "</table>\n",
              "</div>"
            ],
            "text/plain": [
              "   RESTAURANT_ID  CITY  LOCALITY  ...  CUISINES_4  TIME_1  TIME_2\n",
              "0           9438   320       285  ...          18     343     239\n",
              "1          13198    67      1046  ...          18     945     291\n",
              "2          10915    67      1101  ...          32     327     291\n",
              "3           6346   222       136  ...          18     178     291\n",
              "4          15387   222       620  ...          18     316     291\n",
              "\n",
              "[5 rows x 14 columns]"
            ]
          },
          "metadata": {
            "tags": []
          },
          "execution_count": 36
        }
      ]
    },
    {
      "cell_type": "code",
      "metadata": {
        "colab": {
          "base_uri": "https://localhost:8080/"
        },
        "id": "0zmOhJ5hN7wf",
        "outputId": "97b987c0-8561-44f3-c7c2-fb4c748a1bfb"
      },
      "source": [
        "Train_data.info()"
      ],
      "execution_count": 37,
      "outputs": [
        {
          "output_type": "stream",
          "text": [
            "<class 'pandas.core.frame.DataFrame'>\n",
            "RangeIndex: 12690 entries, 0 to 12689\n",
            "Data columns (total 14 columns):\n",
            " #   Column         Non-Null Count  Dtype  \n",
            "---  ------         --------------  -----  \n",
            " 0   RESTAURANT_ID  12690 non-null  int64  \n",
            " 1   CITY           12690 non-null  int64  \n",
            " 2   LOCALITY       12690 non-null  int64  \n",
            " 3   RATING         12690 non-null  float64\n",
            " 4   VOTES          12690 non-null  float64\n",
            " 5   COST           12690 non-null  int64  \n",
            " 6   TITLE_1        12690 non-null  int64  \n",
            " 7   TITLE_2        12690 non-null  int64  \n",
            " 8   CUISINES_1     12690 non-null  int64  \n",
            " 9   CUISINES_2     12690 non-null  int64  \n",
            " 10  CUISINES_3     12690 non-null  int64  \n",
            " 11  CUISINES_4     12690 non-null  int64  \n",
            " 12  TIME_1         12690 non-null  int64  \n",
            " 13  TIME_2         12690 non-null  int64  \n",
            "dtypes: float64(2), int64(12)\n",
            "memory usage: 1.4 MB\n"
          ],
          "name": "stdout"
        }
      ]
    },
    {
      "cell_type": "markdown",
      "metadata": {
        "id": "30rc52CLOskr"
      },
      "source": [
        "**Now all the Train dataset columns change into numeric data type. now same steps are follow in test data**"
      ]
    },
    {
      "cell_type": "markdown",
      "metadata": {
        "id": "40tWOiwaPWvT"
      },
      "source": [
        "## **Test Data**"
      ]
    },
    {
      "cell_type": "code",
      "metadata": {
        "colab": {
          "base_uri": "https://localhost:8080/",
          "height": 204
        },
        "id": "1kStfQUaPb1s",
        "outputId": "7193a056-f6f8-4f32-cc71-df9fa048ae4f"
      },
      "source": [
        "Test_data.head()"
      ],
      "execution_count": 38,
      "outputs": [
        {
          "output_type": "execute_result",
          "data": {
            "text/html": [
              "<div>\n",
              "<style scoped>\n",
              "    .dataframe tbody tr th:only-of-type {\n",
              "        vertical-align: middle;\n",
              "    }\n",
              "\n",
              "    .dataframe tbody tr th {\n",
              "        vertical-align: top;\n",
              "    }\n",
              "\n",
              "    .dataframe thead th {\n",
              "        text-align: right;\n",
              "    }\n",
              "</style>\n",
              "<table border=\"1\" class=\"dataframe\">\n",
              "  <thead>\n",
              "    <tr style=\"text-align: right;\">\n",
              "      <th></th>\n",
              "      <th>TITLE</th>\n",
              "      <th>RESTAURANT_ID</th>\n",
              "      <th>CUISINES</th>\n",
              "      <th>TIME</th>\n",
              "      <th>CITY</th>\n",
              "      <th>LOCALITY</th>\n",
              "      <th>RATING</th>\n",
              "      <th>VOTES</th>\n",
              "    </tr>\n",
              "  </thead>\n",
              "  <tbody>\n",
              "    <tr>\n",
              "      <th>0</th>\n",
              "      <td>CASUAL DINING</td>\n",
              "      <td>4085</td>\n",
              "      <td>North Indian, Chinese, Mughlai, Kebab</td>\n",
              "      <td>12noon – 12midnight (Mon-Sun)</td>\n",
              "      <td>Noida</td>\n",
              "      <td>Sector 18</td>\n",
              "      <td>4.3</td>\n",
              "      <td>564 votes</td>\n",
              "    </tr>\n",
              "    <tr>\n",
              "      <th>1</th>\n",
              "      <td>QUICK BITES</td>\n",
              "      <td>12680</td>\n",
              "      <td>South Indian, Fast Food, Pizza, North Indian</td>\n",
              "      <td>7am – 12:30AM (Mon-Sun)</td>\n",
              "      <td>Mumbai</td>\n",
              "      <td>Grant Road</td>\n",
              "      <td>4.2</td>\n",
              "      <td>61 votes</td>\n",
              "    </tr>\n",
              "    <tr>\n",
              "      <th>2</th>\n",
              "      <td>CASUAL DINING</td>\n",
              "      <td>1411</td>\n",
              "      <td>North Indian, Seafood, Biryani, Chinese</td>\n",
              "      <td>11am – 11:30pm (Mon-Sun)</td>\n",
              "      <td>Mumbai</td>\n",
              "      <td>Marine Lines</td>\n",
              "      <td>3.8</td>\n",
              "      <td>350 votes</td>\n",
              "    </tr>\n",
              "    <tr>\n",
              "      <th>3</th>\n",
              "      <td>None</td>\n",
              "      <td>204</td>\n",
              "      <td>Biryani</td>\n",
              "      <td>9am – 10pm (Mon, Wed, Thu, Fri, Sat, Sun), 10:...</td>\n",
              "      <td>Faridabad</td>\n",
              "      <td>NIT</td>\n",
              "      <td>3.8</td>\n",
              "      <td>1445 votes</td>\n",
              "    </tr>\n",
              "    <tr>\n",
              "      <th>4</th>\n",
              "      <td>QUICK BITES</td>\n",
              "      <td>13453</td>\n",
              "      <td>South Indian, Kerala</td>\n",
              "      <td>11am – 10pm (Mon-Sun)</td>\n",
              "      <td>Kochi</td>\n",
              "      <td>Kaloor</td>\n",
              "      <td>3.6</td>\n",
              "      <td>23 votes</td>\n",
              "    </tr>\n",
              "  </tbody>\n",
              "</table>\n",
              "</div>"
            ],
            "text/plain": [
              "           TITLE  RESTAURANT_ID  ... RATING       VOTES\n",
              "0  CASUAL DINING           4085  ...    4.3   564 votes\n",
              "1    QUICK BITES          12680  ...    4.2    61 votes\n",
              "2  CASUAL DINING           1411  ...    3.8   350 votes\n",
              "3           None            204  ...    3.8  1445 votes\n",
              "4    QUICK BITES          13453  ...    3.6    23 votes\n",
              "\n",
              "[5 rows x 8 columns]"
            ]
          },
          "metadata": {
            "tags": []
          },
          "execution_count": 38
        }
      ]
    },
    {
      "cell_type": "markdown",
      "metadata": {
        "id": "PfywdFvaPdvZ"
      },
      "source": [
        "**Now we copy the same steps for test data in one cell.**"
      ]
    },
    {
      "cell_type": "code",
      "metadata": {
        "id": "FKjHZiNZPm6h"
      },
      "source": [
        ""
      ],
      "execution_count": 38,
      "outputs": []
    },
    {
      "cell_type": "code",
      "metadata": {
        "id": "Wug0xzUqQ5Y6"
      },
      "source": [
        "#Imputing the missing value with mode\r\n",
        "\r\n",
        "for col in ['CITY','LOCALITY','RATING','VOTES']:\r\n",
        "  Test_data[col].fillna(Test_data[col].mode()[0],inplace=True)\r\n",
        "\r\n",
        "#Splitting Titles in two various columns\r\n",
        "Test_data['TITLE_1'] = Test_data['TITLE'].str.split(',').str[0]\r\n",
        "Test_data['TITLE_2'] = Test_data['TITLE'].str.split(',').str[1] \r\n",
        "\r\n",
        "#Splitting cousines in four various columns\r\n",
        "Test_data['CUISINES_1'] = Test_data['CUISINES'].str.split(',').str[0]\r\n",
        "Test_data['CUISINES_2'] = Test_data['CUISINES'].str.split(',').str[1]\r\n",
        "Test_data['CUISINES_3'] = Test_data['CUISINES'].str.split(',').str[2]\r\n",
        "Test_data['CUISINES_4'] = Test_data['CUISINES'].str.split(',').str[3]\r\n",
        "\r\n",
        "#Splitting Time in two various columns\r\n",
        "Test_data['TIME_1'] = Test_data['TIME'].str.split(',').str[0]\r\n",
        "Test_data['TIME_2'] = Test_data['TIME'].str.split(',').str[1]\r\n",
        "\r\n",
        "#now we drop title, time and ciusine columns as it has no use\r\n",
        "Test_data.drop(['TITLE'],axis=1, inplace= True)\r\n",
        "Test_data.drop(['CUISINES'],axis=1, inplace= True)\r\n",
        "Test_data.drop(['TIME'],axis=1, inplace= True)\r\n",
        "\r\n",
        "\r\n",
        "#Replacing the 'None' with NaN\r\n",
        "Test_data=Train_data.replace('None',np.nan)\r\n",
        "\r\n",
        "#Imputing the missing value with mode\r\n",
        "\r\n",
        "for col in ['TITLE_1','TITLE_2','CUISINES_2','CUISINES_3','CUISINES_4','TIME_2']:\r\n",
        "  Test_data[col].fillna(Test_data[col].mode()[0],inplace=True)\r\n",
        "\r\n",
        "#encoding\r\n",
        "\r\n",
        "#CITY\r\n",
        "Test_data['CITY']=le.fit_transform(Test_data['CITY'])\r\n",
        "\r\n",
        "#LOCALITY\r\n",
        "Test_data['LOCALITY']=le.fit_transform(Test_data['LOCALITY'])\r\n",
        "\r\n",
        "#TITLE_1\r\n",
        "Test_data['TITLE_1']=le.fit_transform(Test_data['TITLE_1'])\r\n",
        "\r\n",
        "#TITLE_2\r\n",
        "Test_data['TITLE_2']=le.fit_transform(Test_data['TITLE_2'])\r\n",
        "\r\n",
        "#CUISINES_1\r\n",
        "Test_data['CUISINES_1']=le.fit_transform(Test_data['CUISINES_1'])\r\n",
        "\r\n",
        "#CUISINES_2\r\n",
        "Test_data['CUISINES_2']=le.fit_transform(Test_data['CUISINES_2'])\r\n",
        "\r\n",
        "#CUISINES_3\r\n",
        "Test_data['CUISINES_3']=le.fit_transform(Test_data['CUISINES_3'])\r\n",
        "\r\n",
        "#CUISINES_4\r\n",
        "Test_data['CUISINES_4']=le.fit_transform(Test_data['CUISINES_4'])\r\n",
        "\r\n",
        "#TIME_1\r\n",
        "Test_data['TIME_1']=le.fit_transform(Test_data['TIME_1'])\r\n",
        "\r\n",
        "#TIME_2\r\n",
        "Test_data['TIME_2']=le.fit_transform(Test_data['TIME_2'])\r\n",
        "\r\n"
      ],
      "execution_count": 39,
      "outputs": []
    },
    {
      "cell_type": "code",
      "metadata": {
        "id": "kgjnmCGaV9EN"
      },
      "source": [
        "\r\n",
        "# VOTES AND Rating are of object type we have to them into float\r\n",
        "\r\n",
        "#for VOTES\r\n",
        "Test_data['VOTES'].unique()\r\n",
        "Test_data['VOTES']=Test_data['VOTES'].astype(float)\r\n",
        "Test_data['VOTES']=Test_data['VOTES'].fillna(Test_data['VOTES'].mean())\r\n",
        "\r\n",
        "#for RATING\r\n",
        "Test_data['RATING'].unique()\r\n",
        "Test_data['RATING']=Test_data['RATING'].replace(['NEW'],np.nan)\r\n",
        "Train_data['RATING']=Test_data['RATING'].replace(['-'],np.nan)\r\n",
        "Test_data['RATING']=Test_data['RATING'].astype(float)\r\n",
        "Test_data['RATING']=Test_data['RATING'].fillna(Test_data['RATING'].mean())"
      ],
      "execution_count": 40,
      "outputs": []
    },
    {
      "cell_type": "code",
      "metadata": {
        "colab": {
          "base_uri": "https://localhost:8080/",
          "height": 204
        },
        "id": "ERUvx2UIS3Z3",
        "outputId": "21319980-844a-4f23-a096-4a5541538878"
      },
      "source": [
        "Test_data.head()"
      ],
      "execution_count": 41,
      "outputs": [
        {
          "output_type": "execute_result",
          "data": {
            "text/html": [
              "<div>\n",
              "<style scoped>\n",
              "    .dataframe tbody tr th:only-of-type {\n",
              "        vertical-align: middle;\n",
              "    }\n",
              "\n",
              "    .dataframe tbody tr th {\n",
              "        vertical-align: top;\n",
              "    }\n",
              "\n",
              "    .dataframe thead th {\n",
              "        text-align: right;\n",
              "    }\n",
              "</style>\n",
              "<table border=\"1\" class=\"dataframe\">\n",
              "  <thead>\n",
              "    <tr style=\"text-align: right;\">\n",
              "      <th></th>\n",
              "      <th>RESTAURANT_ID</th>\n",
              "      <th>CITY</th>\n",
              "      <th>LOCALITY</th>\n",
              "      <th>RATING</th>\n",
              "      <th>VOTES</th>\n",
              "      <th>COST</th>\n",
              "      <th>TITLE_1</th>\n",
              "      <th>TITLE_2</th>\n",
              "      <th>CUISINES_1</th>\n",
              "      <th>CUISINES_2</th>\n",
              "      <th>CUISINES_3</th>\n",
              "      <th>CUISINES_4</th>\n",
              "      <th>TIME_1</th>\n",
              "      <th>TIME_2</th>\n",
              "    </tr>\n",
              "  </thead>\n",
              "  <tbody>\n",
              "    <tr>\n",
              "      <th>0</th>\n",
              "      <td>9438</td>\n",
              "      <td>320</td>\n",
              "      <td>285</td>\n",
              "      <td>3.6</td>\n",
              "      <td>49.0</td>\n",
              "      <td>1200</td>\n",
              "      <td>4</td>\n",
              "      <td>1</td>\n",
              "      <td>59</td>\n",
              "      <td>32</td>\n",
              "      <td>66</td>\n",
              "      <td>18</td>\n",
              "      <td>343</td>\n",
              "      <td>239</td>\n",
              "    </tr>\n",
              "    <tr>\n",
              "      <th>1</th>\n",
              "      <td>13198</td>\n",
              "      <td>67</td>\n",
              "      <td>1046</td>\n",
              "      <td>4.2</td>\n",
              "      <td>30.0</td>\n",
              "      <td>1500</td>\n",
              "      <td>4</td>\n",
              "      <td>1</td>\n",
              "      <td>6</td>\n",
              "      <td>60</td>\n",
              "      <td>41</td>\n",
              "      <td>18</td>\n",
              "      <td>945</td>\n",
              "      <td>291</td>\n",
              "    </tr>\n",
              "    <tr>\n",
              "      <th>2</th>\n",
              "      <td>10915</td>\n",
              "      <td>67</td>\n",
              "      <td>1101</td>\n",
              "      <td>3.8</td>\n",
              "      <td>221.0</td>\n",
              "      <td>800</td>\n",
              "      <td>4</td>\n",
              "      <td>1</td>\n",
              "      <td>72</td>\n",
              "      <td>23</td>\n",
              "      <td>12</td>\n",
              "      <td>32</td>\n",
              "      <td>327</td>\n",
              "      <td>291</td>\n",
              "    </tr>\n",
              "    <tr>\n",
              "      <th>3</th>\n",
              "      <td>6346</td>\n",
              "      <td>222</td>\n",
              "      <td>136</td>\n",
              "      <td>4.1</td>\n",
              "      <td>24.0</td>\n",
              "      <td>800</td>\n",
              "      <td>20</td>\n",
              "      <td>1</td>\n",
              "      <td>100</td>\n",
              "      <td>23</td>\n",
              "      <td>21</td>\n",
              "      <td>18</td>\n",
              "      <td>178</td>\n",
              "      <td>291</td>\n",
              "    </tr>\n",
              "    <tr>\n",
              "      <th>4</th>\n",
              "      <td>15387</td>\n",
              "      <td>222</td>\n",
              "      <td>620</td>\n",
              "      <td>3.8</td>\n",
              "      <td>165.0</td>\n",
              "      <td>300</td>\n",
              "      <td>8</td>\n",
              "      <td>1</td>\n",
              "      <td>28</td>\n",
              "      <td>23</td>\n",
              "      <td>21</td>\n",
              "      <td>18</td>\n",
              "      <td>316</td>\n",
              "      <td>291</td>\n",
              "    </tr>\n",
              "  </tbody>\n",
              "</table>\n",
              "</div>"
            ],
            "text/plain": [
              "   RESTAURANT_ID  CITY  LOCALITY  ...  CUISINES_4  TIME_1  TIME_2\n",
              "0           9438   320       285  ...          18     343     239\n",
              "1          13198    67      1046  ...          18     945     291\n",
              "2          10915    67      1101  ...          32     327     291\n",
              "3           6346   222       136  ...          18     178     291\n",
              "4          15387   222       620  ...          18     316     291\n",
              "\n",
              "[5 rows x 14 columns]"
            ]
          },
          "metadata": {
            "tags": []
          },
          "execution_count": 41
        }
      ]
    },
    {
      "cell_type": "code",
      "metadata": {
        "id": "ONVG-HlwbVJp"
      },
      "source": [
        "test=Test_data"
      ],
      "execution_count": 42,
      "outputs": []
    },
    {
      "cell_type": "markdown",
      "metadata": {
        "id": "FxDUvCKTAAtM"
      },
      "source": [
        "# **Exploratory Data Analysis**"
      ]
    },
    {
      "cell_type": "code",
      "metadata": {
        "id": "aHCvrx2_AJrZ",
        "colab": {
          "base_uri": "https://localhost:8080/",
          "height": 280
        },
        "outputId": "f6863313-d9dc-4dca-f8b6-58d5b54ed8af"
      },
      "source": [
        "#Checking the mean COST.\r\n",
        "\r\n",
        "price = Train_data['COST'].hist(bins=60)\r\n",
        "mean_val = np.mean(Train_data['COST'])\r\n",
        "plt.axvline(mean_val,linewidth=4, color='red', label='mean COST')\r\n",
        "plt.xlabel('COST')\r\n",
        "plt.ylabel('Count')\r\n",
        "plt.legend()\r\n",
        "plt.show()"
      ],
      "execution_count": 43,
      "outputs": [
        {
          "output_type": "display_data",
          "data": {
            "image/png": "[encoded data removed]",
            "text/plain": [
              "<Figure size 432x288 with 1 Axes>"
            ]
          },
          "metadata": {
            "tags": [],
            "needs_background": "light"
          }
        }
      ]
    },
    {
      "cell_type": "code",
      "metadata": {
        "colab": {
          "base_uri": "https://localhost:8080/",
          "height": 721
        },
        "id": "gK4_kC4Ymrsp",
        "outputId": "e1fc7361-dde7-47d1-d2cb-fa46f77afa12"
      },
      "source": [
        "df1=Train_data\r\n",
        "plt.subplots(figsize=(12,8))\r\n",
        "sns.countplot(x='CITY',data=df1,palette='rainbow')\r\n",
        "plt.title('Number of CITY',fontsize=18)\r\n",
        "plt.show()\r\n",
        "\r\n",
        "print(df1['CITY'].value_counts())"
      ],
      "execution_count": 44,
      "outputs": [
        {
          "output_type": "display_data",
          "data": {
            "image/png": "[encoded data removed]",
            "text/plain": [
              "<Figure size 864x576 with 1 Axes>"
            ]
          },
          "metadata": {
            "tags": [],
            "needs_background": "light"
          }
        },
        {
          "output_type": "stream",
          "text": [
            "67     2286\n",
            "37     2149\n",
            "131    1819\n",
            "222    1722\n",
            "252    1321\n",
            "       ... \n",
            "356       1\n",
            "5         1\n",
            "13        1\n",
            "21        1\n",
            "0         1\n",
            "Name: CITY, Length: 359, dtype: int64\n"
          ],
          "name": "stdout"
        }
      ]
    },
    {
      "cell_type": "code",
      "metadata": {
        "colab": {
          "base_uri": "https://localhost:8080/",
          "height": 1000
        },
        "id": "xcoU7OmPmrzk",
        "outputId": "7ee735c3-19b9-4032-b018-bf67af1e15d2"
      },
      "source": [
        "plt.subplots(figsize=(18,8))\r\n",
        "sns.countplot(x='RATING',data=df1,palette='rainbow')\r\n",
        "plt.title('Number of Given RATING',fontsize=18)\r\n",
        "plt.show()\r\n",
        "\r\n",
        "print(df1['RATING'].value_counts())"
      ],
      "execution_count": 45,
      "outputs": [
        {
          "output_type": "display_data",
          "data": {
            "image/png": "[encoded data removed]",
            "text/plain": [
              "<Figure size 1296x576 with 1 Axes>"
            ]
          },
          "metadata": {
            "tags": [],
            "needs_background": "light"
          }
        },
        {
          "output_type": "stream",
          "text": [
            "3.900000    1240\n",
            "3.785472    1202\n",
            "3.800000    1190\n",
            "4.000000    1099\n",
            "3.700000    1086\n",
            "3.600000     951\n",
            "4.100000     936\n",
            "3.500000     771\n",
            "4.200000     723\n",
            "3.400000     575\n",
            "4.300000     556\n",
            "3.300000     365\n",
            "4.400000     362\n",
            "3.200000     266\n",
            "4.500000     199\n",
            "2.900000     186\n",
            "3.100000     186\n",
            "3.000000     170\n",
            "2.800000     146\n",
            "4.600000     141\n",
            "2.700000      89\n",
            "4.700000      69\n",
            "2.600000      61\n",
            "2.500000      35\n",
            "4.800000      32\n",
            "4.900000      22\n",
            "2.400000      15\n",
            "2.300000      10\n",
            "2.100000       3\n",
            "2.200000       2\n",
            "2.000000       2\n",
            "Name: RATING, dtype: int64\n"
          ],
          "name": "stdout"
        }
      ]
    },
    {
      "cell_type": "code",
      "metadata": {
        "colab": {
          "base_uri": "https://localhost:8080/",
          "height": 612
        },
        "id": "gR0yyylfmr8_",
        "outputId": "464da191-612a-4742-be62-c4a6673c4766"
      },
      "source": [
        "plt.subplots(figsize=(20,6))\r\n",
        "sns.countplot(x='VOTES',data=df1,palette='rainbow')\r\n",
        "plt.title('maximum Given VOTES',fontsize=18)\r\n",
        "plt.show()\r\n",
        "\r\n",
        "print(df1['VOTES'].value_counts())"
      ],
      "execution_count": 46,
      "outputs": [
        {
          "output_type": "display_data",
          "data": {
            "image/png": "[encoded data removed]",
            "text/plain": [
              "<Figure size 1440x432 with 1 Axes>"
            ]
          },
          "metadata": {
            "tags": [],
            "needs_background": "light"
          }
        },
        {
          "output_type": "stream",
          "text": [
            "44.0      1275\n",
            "29.0        66\n",
            "28.0        66\n",
            "38.0        65\n",
            "35.0        64\n",
            "          ... \n",
            "4801.0       1\n",
            "2923.0       1\n",
            "1273.0       1\n",
            "5227.0       1\n",
            "1654.0       1\n",
            "Name: VOTES, Length: 1847, dtype: int64\n"
          ],
          "name": "stdout"
        }
      ]
    },
    {
      "cell_type": "code",
      "metadata": {
        "colab": {
          "base_uri": "https://localhost:8080/",
          "height": 800
        },
        "id": "pk2cB6PXmsEY",
        "outputId": "0b6f9db5-fb86-4e9c-f1ab-2abf7fa2ff64"
      },
      "source": [
        "plt.subplots(figsize=(8,6))\r\n",
        "sns.countplot(x='TITLE_1',data=df1,palette='rainbow')\r\n",
        "plt.title('maximum People like TITLE_1',fontsize=18)\r\n",
        "plt.show()\r\n",
        "\r\n",
        "print(df1['TITLE_1'].value_counts())"
      ],
      "execution_count": 47,
      "outputs": [
        {
          "output_type": "display_data",
          "data": {
            "image/png": "[encoded data removed]",
            "text/plain": [
              "<Figure size 576x432 with 1 Axes>"
            ]
          },
          "metadata": {
            "tags": [],
            "needs_background": "light"
          }
        },
        {
          "output_type": "stream",
          "text": [
            "20    5340\n",
            "4     4122\n",
            "3      749\n",
            "8      478\n",
            "0      463\n",
            "10     350\n",
            "1      254\n",
            "2      215\n",
            "14     154\n",
            "19     103\n",
            "21     102\n",
            "11      93\n",
            "13      56\n",
            "16      53\n",
            "9       45\n",
            "17      44\n",
            "12      30\n",
            "5       23\n",
            "6        6\n",
            "18       4\n",
            "7        3\n",
            "15       3\n",
            "Name: TITLE_1, dtype: int64\n"
          ],
          "name": "stdout"
        }
      ]
    },
    {
      "cell_type": "code",
      "metadata": {
        "colab": {
          "base_uri": "https://localhost:8080/",
          "height": 749
        },
        "id": "kad3tza5msL_",
        "outputId": "0462c7fc-5179-4c45-d5ef-db10305a191a"
      },
      "source": [
        "plt.subplots(figsize=(8,6))\r\n",
        "sns.countplot(x='TITLE_2',data=df1,palette='rainbow')\r\n",
        "plt.title('maximum People like TITLE_2',fontsize=18)\r\n",
        "plt.show()\r\n",
        "\r\n",
        "print(df1['TITLE_2'].value_counts())"
      ],
      "execution_count": 48,
      "outputs": [
        {
          "output_type": "display_data",
          "data": {
            "image/png": "[encoded data removed]",
            "text/plain": [
              "<Figure size 576x432 with 1 Axes>"
            ]
          },
          "metadata": {
            "tags": [],
            "needs_background": "light"
          }
        },
        {
          "output_type": "stream",
          "text": [
            "1     11636\n",
            "17      261\n",
            "4       257\n",
            "7       138\n",
            "3        94\n",
            "0        69\n",
            "18       53\n",
            "13       47\n",
            "16       35\n",
            "2        34\n",
            "14       27\n",
            "9        15\n",
            "8         8\n",
            "5         5\n",
            "12        4\n",
            "11        3\n",
            "6         2\n",
            "10        1\n",
            "15        1\n",
            "Name: TITLE_2, dtype: int64\n"
          ],
          "name": "stdout"
        }
      ]
    },
    {
      "cell_type": "code",
      "metadata": {
        "colab": {
          "base_uri": "https://localhost:8080/",
          "height": 613
        },
        "id": "8witbfMRnrdJ",
        "outputId": "181424a1-2060-4a4e-c111-adf444e09723"
      },
      "source": [
        "plt.subplots(figsize=(20,6))\r\n",
        "sns.countplot(x='CUISINES_1',data=df1,palette='rainbow')\r\n",
        "plt.title('maximum People like CUISINES_1',fontsize=18)\r\n",
        "plt.show()\r\n",
        "\r\n",
        "print(df1['CUISINES_1'].value_counts())"
      ],
      "execution_count": 49,
      "outputs": [
        {
          "output_type": "display_data",
          "data": {
            "image/png": "[encoded data removed]",
            "text/plain": [
              "<Figure size 1440x432 with 1 Axes>"
            ]
          },
          "metadata": {
            "tags": [],
            "needs_background": "light"
          }
        },
        {
          "output_type": "stream",
          "text": [
            "72    3129\n",
            "90    1241\n",
            "25     996\n",
            "33     762\n",
            "21     713\n",
            "      ... \n",
            "5        1\n",
            "68       1\n",
            "44       1\n",
            "83       1\n",
            "0        1\n",
            "Name: CUISINES_1, Length: 104, dtype: int64\n"
          ],
          "name": "stdout"
        }
      ]
    },
    {
      "cell_type": "code",
      "metadata": {
        "colab": {
          "base_uri": "https://localhost:8080/",
          "height": 613
        },
        "id": "-ttPtZZDnro6",
        "outputId": "92959f02-8931-49ef-d219-8ccbedbad3b7"
      },
      "source": [
        "plt.subplots(figsize=(20,6))\r\n",
        "sns.countplot(x='CUISINES_2',data=df1,palette='rainbow')\r\n",
        "plt.title('maximum People like CUISINES_2',fontsize=18)\r\n",
        "plt.show()\r\n",
        "\r\n",
        "print(df1['CUISINES_2'].value_counts())"
      ],
      "execution_count": 50,
      "outputs": [
        {
          "output_type": "display_data",
          "data": {
            "image/png": "[encoded data removed]",
            "text/plain": [
              "<Figure size 1440x432 with 1 Axes>"
            ]
          },
          "metadata": {
            "tags": [],
            "needs_background": "light"
          }
        },
        {
          "output_type": "stream",
          "text": [
            "23    4892\n",
            "66    1373\n",
            "28     782\n",
            "84     638\n",
            "25     497\n",
            "      ... \n",
            "5        1\n",
            "76       1\n",
            "67       1\n",
            "33       1\n",
            "10       1\n",
            "Name: CUISINES_2, Length: 98, dtype: int64\n"
          ],
          "name": "stdout"
        }
      ]
    },
    {
      "cell_type": "code",
      "metadata": {
        "colab": {
          "base_uri": "https://localhost:8080/",
          "height": 613
        },
        "id": "g3BBKiMYnr3B",
        "outputId": "5f967608-e166-47db-8097-d1942ec0d48e"
      },
      "source": [
        "plt.subplots(figsize=(20,6))\r\n",
        "sns.countplot(x='CUISINES_3',data=df1,palette='rainbow')\r\n",
        "plt.title('maximum People like CUISINES_3',fontsize=18)\r\n",
        "plt.show()\r\n",
        "\r\n",
        "print(df1['CUISINES_3'].value_counts())"
      ],
      "execution_count": 51,
      "outputs": [
        {
          "output_type": "display_data",
          "data": {
            "image/png": "[encoded data removed]",
            "text/plain": [
              "<Figure size 1440x432 with 1 Axes>"
            ]
          },
          "metadata": {
            "tags": [],
            "needs_background": "light"
          }
        },
        {
          "output_type": "stream",
          "text": [
            "21    8145\n",
            "66     593\n",
            "27     387\n",
            "23     345\n",
            "40     276\n",
            "      ... \n",
            "61       1\n",
            "30       1\n",
            "9        1\n",
            "14       1\n",
            "64       1\n",
            "Name: CUISINES_3, Length: 93, dtype: int64\n"
          ],
          "name": "stdout"
        }
      ]
    },
    {
      "cell_type": "code",
      "metadata": {
        "colab": {
          "base_uri": "https://localhost:8080/",
          "height": 613
        },
        "id": "zzjsNdXgoGmf",
        "outputId": "b3e04b98-2df6-472d-cffc-ad7f17bcde11"
      },
      "source": [
        "plt.subplots(figsize=(20,6))\r\n",
        "sns.countplot(x='TIME_1',data=df1,palette='rainbow')\r\n",
        "plt.title('maximum People Prefer TIME_1',fontsize=18)\r\n",
        "plt.show()\r\n",
        "\r\n",
        "print(df1['TIME_1'].value_counts())"
      ],
      "execution_count": 52,
      "outputs": [
        {
          "output_type": "display_data",
          "data": {
            "image/png": "[encoded data removed]",
            "text/plain": [
              "<Figure size 1440x432 with 1 Axes>"
            ]
          },
          "metadata": {
            "tags": [],
            "needs_background": "light"
          }
        },
        {
          "output_type": "stream",
          "text": [
            "290    1415\n",
            "525     469\n",
            "514     407\n",
            "305     310\n",
            "552     308\n",
            "       ... \n",
            "60        1\n",
            "52        1\n",
            "44        1\n",
            "28        1\n",
            "0         1\n",
            "Name: TIME_1, Length: 1395, dtype: int64\n"
          ],
          "name": "stdout"
        }
      ]
    },
    {
      "cell_type": "code",
      "metadata": {
        "colab": {
          "base_uri": "https://localhost:8080/",
          "height": 296
        },
        "id": "nEyCPZCaoGwc",
        "outputId": "fa576ff0-d9c9-4af5-8e4a-f49a4cdd298a"
      },
      "source": [
        "sns.distplot(df1['TIME_1'], color='g')\r\n",
        "plt.title(\"Food Lovers prefer Time\")\r\n",
        "plt.show()"
      ],
      "execution_count": 53,
      "outputs": [
        {
          "output_type": "display_data",
          "data": {
            "image/png": "[encoded data removed]",
            "text/plain": [
              "<Figure size 432x288 with 1 Axes>"
            ]
          },
          "metadata": {
            "tags": [],
            "needs_background": "light"
          }
        }
      ]
    },
    {
      "cell_type": "code",
      "metadata": {
        "colab": {
          "base_uri": "https://localhost:8080/",
          "height": 296
        },
        "id": "zKb7rfdAoG_z",
        "outputId": "a02b184d-d230-4090-951b-17d93d750c51"
      },
      "source": [
        "sns.distplot(df1['TIME_2'], color='g')\r\n",
        "plt.title(\"Food Lovers giving secondery Time\")\r\n",
        "plt.show()"
      ],
      "execution_count": 54,
      "outputs": [
        {
          "output_type": "display_data",
          "data": {
            "image/png": "[encoded data removed]",
            "text/plain": [
              "<Figure size 432x288 with 1 Axes>"
            ]
          },
          "metadata": {
            "tags": [],
            "needs_background": "light"
          }
        }
      ]
    },
    {
      "cell_type": "code",
      "metadata": {
        "colab": {
          "base_uri": "https://localhost:8080/"
        },
        "id": "9LrwZh0loki7",
        "outputId": "5cb671cf-7c3b-4972-c886-853b5da15f50"
      },
      "source": [
        "df1.columns"
      ],
      "execution_count": 55,
      "outputs": [
        {
          "output_type": "execute_result",
          "data": {
            "text/plain": [
              "Index(['RESTAURANT_ID', 'CITY', 'LOCALITY', 'RATING', 'VOTES', 'COST',\n",
              "       'TITLE_1', 'TITLE_2', 'CUISINES_1', 'CUISINES_2', 'CUISINES_3',\n",
              "       'CUISINES_4', 'TIME_1', 'TIME_2'],\n",
              "      dtype='object')"
            ]
          },
          "metadata": {
            "tags": []
          },
          "execution_count": 55
        }
      ]
    },
    {
      "cell_type": "code",
      "metadata": {
        "colab": {
          "base_uri": "https://localhost:8080/",
          "height": 296
        },
        "id": "lmxrOOZIokvM",
        "outputId": "c1e22115-256c-460c-dded-92956ba6e58a"
      },
      "source": [
        "sns.scatterplot(x=\"CITY\" ,y=\"COST\",data=df1)"
      ],
      "execution_count": 56,
      "outputs": [
        {
          "output_type": "execute_result",
          "data": {
            "text/plain": [
              "<matplotlib.axes._subplots.AxesSubplot at 0x7f45b093c2e8>"
            ]
          },
          "metadata": {
            "tags": []
          },
          "execution_count": 56
        },
        {
          "output_type": "display_data",
          "data": {
            "image/png": "[encoded data removed]",
            "text/plain": [
              "<Figure size 432x288 with 1 Axes>"
            ]
          },
          "metadata": {
            "tags": [],
            "needs_background": "light"
          }
        }
      ]
    },
    {
      "cell_type": "code",
      "metadata": {
        "colab": {
          "base_uri": "https://localhost:8080/",
          "height": 296
        },
        "id": "RTC9HAwkoHLr",
        "outputId": "096ab3de-ae24-47dd-9d80-fda8e32cdcca"
      },
      "source": [
        "sns.scatterplot(x=\"LOCALITY\" ,y=\"COST\",data=df1)"
      ],
      "execution_count": 57,
      "outputs": [
        {
          "output_type": "execute_result",
          "data": {
            "text/plain": [
              "<matplotlib.axes._subplots.AxesSubplot at 0x7f45b055cbe0>"
            ]
          },
          "metadata": {
            "tags": []
          },
          "execution_count": 57
        },
        {
          "output_type": "display_data",
          "data": {
            "image/png": "[encoded data removed]",
            "text/plain": [
              "<Figure size 432x288 with 1 Axes>"
            ]
          },
          "metadata": {
            "tags": [],
            "needs_background": "light"
          }
        }
      ]
    },
    {
      "cell_type": "code",
      "metadata": {
        "colab": {
          "base_uri": "https://localhost:8080/",
          "height": 296
        },
        "id": "8kLoKNXdoHWR",
        "outputId": "651f8c4b-41ba-4031-e44d-1001c3f41617"
      },
      "source": [
        "sns.scatterplot(x=\"RATING\" ,y=\"COST\",data=df1)"
      ],
      "execution_count": 58,
      "outputs": [
        {
          "output_type": "execute_result",
          "data": {
            "text/plain": [
              "<matplotlib.axes._subplots.AxesSubplot at 0x7f45b053ecf8>"
            ]
          },
          "metadata": {
            "tags": []
          },
          "execution_count": 58
        },
        {
          "output_type": "display_data",
          "data": {
            "image/png": "[encoded data removed]",
            "text/plain": [
              "<Figure size 432x288 with 1 Axes>"
            ]
          },
          "metadata": {
            "tags": [],
            "needs_background": "light"
          }
        }
      ]
    },
    {
      "cell_type": "code",
      "metadata": {
        "colab": {
          "base_uri": "https://localhost:8080/",
          "height": 296
        },
        "id": "x5vpAM7xmsUU",
        "outputId": "a1c59bd3-d047-4834-ef87-9966c91c51e1"
      },
      "source": [
        "sns.scatterplot(x=\"VOTES\" ,y=\"COST\",data=df1)"
      ],
      "execution_count": 59,
      "outputs": [
        {
          "output_type": "execute_result",
          "data": {
            "text/plain": [
              "<matplotlib.axes._subplots.AxesSubplot at 0x7f45b04a77f0>"
            ]
          },
          "metadata": {
            "tags": []
          },
          "execution_count": 59
        },
        {
          "output_type": "display_data",
          "data": {
            "image/png": "[encoded data removed]",
            "text/plain": [
              "<Figure size 432x288 with 1 Axes>"
            ]
          },
          "metadata": {
            "tags": [],
            "needs_background": "light"
          }
        }
      ]
    },
    {
      "cell_type": "code",
      "metadata": {
        "colab": {
          "base_uri": "https://localhost:8080/",
          "height": 297
        },
        "id": "tGnav7s4oyEN",
        "outputId": "fa899c33-4dce-44dd-d56f-f0742a67a6be"
      },
      "source": [
        "sns.scatterplot(x=\"TITLE_1\" ,y=\"COST\",data=df1)"
      ],
      "execution_count": 60,
      "outputs": [
        {
          "output_type": "execute_result",
          "data": {
            "text/plain": [
              "<matplotlib.axes._subplots.AxesSubplot at 0x7f45b0471898>"
            ]
          },
          "metadata": {
            "tags": []
          },
          "execution_count": 60
        },
        {
          "output_type": "display_data",
          "data": {
            "image/png": "[encoded data removed]",
            "text/plain": [
              "<Figure size 432x288 with 1 Axes>"
            ]
          },
          "metadata": {
            "tags": [],
            "needs_background": "light"
          }
        }
      ]
    },
    {
      "cell_type": "code",
      "metadata": {
        "colab": {
          "base_uri": "https://localhost:8080/",
          "height": 297
        },
        "id": "7B_sttDNoyN2",
        "outputId": "e14a1c4d-bea4-4644-ea5c-0d081678b101"
      },
      "source": [
        "sns.scatterplot(x=\"TITLE_2\" ,y=\"COST\",data=df1)"
      ],
      "execution_count": 61,
      "outputs": [
        {
          "output_type": "execute_result",
          "data": {
            "text/plain": [
              "<matplotlib.axes._subplots.AxesSubplot at 0x7f45b049a048>"
            ]
          },
          "metadata": {
            "tags": []
          },
          "execution_count": 61
        },
        {
          "output_type": "display_data",
          "data": {
            "image/png": "[encoded data removed]",
            "text/plain": [
              "<Figure size 432x288 with 1 Axes>"
            ]
          },
          "metadata": {
            "tags": [],
            "needs_background": "light"
          }
        }
      ]
    },
    {
      "cell_type": "code",
      "metadata": {
        "colab": {
          "base_uri": "https://localhost:8080/",
          "height": 297
        },
        "id": "S7MZF7TzoyX4",
        "outputId": "0a4e6402-460c-4620-d11d-514cb79c2af7"
      },
      "source": [
        "sns.scatterplot(x=\"CUISINES_1\" ,y=\"COST\",data=df1)"
      ],
      "execution_count": 62,
      "outputs": [
        {
          "output_type": "execute_result",
          "data": {
            "text/plain": [
              "<matplotlib.axes._subplots.AxesSubplot at 0x7f45b034df60>"
            ]
          },
          "metadata": {
            "tags": []
          },
          "execution_count": 62
        },
        {
          "output_type": "display_data",
          "data": {
            "image/png": "[encoded data removed]",
            "text/plain": [
              "<Figure size 432x288 with 1 Axes>"
            ]
          },
          "metadata": {
            "tags": [],
            "needs_background": "light"
          }
        }
      ]
    },
    {
      "cell_type": "code",
      "metadata": {
        "colab": {
          "base_uri": "https://localhost:8080/",
          "height": 297
        },
        "id": "8cW_D0Lioyhl",
        "outputId": "3c4582b9-1028-4d8c-b641-24e165c97560"
      },
      "source": [
        "sns.scatterplot(x=\"CUISINES_2\" ,y=\"COST\",data=df1)"
      ],
      "execution_count": 63,
      "outputs": [
        {
          "output_type": "execute_result",
          "data": {
            "text/plain": [
              "<matplotlib.axes._subplots.AxesSubplot at 0x7f45b03860f0>"
            ]
          },
          "metadata": {
            "tags": []
          },
          "execution_count": 63
        },
        {
          "output_type": "display_data",
          "data": {
            "image/png": "[encoded data removed]",
            "text/plain": [
              "<Figure size 432x288 with 1 Axes>"
            ]
          },
          "metadata": {
            "tags": [],
            "needs_background": "light"
          }
        }
      ]
    },
    {
      "cell_type": "code",
      "metadata": {
        "colab": {
          "base_uri": "https://localhost:8080/",
          "height": 297
        },
        "id": "oep1Vko_oyt1",
        "outputId": "87feca6d-8ab9-4310-962f-19b538625440"
      },
      "source": [
        "sns.scatterplot(x=\"CUISINES_3\" ,y=\"COST\",data=df1)"
      ],
      "execution_count": 64,
      "outputs": [
        {
          "output_type": "execute_result",
          "data": {
            "text/plain": [
              "<matplotlib.axes._subplots.AxesSubplot at 0x7f45b02fb6d8>"
            ]
          },
          "metadata": {
            "tags": []
          },
          "execution_count": 64
        },
        {
          "output_type": "display_data",
          "data": {
            "image/png": "[encoded data removed]",
            "text/plain": [
              "<Figure size 432x288 with 1 Axes>"
            ]
          },
          "metadata": {
            "tags": [],
            "needs_background": "light"
          }
        }
      ]
    },
    {
      "cell_type": "code",
      "metadata": {
        "colab": {
          "base_uri": "https://localhost:8080/",
          "height": 297
        },
        "id": "meghYv29oy8U",
        "outputId": "26f5dd0e-29b5-4e8a-9cbd-7b9bc50a5ab3"
      },
      "source": [
        "sns.scatterplot(x=\"TIME_1\" ,y=\"COST\",data=df1)"
      ],
      "execution_count": 65,
      "outputs": [
        {
          "output_type": "execute_result",
          "data": {
            "text/plain": [
              "<matplotlib.axes._subplots.AxesSubplot at 0x7f45b0251080>"
            ]
          },
          "metadata": {
            "tags": []
          },
          "execution_count": 65
        },
        {
          "output_type": "display_data",
          "data": {
            "image/png": "[encoded data removed]",
            "text/plain": [
              "<Figure size 432x288 with 1 Axes>"
            ]
          },
          "metadata": {
            "tags": [],
            "needs_background": "light"
          }
        }
      ]
    },
    {
      "cell_type": "code",
      "metadata": {
        "colab": {
          "base_uri": "https://localhost:8080/",
          "height": 297
        },
        "id": "Mw5Zuk2ipFVP",
        "outputId": "899543f6-491e-4ff9-f5ef-068702d27041"
      },
      "source": [
        "sns.scatterplot(x=\"TIME_2\" ,y=\"COST\",data=df1)"
      ],
      "execution_count": 66,
      "outputs": [
        {
          "output_type": "execute_result",
          "data": {
            "text/plain": [
              "<matplotlib.axes._subplots.AxesSubplot at 0x7f45b02148d0>"
            ]
          },
          "metadata": {
            "tags": []
          },
          "execution_count": 66
        },
        {
          "output_type": "display_data",
          "data": {
            "image/png": "[encoded data removed]",
            "text/plain": [
              "<Figure size 432x288 with 1 Axes>"
            ]
          },
          "metadata": {
            "tags": [],
            "needs_background": "light"
          }
        }
      ]
    },
    {
      "cell_type": "markdown",
      "metadata": {
        "id": "by9Vr-JGXe0M"
      },
      "source": [
        "**Summary Statistics**"
      ]
    },
    {
      "cell_type": "code",
      "metadata": {
        "id": "ia4xQ1TOpd4y"
      },
      "source": [
        "Train_data=df1"
      ],
      "execution_count": 67,
      "outputs": []
    },
    {
      "cell_type": "code",
      "metadata": {
        "id": "2smmchKDbBkw"
      },
      "source": [
        "train=Train_data"
      ],
      "execution_count": 68,
      "outputs": []
    },
    {
      "cell_type": "code",
      "metadata": {
        "colab": {
          "base_uri": "https://localhost:8080/",
          "height": 503
        },
        "id": "XmrYFUFibSAX",
        "outputId": "4dbdeb69-be44-43a7-fed1-2727a1b9685e"
      },
      "source": [
        "Train_cor=Train_data.corr()\r\n",
        "Train_cor"
      ],
      "execution_count": 69,
      "outputs": [
        {
          "output_type": "execute_result",
          "data": {
            "text/html": [
              "<div>\n",
              "<style scoped>\n",
              "    .dataframe tbody tr th:only-of-type {\n",
              "        vertical-align: middle;\n",
              "    }\n",
              "\n",
              "    .dataframe tbody tr th {\n",
              "        vertical-align: top;\n",
              "    }\n",
              "\n",
              "    .dataframe thead th {\n",
              "        text-align: right;\n",
              "    }\n",
              "</style>\n",
              "<table border=\"1\" class=\"dataframe\">\n",
              "  <thead>\n",
              "    <tr style=\"text-align: right;\">\n",
              "      <th></th>\n",
              "      <th>RESTAURANT_ID</th>\n",
              "      <th>CITY</th>\n",
              "      <th>LOCALITY</th>\n",
              "      <th>RATING</th>\n",
              "      <th>VOTES</th>\n",
              "      <th>COST</th>\n",
              "      <th>TITLE_1</th>\n",
              "      <th>TITLE_2</th>\n",
              "      <th>CUISINES_1</th>\n",
              "      <th>CUISINES_2</th>\n",
              "      <th>CUISINES_3</th>\n",
              "      <th>CUISINES_4</th>\n",
              "      <th>TIME_1</th>\n",
              "      <th>TIME_2</th>\n",
              "    </tr>\n",
              "  </thead>\n",
              "  <tbody>\n",
              "    <tr>\n",
              "      <th>RESTAURANT_ID</th>\n",
              "      <td>1.000000</td>\n",
              "      <td>0.005112</td>\n",
              "      <td>-0.004242</td>\n",
              "      <td>0.031232</td>\n",
              "      <td>0.000403</td>\n",
              "      <td>0.040710</td>\n",
              "      <td>-0.000311</td>\n",
              "      <td>-0.015064</td>\n",
              "      <td>0.047963</td>\n",
              "      <td>0.027091</td>\n",
              "      <td>-0.010068</td>\n",
              "      <td>0.032396</td>\n",
              "      <td>0.005949</td>\n",
              "      <td>0.006779</td>\n",
              "    </tr>\n",
              "    <tr>\n",
              "      <th>CITY</th>\n",
              "      <td>0.005112</td>\n",
              "      <td>1.000000</td>\n",
              "      <td>0.043072</td>\n",
              "      <td>0.053272</td>\n",
              "      <td>0.043373</td>\n",
              "      <td>0.044555</td>\n",
              "      <td>-0.015925</td>\n",
              "      <td>0.000692</td>\n",
              "      <td>0.013487</td>\n",
              "      <td>0.019128</td>\n",
              "      <td>0.026046</td>\n",
              "      <td>0.022865</td>\n",
              "      <td>-0.011639</td>\n",
              "      <td>-0.021268</td>\n",
              "    </tr>\n",
              "    <tr>\n",
              "      <th>LOCALITY</th>\n",
              "      <td>-0.004242</td>\n",
              "      <td>0.043072</td>\n",
              "      <td>1.000000</td>\n",
              "      <td>-0.027983</td>\n",
              "      <td>-0.028965</td>\n",
              "      <td>-0.015050</td>\n",
              "      <td>0.028005</td>\n",
              "      <td>0.003047</td>\n",
              "      <td>0.019262</td>\n",
              "      <td>0.007060</td>\n",
              "      <td>-0.004419</td>\n",
              "      <td>-0.019878</td>\n",
              "      <td>-0.008307</td>\n",
              "      <td>-0.005642</td>\n",
              "    </tr>\n",
              "    <tr>\n",
              "      <th>RATING</th>\n",
              "      <td>0.031232</td>\n",
              "      <td>0.053272</td>\n",
              "      <td>-0.027983</td>\n",
              "      <td>1.000000</td>\n",
              "      <td>0.344759</td>\n",
              "      <td>0.320033</td>\n",
              "      <td>-0.157441</td>\n",
              "      <td>0.029417</td>\n",
              "      <td>-0.078193</td>\n",
              "      <td>0.008917</td>\n",
              "      <td>0.069002</td>\n",
              "      <td>0.089921</td>\n",
              "      <td>0.034239</td>\n",
              "      <td>0.076953</td>\n",
              "    </tr>\n",
              "    <tr>\n",
              "      <th>VOTES</th>\n",
              "      <td>0.000403</td>\n",
              "      <td>0.043373</td>\n",
              "      <td>-0.028965</td>\n",
              "      <td>0.344759</td>\n",
              "      <td>1.000000</td>\n",
              "      <td>0.255723</td>\n",
              "      <td>-0.144066</td>\n",
              "      <td>0.049878</td>\n",
              "      <td>-0.040369</td>\n",
              "      <td>0.039546</td>\n",
              "      <td>0.084202</td>\n",
              "      <td>0.121397</td>\n",
              "      <td>-0.027787</td>\n",
              "      <td>0.014767</td>\n",
              "    </tr>\n",
              "    <tr>\n",
              "      <th>COST</th>\n",
              "      <td>0.040710</td>\n",
              "      <td>0.044555</td>\n",
              "      <td>-0.015050</td>\n",
              "      <td>0.320033</td>\n",
              "      <td>0.255723</td>\n",
              "      <td>1.000000</td>\n",
              "      <td>-0.296176</td>\n",
              "      <td>0.018361</td>\n",
              "      <td>-0.038959</td>\n",
              "      <td>0.057167</td>\n",
              "      <td>0.110186</td>\n",
              "      <td>0.136278</td>\n",
              "      <td>-0.012331</td>\n",
              "      <td>-0.009951</td>\n",
              "    </tr>\n",
              "    <tr>\n",
              "      <th>TITLE_1</th>\n",
              "      <td>-0.000311</td>\n",
              "      <td>-0.015925</td>\n",
              "      <td>0.028005</td>\n",
              "      <td>-0.157441</td>\n",
              "      <td>-0.144066</td>\n",
              "      <td>-0.296176</td>\n",
              "      <td>1.000000</td>\n",
              "      <td>-0.108629</td>\n",
              "      <td>0.208093</td>\n",
              "      <td>-0.003936</td>\n",
              "      <td>-0.081686</td>\n",
              "      <td>-0.100541</td>\n",
              "      <td>0.056445</td>\n",
              "      <td>0.006111</td>\n",
              "    </tr>\n",
              "    <tr>\n",
              "      <th>TITLE_2</th>\n",
              "      <td>-0.015064</td>\n",
              "      <td>0.000692</td>\n",
              "      <td>0.003047</td>\n",
              "      <td>0.029417</td>\n",
              "      <td>0.049878</td>\n",
              "      <td>0.018361</td>\n",
              "      <td>-0.108629</td>\n",
              "      <td>1.000000</td>\n",
              "      <td>-0.105395</td>\n",
              "      <td>0.020972</td>\n",
              "      <td>0.027035</td>\n",
              "      <td>0.025001</td>\n",
              "      <td>0.035569</td>\n",
              "      <td>0.038771</td>\n",
              "    </tr>\n",
              "    <tr>\n",
              "      <th>CUISINES_1</th>\n",
              "      <td>0.047963</td>\n",
              "      <td>0.013487</td>\n",
              "      <td>0.019262</td>\n",
              "      <td>-0.078193</td>\n",
              "      <td>-0.040369</td>\n",
              "      <td>-0.038959</td>\n",
              "      <td>0.208093</td>\n",
              "      <td>-0.105395</td>\n",
              "      <td>1.000000</td>\n",
              "      <td>-0.019474</td>\n",
              "      <td>-0.070932</td>\n",
              "      <td>-0.042743</td>\n",
              "      <td>0.098981</td>\n",
              "      <td>-0.044552</td>\n",
              "    </tr>\n",
              "    <tr>\n",
              "      <th>CUISINES_2</th>\n",
              "      <td>0.027091</td>\n",
              "      <td>0.019128</td>\n",
              "      <td>0.007060</td>\n",
              "      <td>0.008917</td>\n",
              "      <td>0.039546</td>\n",
              "      <td>0.057167</td>\n",
              "      <td>-0.003936</td>\n",
              "      <td>0.020972</td>\n",
              "      <td>-0.019474</td>\n",
              "      <td>1.000000</td>\n",
              "      <td>0.048747</td>\n",
              "      <td>0.034233</td>\n",
              "      <td>0.044170</td>\n",
              "      <td>-0.022248</td>\n",
              "    </tr>\n",
              "    <tr>\n",
              "      <th>CUISINES_3</th>\n",
              "      <td>-0.010068</td>\n",
              "      <td>0.026046</td>\n",
              "      <td>-0.004419</td>\n",
              "      <td>0.069002</td>\n",
              "      <td>0.084202</td>\n",
              "      <td>0.110186</td>\n",
              "      <td>-0.081686</td>\n",
              "      <td>0.027035</td>\n",
              "      <td>-0.070932</td>\n",
              "      <td>0.048747</td>\n",
              "      <td>1.000000</td>\n",
              "      <td>0.167628</td>\n",
              "      <td>-0.006816</td>\n",
              "      <td>-0.018192</td>\n",
              "    </tr>\n",
              "    <tr>\n",
              "      <th>CUISINES_4</th>\n",
              "      <td>0.032396</td>\n",
              "      <td>0.022865</td>\n",
              "      <td>-0.019878</td>\n",
              "      <td>0.089921</td>\n",
              "      <td>0.121397</td>\n",
              "      <td>0.136278</td>\n",
              "      <td>-0.100541</td>\n",
              "      <td>0.025001</td>\n",
              "      <td>-0.042743</td>\n",
              "      <td>0.034233</td>\n",
              "      <td>0.167628</td>\n",
              "      <td>1.000000</td>\n",
              "      <td>-0.001530</td>\n",
              "      <td>-0.007828</td>\n",
              "    </tr>\n",
              "    <tr>\n",
              "      <th>TIME_1</th>\n",
              "      <td>0.005949</td>\n",
              "      <td>-0.011639</td>\n",
              "      <td>-0.008307</td>\n",
              "      <td>0.034239</td>\n",
              "      <td>-0.027787</td>\n",
              "      <td>-0.012331</td>\n",
              "      <td>0.056445</td>\n",
              "      <td>0.035569</td>\n",
              "      <td>0.098981</td>\n",
              "      <td>0.044170</td>\n",
              "      <td>-0.006816</td>\n",
              "      <td>-0.001530</td>\n",
              "      <td>1.000000</td>\n",
              "      <td>0.127608</td>\n",
              "    </tr>\n",
              "    <tr>\n",
              "      <th>TIME_2</th>\n",
              "      <td>0.006779</td>\n",
              "      <td>-0.021268</td>\n",
              "      <td>-0.005642</td>\n",
              "      <td>0.076953</td>\n",
              "      <td>0.014767</td>\n",
              "      <td>-0.009951</td>\n",
              "      <td>0.006111</td>\n",
              "      <td>0.038771</td>\n",
              "      <td>-0.044552</td>\n",
              "      <td>-0.022248</td>\n",
              "      <td>-0.018192</td>\n",
              "      <td>-0.007828</td>\n",
              "      <td>0.127608</td>\n",
              "      <td>1.000000</td>\n",
              "    </tr>\n",
              "  </tbody>\n",
              "</table>\n",
              "</div>"
            ],
            "text/plain": [
              "               RESTAURANT_ID      CITY  ...    TIME_1    TIME_2\n",
              "RESTAURANT_ID       1.000000  0.005112  ...  0.005949  0.006779\n",
              "CITY                0.005112  1.000000  ... -0.011639 -0.021268\n",
              "LOCALITY           -0.004242  0.043072  ... -0.008307 -0.005642\n",
              "RATING              0.031232  0.053272  ...  0.034239  0.076953\n",
              "VOTES               0.000403  0.043373  ... -0.027787  0.014767\n",
              "COST                0.040710  0.044555  ... -0.012331 -0.009951\n",
              "TITLE_1            -0.000311 -0.015925  ...  0.056445  0.006111\n",
              "TITLE_2            -0.015064  0.000692  ...  0.035569  0.038771\n",
              "CUISINES_1          0.047963  0.013487  ...  0.098981 -0.044552\n",
              "CUISINES_2          0.027091  0.019128  ...  0.044170 -0.022248\n",
              "CUISINES_3         -0.010068  0.026046  ... -0.006816 -0.018192\n",
              "CUISINES_4          0.032396  0.022865  ... -0.001530 -0.007828\n",
              "TIME_1              0.005949 -0.011639  ...  1.000000  0.127608\n",
              "TIME_2              0.006779 -0.021268  ...  0.127608  1.000000\n",
              "\n",
              "[14 rows x 14 columns]"
            ]
          },
          "metadata": {
            "tags": []
          },
          "execution_count": 69
        }
      ]
    },
    {
      "cell_type": "code",
      "metadata": {
        "colab": {
          "base_uri": "https://localhost:8080/",
          "height": 847
        },
        "id": "Ol_qqVAfbeJI",
        "outputId": "52366c3a-7fb1-4546-e1f5-1cb9b7f551e1"
      },
      "source": [
        "#checking correlaion using heatmap\r\n",
        "plt.figure(figsize=(14,13))\r\n",
        "sns.heatmap(Train_cor,annot=True,fmt='.0%',cmap='cool')"
      ],
      "execution_count": 70,
      "outputs": [
        {
          "output_type": "execute_result",
          "data": {
            "text/plain": [
              "<matplotlib.axes._subplots.AxesSubplot at 0x7f45b0135f28>"
            ]
          },
          "metadata": {
            "tags": []
          },
          "execution_count": 70
        },
        {
          "output_type": "display_data",
          "data": {
            "image/png": "[encoded data removed]",
            "text/plain": [
              "<Figure size 1008x936 with 2 Axes>"
            ]
          },
          "metadata": {
            "tags": [],
            "needs_background": "light"
          }
        }
      ]
    },
    {
      "cell_type": "code",
      "metadata": {
        "colab": {
          "base_uri": "https://localhost:8080/",
          "height": 556
        },
        "id": "s87iR6jibhmn",
        "outputId": "eedd4840-7eb3-4d34-d3dd-51d0ed197ac7"
      },
      "source": [
        "#checking correlation with target variable ie fees\r\n",
        "plt.figure(figsize=(16,8))\r\n",
        "Train_data.drop('COST',axis=1,).corrwith(Train_data['COST']).plot(kind='bar',grid=True)\r\n",
        "plt.xticks(rotation=30)\r\n",
        "plt.title(\"correlation with target variable\")"
      ],
      "execution_count": 71,
      "outputs": [
        {
          "output_type": "execute_result",
          "data": {
            "text/plain": [
              "Text(0.5, 1.0, 'correlation with target variable')"
            ]
          },
          "metadata": {
            "tags": []
          },
          "execution_count": 71
        },
        {
          "output_type": "display_data",
          "data": {
            "image/png": "[encoded data removed]",
            "text/plain": [
              "<Figure size 1152x576 with 1 Axes>"
            ]
          },
          "metadata": {
            "tags": [],
            "needs_background": "light"
          }
        }
      ]
    },
    {
      "cell_type": "markdown",
      "metadata": {
        "id": "4F0fshRvcKfN"
      },
      "source": [
        "**Checking Outliers**"
      ]
    },
    {
      "cell_type": "code",
      "metadata": {
        "colab": {
          "base_uri": "https://localhost:8080/",
          "height": 484
        },
        "id": "y1N4D-WBbky0",
        "outputId": "13bcd212-608b-49ab-eb8f-67d6603be44d"
      },
      "source": [
        "collist=train.columns.values\r\n",
        "ncol=30\r\n",
        "nrows=14\r\n",
        "plt.figure(figsize=(ncol,3*ncol))\r\n",
        "for i in range (0, len(collist)):\r\n",
        "    plt.subplot(nrows,ncol,i+1)\r\n",
        "    sns.boxplot(train[collist[i]],color='Blue',orient='v')\r\n",
        "    plt.tight_layout()"
      ],
      "execution_count": 72,
      "outputs": [
        {
          "output_type": "display_data",
          "data": {
            "image/png": "[encoded data removed]",
            "text/plain": [
              "<Figure size 2160x6480 with 14 Axes>"
            ]
          },
          "metadata": {
            "tags": [],
            "needs_background": "light"
          }
        }
      ]
    },
    {
      "cell_type": "code",
      "metadata": {
        "colab": {
          "base_uri": "https://localhost:8080/"
        },
        "id": "lf82diMHcGhG",
        "outputId": "e260b523-0a41-42dd-f005-b1eeb119284e"
      },
      "source": [
        "train.skew()"
      ],
      "execution_count": 73,
      "outputs": [
        {
          "output_type": "execute_result",
          "data": {
            "text/plain": [
              "RESTAURANT_ID     0.006947\n",
              "CITY              0.266332\n",
              "LOCALITY          0.352317\n",
              "RATING           -0.537487\n",
              "VOTES            14.609221\n",
              "COST              3.978801\n",
              "TITLE_1           0.053780\n",
              "TITLE_2           4.677935\n",
              "CUISINES_1        0.026008\n",
              "CUISINES_2        0.866722\n",
              "CUISINES_3        1.710974\n",
              "CUISINES_4        2.771886\n",
              "TIME_1            0.635672\n",
              "TIME_2            2.669040\n",
              "dtype: float64"
            ]
          },
          "metadata": {
            "tags": []
          },
          "execution_count": 73
        }
      ]
    },
    {
      "cell_type": "markdown",
      "metadata": {
        "id": "V08NiNAKcwxm"
      },
      "source": [
        "VOTES and COST shows Positive Skewness and TITLE2 , COUSIN4 and TIME2 shows Negavive Skewness Present"
      ]
    },
    {
      "cell_type": "markdown",
      "metadata": {
        "id": "kg_SM3lycUFQ"
      },
      "source": [
        "**Removing Outliers**"
      ]
    },
    {
      "cell_type": "code",
      "metadata": {
        "colab": {
          "base_uri": "https://localhost:8080/"
        },
        "id": "x4D0V5grdARo",
        "outputId": "73881c54-ae2e-4ce6-dcc5-799b3c5c42c1"
      },
      "source": [
        "from scipy.stats import zscore\r\n",
        "z=np.abs(zscore(train))\r\n",
        "threshold=3\r\n",
        "print(np.where(z>3))\r\n",
        "z"
      ],
      "execution_count": 74,
      "outputs": [
        {
          "output_type": "stream",
          "text": [
            "(array([   15,    19,    19, ..., 12671, 12683, 12688]), array([ 7,  7, 13, ...,  7,  7, 11]))\n"
          ],
          "name": "stdout"
        },
        {
          "output_type": "execute_result",
          "data": {
            "text/plain": [
              "array([[0.37269233, 2.11776187, 0.92054865, ..., 0.31186876, 0.62384243,\n",
              "        0.62770823],\n",
              "       [1.20737672, 0.8970816 , 0.98623851, ..., 0.31186876, 0.90384264,\n",
              "        0.12864126],\n",
              "       [0.70057234, 0.8970816 , 1.12404835, ..., 0.69789238, 0.66444536,\n",
              "        0.12864126],\n",
              "       ...,\n",
              "       [0.74896628, 1.1525353 , 1.72790605, ..., 0.31186876, 0.17721025,\n",
              "        0.12864126],\n",
              "       [0.36076439, 0.8970816 , 0.05359943, ..., 3.87142739, 0.79979764,\n",
              "        0.12864126],\n",
              "       [0.29505519, 0.13443345, 1.70535535, ..., 0.31186876, 0.44874232,\n",
              "        0.12864126]])"
            ]
          },
          "metadata": {
            "tags": []
          },
          "execution_count": 74
        }
      ]
    },
    {
      "cell_type": "code",
      "metadata": {
        "id": "6LWrX3Y9dEqZ"
      },
      "source": [
        "train_new=train[(z<3).all(axis=1)]"
      ],
      "execution_count": 75,
      "outputs": []
    },
    {
      "cell_type": "code",
      "metadata": {
        "colab": {
          "base_uri": "https://localhost:8080/"
        },
        "id": "IlfMlHcedJwA",
        "outputId": "974d10bb-097f-42cf-9d83-525462de7b2c"
      },
      "source": [
        "#checking the shape\r\n",
        "print(train.shape,'\\t\\t',train_new.shape)"
      ],
      "execution_count": 76,
      "outputs": [
        {
          "output_type": "stream",
          "text": [
            "(12690, 14) \t\t (10862, 14)\n"
          ],
          "name": "stdout"
        }
      ]
    },
    {
      "cell_type": "code",
      "metadata": {
        "colab": {
          "base_uri": "https://localhost:8080/"
        },
        "id": "Vi6FGSMndUEe",
        "outputId": "47ea1c3c-76bc-4f38-9000-96f88a6a1e86"
      },
      "source": [
        "train=train_new\r\n",
        "train.shape"
      ],
      "execution_count": 77,
      "outputs": [
        {
          "output_type": "execute_result",
          "data": {
            "text/plain": [
              "(10862, 14)"
            ]
          },
          "metadata": {
            "tags": []
          },
          "execution_count": 77
        }
      ]
    },
    {
      "cell_type": "markdown",
      "metadata": {
        "id": "_BcFZ0sTdV7f"
      },
      "source": [
        "## **Model Traning**"
      ]
    },
    {
      "cell_type": "code",
      "metadata": {
        "colab": {
          "base_uri": "https://localhost:8080/",
          "height": 204
        },
        "id": "VW4hvceEdphK",
        "outputId": "4316b041-9dc2-4e27-adc6-c095cd5cd5a2"
      },
      "source": [
        "#splitting data into input and output variable\r\n",
        "x=train.drop(columns=['COST'],axis=1)                 #separating independent and target variable\r\n",
        "x.head()"
      ],
      "execution_count": 78,
      "outputs": [
        {
          "output_type": "execute_result",
          "data": {
            "text/html": [
              "<div>\n",
              "<style scoped>\n",
              "    .dataframe tbody tr th:only-of-type {\n",
              "        vertical-align: middle;\n",
              "    }\n",
              "\n",
              "    .dataframe tbody tr th {\n",
              "        vertical-align: top;\n",
              "    }\n",
              "\n",
              "    .dataframe thead th {\n",
              "        text-align: right;\n",
              "    }\n",
              "</style>\n",
              "<table border=\"1\" class=\"dataframe\">\n",
              "  <thead>\n",
              "    <tr style=\"text-align: right;\">\n",
              "      <th></th>\n",
              "      <th>RESTAURANT_ID</th>\n",
              "      <th>CITY</th>\n",
              "      <th>LOCALITY</th>\n",
              "      <th>RATING</th>\n",
              "      <th>VOTES</th>\n",
              "      <th>TITLE_1</th>\n",
              "      <th>TITLE_2</th>\n",
              "      <th>CUISINES_1</th>\n",
              "      <th>CUISINES_2</th>\n",
              "      <th>CUISINES_3</th>\n",
              "      <th>CUISINES_4</th>\n",
              "      <th>TIME_1</th>\n",
              "      <th>TIME_2</th>\n",
              "    </tr>\n",
              "  </thead>\n",
              "  <tbody>\n",
              "    <tr>\n",
              "      <th>0</th>\n",
              "      <td>9438</td>\n",
              "      <td>320</td>\n",
              "      <td>285</td>\n",
              "      <td>3.6</td>\n",
              "      <td>49.0</td>\n",
              "      <td>4</td>\n",
              "      <td>1</td>\n",
              "      <td>59</td>\n",
              "      <td>32</td>\n",
              "      <td>66</td>\n",
              "      <td>18</td>\n",
              "      <td>343</td>\n",
              "      <td>239</td>\n",
              "    </tr>\n",
              "    <tr>\n",
              "      <th>1</th>\n",
              "      <td>13198</td>\n",
              "      <td>67</td>\n",
              "      <td>1046</td>\n",
              "      <td>4.2</td>\n",
              "      <td>30.0</td>\n",
              "      <td>4</td>\n",
              "      <td>1</td>\n",
              "      <td>6</td>\n",
              "      <td>60</td>\n",
              "      <td>41</td>\n",
              "      <td>18</td>\n",
              "      <td>945</td>\n",
              "      <td>291</td>\n",
              "    </tr>\n",
              "    <tr>\n",
              "      <th>2</th>\n",
              "      <td>10915</td>\n",
              "      <td>67</td>\n",
              "      <td>1101</td>\n",
              "      <td>3.8</td>\n",
              "      <td>221.0</td>\n",
              "      <td>4</td>\n",
              "      <td>1</td>\n",
              "      <td>72</td>\n",
              "      <td>23</td>\n",
              "      <td>12</td>\n",
              "      <td>32</td>\n",
              "      <td>327</td>\n",
              "      <td>291</td>\n",
              "    </tr>\n",
              "    <tr>\n",
              "      <th>3</th>\n",
              "      <td>6346</td>\n",
              "      <td>222</td>\n",
              "      <td>136</td>\n",
              "      <td>4.1</td>\n",
              "      <td>24.0</td>\n",
              "      <td>20</td>\n",
              "      <td>1</td>\n",
              "      <td>100</td>\n",
              "      <td>23</td>\n",
              "      <td>21</td>\n",
              "      <td>18</td>\n",
              "      <td>178</td>\n",
              "      <td>291</td>\n",
              "    </tr>\n",
              "    <tr>\n",
              "      <th>4</th>\n",
              "      <td>15387</td>\n",
              "      <td>222</td>\n",
              "      <td>620</td>\n",
              "      <td>3.8</td>\n",
              "      <td>165.0</td>\n",
              "      <td>8</td>\n",
              "      <td>1</td>\n",
              "      <td>28</td>\n",
              "      <td>23</td>\n",
              "      <td>21</td>\n",
              "      <td>18</td>\n",
              "      <td>316</td>\n",
              "      <td>291</td>\n",
              "    </tr>\n",
              "  </tbody>\n",
              "</table>\n",
              "</div>"
            ],
            "text/plain": [
              "   RESTAURANT_ID  CITY  LOCALITY  ...  CUISINES_4  TIME_1  TIME_2\n",
              "0           9438   320       285  ...          18     343     239\n",
              "1          13198    67      1046  ...          18     945     291\n",
              "2          10915    67      1101  ...          32     327     291\n",
              "3           6346   222       136  ...          18     178     291\n",
              "4          15387   222       620  ...          18     316     291\n",
              "\n",
              "[5 rows x 13 columns]"
            ]
          },
          "metadata": {
            "tags": []
          },
          "execution_count": 78
        }
      ]
    },
    {
      "cell_type": "code",
      "metadata": {
        "colab": {
          "base_uri": "https://localhost:8080/"
        },
        "id": "cbKlLLqNd0iw",
        "outputId": "9e288ace-33b3-4500-804c-79386537054a"
      },
      "source": [
        "y=train[\"COST\"]\r\n",
        "y.head()"
      ],
      "execution_count": 79,
      "outputs": [
        {
          "output_type": "execute_result",
          "data": {
            "text/plain": [
              "0    1200\n",
              "1    1500\n",
              "2     800\n",
              "3     800\n",
              "4     300\n",
              "Name: COST, dtype: int64"
            ]
          },
          "metadata": {
            "tags": []
          },
          "execution_count": 79
        }
      ]
    },
    {
      "cell_type": "code",
      "metadata": {
        "colab": {
          "base_uri": "https://localhost:8080/"
        },
        "id": "1icmxmOUd5vL",
        "outputId": "56418f84-11f7-409b-80c6-32962a7afb5a"
      },
      "source": [
        "#Checking the shape of input and target variable\r\n",
        "print(x.shape,'\\t\\t',y.shape)"
      ],
      "execution_count": 80,
      "outputs": [
        {
          "output_type": "stream",
          "text": [
            "(10862, 13) \t\t (10862,)\n"
          ],
          "name": "stdout"
        }
      ]
    },
    {
      "cell_type": "code",
      "metadata": {
        "id": "eylQCYP0eHH7"
      },
      "source": [
        "#remove Skewness\r\n",
        "from sklearn.preprocessing import power_transform\r\n",
        "x=power_transform(x,method='yeo-johnson')"
      ],
      "execution_count": 81,
      "outputs": []
    },
    {
      "cell_type": "code",
      "metadata": {
        "colab": {
          "base_uri": "https://localhost:8080/"
        },
        "id": "RhLrOWYJeUj9",
        "outputId": "959ae8fc-747a-4f54-ef3e-8e04205587f6"
      },
      "source": [
        "train.skew()"
      ],
      "execution_count": 82,
      "outputs": [
        {
          "output_type": "execute_result",
          "data": {
            "text/plain": [
              "RESTAURANT_ID    0.015571\n",
              "CITY             0.282745\n",
              "LOCALITY         0.343827\n",
              "RATING          -0.421987\n",
              "VOTES            2.681786\n",
              "COST             1.888589\n",
              "TITLE_1         -0.020864\n",
              "TITLE_2          5.791866\n",
              "CUISINES_1      -0.003152\n",
              "CUISINES_2       0.903446\n",
              "CUISINES_3       1.852772\n",
              "CUISINES_4       3.549151\n",
              "TIME_1           0.682076\n",
              "TIME_2           0.324744\n",
              "dtype: float64"
            ]
          },
          "metadata": {
            "tags": []
          },
          "execution_count": 82
        }
      ]
    },
    {
      "cell_type": "code",
      "metadata": {
        "id": "8ucyp2VGd73r"
      },
      "source": [
        "# scaling in input variables\r\n",
        "from sklearn.preprocessing import StandardScaler\r\n",
        "ss=StandardScaler()\r\n",
        "x=ss.fit_transform(x)"
      ],
      "execution_count": 83,
      "outputs": []
    },
    {
      "cell_type": "code",
      "metadata": {
        "id": "u42uPim4d-A8"
      },
      "source": [
        "# Splitting the data into tranning and testing data\r\n",
        "from sklearn.model_selection import train_test_split \r\n",
        "x_train,x_test,y_train,y_test=train_test_split(x,y,test_size=.20,random_state=42)"
      ],
      "execution_count": 84,
      "outputs": []
    },
    {
      "cell_type": "code",
      "metadata": {
        "colab": {
          "base_uri": "https://localhost:8080/"
        },
        "id": "nHWa7haReitl",
        "outputId": "bb99c5c4-a4f4-49de-e288-f9d6c6c9a5b4"
      },
      "source": [
        "#checking the shape\r\n",
        "print(x_train.shape,'\\t\\t',x_test.shape)"
      ],
      "execution_count": 85,
      "outputs": [
        {
          "output_type": "stream",
          "text": [
            "(8689, 13) \t\t (2173, 13)\n"
          ],
          "name": "stdout"
        }
      ]
    },
    {
      "cell_type": "code",
      "metadata": {
        "colab": {
          "base_uri": "https://localhost:8080/"
        },
        "id": "eF5LLE9nepW2",
        "outputId": "3269f92c-067c-49fb-e036-128c45315099"
      },
      "source": [
        "#checking the shape\r\n",
        "print(y_train.shape,'\\t\\t',y_test.shape)"
      ],
      "execution_count": 86,
      "outputs": [
        {
          "output_type": "stream",
          "text": [
            "(8689,) \t\t (2173,)\n"
          ],
          "name": "stdout"
        }
      ]
    },
    {
      "cell_type": "code",
      "metadata": {
        "id": "5hraeQpAerR9"
      },
      "source": [
        "#Importing all the model library\r\n",
        "from sklearn.linear_model import LinearRegression,Lasso,Ridge,ElasticNet\r\n",
        "from sklearn.svm import SVR\r\n",
        "from sklearn.tree import DecisionTreeRegressor\r\n",
        "from sklearn.neighbors import KNeighborsRegressor\r\n",
        "\r\n",
        "#importing boosting models\r\n",
        "from sklearn.ensemble import RandomForestRegressor\r\n",
        "from sklearn.ensemble import AdaBoostRegressor\r\n",
        "from sklearn.ensemble import GradientBoostingRegressor\r\n",
        "\r\n",
        "#importing error metrics \r\n",
        "from sklearn.metrics import mean_absolute_error,mean_squared_error,r2_score\r\n",
        "from sklearn.model_selection import GridSearchCV,cross_val_score"
      ],
      "execution_count": 87,
      "outputs": []
    },
    {
      "cell_type": "code",
      "metadata": {
        "colab": {
          "base_uri": "https://localhost:8080/"
        },
        "id": "F21YepUSew96",
        "outputId": "eb161e84-3148-4de6-9e50-17be45d03cb2"
      },
      "source": [
        "lr=LinearRegression()\r\n",
        "print('lr')\r\n",
        "parameters ={'fit_intercept':[True,False],'normalize':[True,False],'copy_X':[True,False],'n_jobs':[None]}\r\n",
        "clf=GridSearchCV(lr,parameters)\r\n",
        "clf.fit(x_train,y_train)\r\n",
        "print(clf.best_params_)\r\n",
        "print('*************************************')\r\n",
        "print('\\n')\r\n",
        "\r\n",
        "ls=Lasso()\r\n",
        "parameters ={'alpha' :[.0001, .001, .01, .1, 1, 10], 'random_state':list(range(1,10))}\r\n",
        "clf=GridSearchCV(ls,parameters)\r\n",
        "clf.fit(x_train,y_train)\r\n",
        "print(clf.best_params_)\r\n",
        "print('ls')\r\n",
        "print('*************************************')\r\n",
        "print('\\n')\r\n",
        "\r\n",
        "rd=Ridge()\r\n",
        "print('rd')\r\n",
        "parameters ={'alpha':[.0001, .001, .01,.1 ,1],'fit_intercept':[True,False],'normalize':[True,False],'copy_X':[True,False],'tol':[1e-3], 'random_state':list(range(0,10))}\r\n",
        "clf=GridSearchCV(rd,parameters)\r\n",
        "clf.fit(x_train,y_train)\r\n",
        "print(clf.best_params_)\r\n",
        "print('*************************************')\r\n",
        "print('\\n')\r\n",
        "\r\n",
        "en=ElasticNet()\r\n",
        "print('en')\r\n",
        "parameters ={'alpha':[.0001, .001, .01,.1 ,1],'fit_intercept':[True,False],'normalize':[True,False],'copy_X':[True,False],'l1_ratio' :[0.5]}\r\n",
        "clf=GridSearchCV(en,parameters)\r\n",
        "clf.fit(x_train,y_train)\r\n",
        "print(clf.best_params_)\r\n",
        "print('*************************************')\r\n",
        "print('\\n')\r\n",
        "\r\n",
        "dt=DecisionTreeRegressor()\r\n",
        "print('dt')\r\n",
        "parameters ={'criterion':['mse','friedman_mse','mae'], 'splitter':['best','random']}\r\n",
        "clf=GridSearchCV(dt,parameters)\r\n",
        "clf.fit(x_train,y_train)\r\n",
        "print(clf.best_params_)\r\n",
        "print('*************************************')\r\n",
        "print('\\n')\r\n",
        "\r\n",
        "sv=SVR()\r\n",
        "print('sv')\r\n",
        "parameters= {'kernel':['linear','poly','rbf','sigmoid']}\r\n",
        "clf=GridSearchCV(sv,parameters)\r\n",
        "clf.fit(x_train,y_train)\r\n",
        "print(clf.best_params_)\r\n",
        "print('*************************************')\r\n",
        "print('\\n')\r\n",
        "\r\n",
        "sv=SVR()\r\n",
        "parameters= {'gamma':['auto','scale']}\r\n",
        "clf=GridSearchCV(sv,parameters)\r\n",
        "clf.fit(x_train,y_train)\r\n",
        "print(clf.best_params_)\r\n",
        "print('*************************************')\r\n",
        "print('\\n')\r\n",
        "\r\n",
        "knn=KNeighborsRegressor()\r\n",
        "print('knn')\r\n",
        "parameters= {'algorithm':['auto','ball_tree','brute'],'leaf_size':[30],'n_jobs':[1,None],'metric_params':[None]}\r\n",
        "clf=GridSearchCV(knn,parameters)\r\n",
        "clf.fit(x_train,y_train)\r\n",
        "print(clf.best_params_)\r\n",
        "print('*************************************')\r\n",
        "print('\\n')"
      ],
      "execution_count": 88,
      "outputs": [
        {
          "output_type": "stream",
          "text": [
            "lr\n",
            "{'copy_X': True, 'fit_intercept': True, 'n_jobs': None, 'normalize': True}\n",
            "*************************************\n",
            "\n",
            "\n",
            "{'alpha': 1, 'random_state': 1}\n",
            "ls\n",
            "*************************************\n",
            "\n",
            "\n",
            "rd\n",
            "{'alpha': 0.01, 'copy_X': True, 'fit_intercept': True, 'normalize': True, 'random_state': 0, 'tol': 0.001}\n",
            "*************************************\n",
            "\n",
            "\n",
            "en\n",
            "{'alpha': 0.01, 'copy_X': True, 'fit_intercept': True, 'l1_ratio': 0.5, 'normalize': False}\n",
            "*************************************\n",
            "\n",
            "\n",
            "dt\n",
            "{'criterion': 'friedman_mse', 'splitter': 'best'}\n",
            "*************************************\n",
            "\n",
            "\n",
            "sv\n",
            "{'kernel': 'linear'}\n",
            "*************************************\n",
            "\n",
            "\n",
            "{'gamma': 'auto'}\n",
            "*************************************\n",
            "\n",
            "\n",
            "knn\n",
            "{'algorithm': 'auto', 'leaf_size': 30, 'metric_params': None, 'n_jobs': 1}\n",
            "*************************************\n",
            "\n",
            "\n"
          ],
          "name": "stdout"
        }
      ]
    },
    {
      "cell_type": "code",
      "metadata": {
        "colab": {
          "base_uri": "https://localhost:8080/"
        },
        "id": "z3lzw7E5fLr8",
        "outputId": "1c70bf4b-5373-409b-f31f-03befccf272f"
      },
      "source": [
        "\r\n",
        "model=[LinearRegression(copy_X=True,fit_intercept=True,n_jobs=None, normalize=True),Lasso(alpha=1,random_state=1),Ridge(alpha=0.1, copy_X=True, fit_intercept=True, normalize=True, random_state=0, tol=0.001),ElasticNet(alpha=0.01, copy_X=True, fit_intercept=True, l1_ratio=0.5,normalize=False),DecisionTreeRegressor(criterion='friedman_mse', splitter='best'),KNeighborsRegressor(algorithm='brute', leaf_size=30, metric_params=None, n_jobs=1),SVR(kernel='linear', gamma='scale')]\r\n",
        "\r\n",
        "for m in model:\r\n",
        "    m.fit(x_train,y_train)\r\n",
        "    print('Score of',m,'is:',m.score(x_train,y_train))\r\n",
        "    predm=m.predict(x_test)\r\n",
        "    print('Error')\r\n",
        "    print('Mean Absolute Error:',mean_absolute_error(y_test,predm))\r\n",
        "    print('Mean Square Error:',mean_squared_error(y_test,predm))\r\n",
        "    print(\"root mean squared Error:\", np.sqrt(mean_squared_error(y_test,predm)))\r\n",
        "    print(\"r2_score:\",r2_score(y_test,predm))\r\n",
        "    print('*********************************************************************************************')\r\n",
        "    print('\\n')"
      ],
      "execution_count": 89,
      "outputs": [
        {
          "output_type": "stream",
          "text": [
            "Score of LinearRegression(copy_X=True, fit_intercept=True, n_jobs=None, normalize=True) is: 0.284906724222456\n",
            "Error\n",
            "Mean Absolute Error: 254.76968192191097\n",
            "Mean Square Error: 145417.05912024344\n",
            "root mean squared Error: 381.33588753255765\n",
            "r2_score: 0.2580212180268394\n",
            "*********************************************************************************************\n",
            "\n",
            "\n",
            "Score of Lasso(alpha=1, copy_X=True, fit_intercept=True, max_iter=1000, normalize=False,\n",
            "      positive=False, precompute=False, random_state=1, selection='cyclic',\n",
            "      tol=0.0001, warm_start=False) is: 0.2848470607328719\n",
            "Error\n",
            "Mean Absolute Error: 254.40048299350758\n",
            "Mean Square Error: 145322.59544716505\n",
            "root mean squared Error: 381.2120085295911\n",
            "r2_score: 0.25850321127794396\n",
            "*********************************************************************************************\n",
            "\n",
            "\n",
            "Score of Ridge(alpha=0.1, copy_X=True, fit_intercept=True, max_iter=None, normalize=True,\n",
            "      random_state=0, solver='auto', tol=0.001) is: 0.2837096251335445\n",
            "Error\n",
            "Mean Absolute Error: 254.09416979336538\n",
            "Mean Square Error: 145481.58224347277\n",
            "root mean squared Error: 381.420479580571\n",
            "r2_score: 0.257691994009572\n",
            "*********************************************************************************************\n",
            "\n",
            "\n",
            "Score of ElasticNet(alpha=0.01, copy_X=True, fit_intercept=True, l1_ratio=0.5,\n",
            "           max_iter=1000, normalize=False, positive=False, precompute=False,\n",
            "           random_state=None, selection='cyclic', tol=0.0001, warm_start=False) is: 0.284903153659287\n",
            "Error\n",
            "Mean Absolute Error: 254.71996232949186\n",
            "Mean Square Error: 145408.846554497\n",
            "root mean squared Error: 381.32511922832595\n",
            "r2_score: 0.25806312197927994\n",
            "*********************************************************************************************\n",
            "\n",
            "\n",
            "Score of DecisionTreeRegressor(ccp_alpha=0.0, criterion='friedman_mse', max_depth=None,\n",
            "                      max_features=None, max_leaf_nodes=None,\n",
            "                      min_impurity_decrease=0.0, min_impurity_split=None,\n",
            "                      min_samples_leaf=1, min_samples_split=2,\n",
            "                      min_weight_fraction_leaf=0.0, presort='deprecated',\n",
            "                      random_state=None, splitter='best') is: 1.0\n",
            "Error\n",
            "Mean Absolute Error: 229.00736309249885\n",
            "Mean Square Error: 124260.31707317074\n",
            "root mean squared Error: 352.50576885090936\n",
            "r2_score: 0.3659717830401713\n",
            "*********************************************************************************************\n",
            "\n",
            "\n",
            "Score of KNeighborsRegressor(algorithm='brute', leaf_size=30, metric='minkowski',\n",
            "                    metric_params=None, n_jobs=1, n_neighbors=5, p=2,\n",
            "                    weights='uniform') is: 0.5767384027320853\n",
            "Error\n",
            "Mean Absolute Error: 236.60064427059365\n",
            "Mean Square Error: 135242.79849056603\n",
            "root mean squared Error: 367.7537198867824\n",
            "r2_score: 0.309934559935668\n",
            "*********************************************************************************************\n",
            "\n",
            "\n",
            "Score of SVR(C=1.0, cache_size=200, coef0=0.0, degree=3, epsilon=0.1, gamma='scale',\n",
            "    kernel='linear', max_iter=-1, shrinking=True, tol=0.001, verbose=False) is: 0.22490314204422857\n",
            "Error\n",
            "Mean Absolute Error: 242.23322761449668\n",
            "Mean Square Error: 155568.97647912984\n",
            "root mean squared Error: 394.42233263233186\n",
            "r2_score: 0.20622188084996684\n",
            "*********************************************************************************************\n",
            "\n",
            "\n"
          ],
          "name": "stdout"
        }
      ]
    },
    {
      "cell_type": "code",
      "metadata": {
        "colab": {
          "base_uri": "https://localhost:8080/"
        },
        "id": "NrAYdnTwft_W",
        "outputId": "ab73c333-79c1-4885-c507-284a4a5d5d76"
      },
      "source": [
        "from sklearn.model_selection import cross_val_score\r\n",
        "model=[LinearRegression(copy_X=True,fit_intercept=True,n_jobs=None, normalize=True),Lasso(alpha=1,random_state=1),Ridge(alpha=0.1, copy_X=True, fit_intercept=True, normalize=True, random_state=0, tol=0.001),ElasticNet(alpha=0.01, copy_X=True, fit_intercept=True, l1_ratio=0.5,normalize=False),DecisionTreeRegressor(criterion='friedman_mse', splitter='best'),KNeighborsRegressor(algorithm='brute', leaf_size=30, metric_params=None, n_jobs=1),SVR(kernel='linear', gamma='scale')]\r\n",
        "for m in model:\r\n",
        "    score=cross_val_score(m,x,y,cv=3,scoring='r2')\r\n",
        "    print('Score of:',m,'is:',score)\r\n",
        "    print('score:',score)\r\n",
        "    print('mean score:',score.mean())\r\n",
        "    print(\"Standard Deviation:\",score.std())\r\n",
        "    print('***************************************************************************************')\r\n",
        "    print('\\n')"
      ],
      "execution_count": 90,
      "outputs": [
        {
          "output_type": "stream",
          "text": [
            "Score of: LinearRegression(copy_X=True, fit_intercept=True, n_jobs=None, normalize=True) is: [0.27967618 0.27619212 0.27581613]\n",
            "score: [0.27967618 0.27619212 0.27581613]\n",
            "mean score: 0.2772281426854224\n",
            "Standard Deviation: 0.001737814321885401\n",
            "***************************************************************************************\n",
            "\n",
            "\n",
            "Score of: Lasso(alpha=1, copy_X=True, fit_intercept=True, max_iter=1000, normalize=False,\n",
            "      positive=False, precompute=False, random_state=1, selection='cyclic',\n",
            "      tol=0.0001, warm_start=False) is: [0.27975273 0.27646046 0.27569965]\n",
            "score: [0.27975273 0.27646046 0.27569965]\n",
            "mean score: 0.2773042815328654\n",
            "Standard Deviation: 0.001758955785846517\n",
            "***************************************************************************************\n",
            "\n",
            "\n",
            "Score of: Ridge(alpha=0.1, copy_X=True, fit_intercept=True, max_iter=None, normalize=True,\n",
            "      random_state=0, solver='auto', tol=0.001) is: [0.27998022 0.2750037  0.27388767]\n",
            "score: [0.27998022 0.2750037  0.27388767]\n",
            "mean score: 0.27629053003191356\n",
            "Standard Deviation: 0.0026484867473177435\n",
            "***************************************************************************************\n",
            "\n",
            "\n",
            "Score of: ElasticNet(alpha=0.01, copy_X=True, fit_intercept=True, l1_ratio=0.5,\n",
            "           max_iter=1000, normalize=False, positive=False, precompute=False,\n",
            "           random_state=None, selection='cyclic', tol=0.0001, warm_start=False) is: [0.27975935 0.27619054 0.27576756]\n",
            "score: [0.27975935 0.27619054 0.27576756]\n",
            "mean score: 0.2772391494600431\n",
            "Standard Deviation: 0.001790397547888549\n",
            "***************************************************************************************\n",
            "\n",
            "\n",
            "Score of: DecisionTreeRegressor(ccp_alpha=0.0, criterion='friedman_mse', max_depth=None,\n",
            "                      max_features=None, max_leaf_nodes=None,\n",
            "                      min_impurity_decrease=0.0, min_impurity_split=None,\n",
            "                      min_samples_leaf=1, min_samples_split=2,\n",
            "                      min_weight_fraction_leaf=0.0, presort='deprecated',\n",
            "                      random_state=None, splitter='best') is: [0.35375273 0.31613471 0.37794933]\n",
            "score: [0.35375273 0.31613471 0.37794933]\n",
            "mean score: 0.3492789210672831\n",
            "Standard Deviation: 0.025433221115107162\n",
            "***************************************************************************************\n",
            "\n",
            "\n",
            "Score of: KNeighborsRegressor(algorithm='brute', leaf_size=30, metric='minkowski',\n",
            "                    metric_params=None, n_jobs=1, n_neighbors=5, p=2,\n",
            "                    weights='uniform') is: [0.34181877 0.32573415 0.32668627]\n",
            "score: [0.34181877 0.32573415 0.32668627]\n",
            "mean score: 0.3314130651573564\n",
            "Standard Deviation: 0.007368207229267238\n",
            "***************************************************************************************\n",
            "\n",
            "\n",
            "Score of: SVR(C=1.0, cache_size=200, coef0=0.0, degree=3, epsilon=0.1, gamma='scale',\n",
            "    kernel='linear', max_iter=-1, shrinking=True, tol=0.001, verbose=False) is: [0.22921576 0.21697056 0.21089565]\n",
            "score: [0.22921576 0.21697056 0.21089565]\n",
            "mean score: 0.2190273238581889\n",
            "Standard Deviation: 0.007619247360892961\n",
            "***************************************************************************************\n",
            "\n",
            "\n"
          ],
          "name": "stdout"
        }
      ]
    },
    {
      "cell_type": "markdown",
      "metadata": {
        "id": "EnOj2W8NgGGD"
      },
      "source": [
        "**Ensemble Technique**"
      ]
    },
    {
      "cell_type": "code",
      "metadata": {
        "colab": {
          "base_uri": "https://localhost:8080/"
        },
        "id": "TK5miCA3gc0_",
        "outputId": "77adfc04-03bf-4400-d4e8-4e08c8fd7b67"
      },
      "source": [
        "adb=AdaBoostRegressor()\r\n",
        "parameters={'base_estimator':[None],'n_estimators':[10,20,30,40,50],'loss':['linear', 'square', 'exponential']}\r\n",
        "clf=GridSearchCV(adb,parameters)\r\n",
        "clf.fit(x_train,y_train)\r\n",
        "print(clf.best_params_)\r\n",
        "print('adb')\r\n",
        "print('*************************************')\r\n",
        "print('\\n')"
      ],
      "execution_count": 91,
      "outputs": [
        {
          "output_type": "stream",
          "text": [
            "{'base_estimator': None, 'loss': 'linear', 'n_estimators': 30}\n",
            "adb\n",
            "*************************************\n",
            "\n",
            "\n"
          ],
          "name": "stdout"
        }
      ]
    },
    {
      "cell_type": "code",
      "metadata": {
        "colab": {
          "base_uri": "https://localhost:8080/"
        },
        "id": "yZiLIOF4giJ2",
        "outputId": "08f02b31-b961-4069-8b65-b0679d3e4c65"
      },
      "source": [
        "gdb=GradientBoostingRegressor()\r\n",
        "parameters = {'loss': ['ls','lad', 'huber', 'quantile'],'n_estimators':[50,100,200],'criterion':['friedman_mse', 'mse']}\r\n",
        "clf=GridSearchCV(gdb,parameters)\r\n",
        "clf.fit(x_train,y_train)\r\n",
        "print(clf.best_params_)\r\n",
        "print('gdb')\r\n",
        "print('*************************************')\r\n",
        "print('\\n')"
      ],
      "execution_count": 92,
      "outputs": [
        {
          "output_type": "stream",
          "text": [
            "{'criterion': 'mse', 'loss': 'ls', 'n_estimators': 200}\n",
            "gdb\n",
            "*************************************\n",
            "\n",
            "\n"
          ],
          "name": "stdout"
        }
      ]
    },
    {
      "cell_type": "code",
      "metadata": {
        "colab": {
          "base_uri": "https://localhost:8080/"
        },
        "id": "3azNFoSJgmfH",
        "outputId": "96c1a042-c017-4d4e-8bd8-569693b84187"
      },
      "source": [
        "from sklearn.tree import ExtraTreeRegressor\r\n",
        "ext=ExtraTreeRegressor()\r\n",
        "parameters ={'criterion':['friedman_mse','mae','mse'], 'splitter':['random', 'best']}\r\n",
        "clf=GridSearchCV(ext,parameters)\r\n",
        "clf.fit(x_train,y_train)\r\n",
        "print(clf.best_params_)\r\n",
        "print('ext')\r\n",
        "print('*************************************')\r\n",
        "print('\\n')"
      ],
      "execution_count": 93,
      "outputs": [
        {
          "output_type": "stream",
          "text": [
            "{'criterion': 'friedman_mse', 'splitter': 'best'}\n",
            "ext\n",
            "*************************************\n",
            "\n",
            "\n"
          ],
          "name": "stdout"
        }
      ]
    },
    {
      "cell_type": "code",
      "metadata": {
        "colab": {
          "base_uri": "https://localhost:8080/"
        },
        "id": "O5vP10JCgmph",
        "outputId": "02ec54ee-202a-43c8-ef0d-10581b54dfc9"
      },
      "source": [
        "model=[ExtraTreeRegressor(criterion= 'friedman_mse', splitter='best'),AdaBoostRegressor(base_estimator= None, loss= 'exponential', n_estimators=10),GradientBoostingRegressor(criterion = 'mse', loss= 'ls', n_estimators= 200)]\r\n",
        "\r\n",
        "for m in model:\r\n",
        "    m.fit(x_train,y_train)\r\n",
        "    print('Score of',m,'is:',m.score(x_train,y_train))\r\n",
        "    predm=m.predict(x_test)\r\n",
        "    print('Error')\r\n",
        "    print('Mean Absolute Error:',mean_absolute_error(y_test,predm))\r\n",
        "    print('Mean Square Error:',mean_squared_error(y_test,predm))\r\n",
        "    print(\"root mean squared Error:\", np.sqrt(mean_squared_error(y_test,predm)))\r\n",
        "    print(\"r2_score:\",r2_score(y_test,predm))\r\n",
        "    print('*********************************************************************************************')\r\n",
        "    print('\\n')"
      ],
      "execution_count": 94,
      "outputs": [
        {
          "output_type": "stream",
          "text": [
            "Score of ExtraTreeRegressor(ccp_alpha=0.0, criterion='friedman_mse', max_depth=None,\n",
            "                   max_features='auto', max_leaf_nodes=None,\n",
            "                   min_impurity_decrease=0.0, min_impurity_split=None,\n",
            "                   min_samples_leaf=1, min_samples_split=2,\n",
            "                   min_weight_fraction_leaf=0.0, random_state=None,\n",
            "                   splitter='best') is: 1.0\n",
            "Error\n",
            "Mean Absolute Error: 232.36723423838012\n",
            "Mean Square Error: 128747.66221813162\n",
            "root mean squared Error: 358.81424472577953\n",
            "r2_score: 0.3430754674009029\n",
            "*********************************************************************************************\n",
            "\n",
            "\n",
            "Score of AdaBoostRegressor(base_estimator=None, learning_rate=1.0, loss='exponential',\n",
            "                  n_estimators=10, random_state=None) is: 0.40241150390075653\n",
            "Error\n",
            "Mean Absolute Error: 250.12070312497934\n",
            "Mean Square Error: 123232.1604749176\n",
            "root mean squared Error: 351.04438533455794\n",
            "r2_score: 0.371217868919399\n",
            "*********************************************************************************************\n",
            "\n",
            "\n",
            "Score of GradientBoostingRegressor(alpha=0.9, ccp_alpha=0.0, criterion='mse', init=None,\n",
            "                          learning_rate=0.1, loss='ls', max_depth=3,\n",
            "                          max_features=None, max_leaf_nodes=None,\n",
            "                          min_impurity_decrease=0.0, min_impurity_split=None,\n",
            "                          min_samples_leaf=1, min_samples_split=2,\n",
            "                          min_weight_fraction_leaf=0.0, n_estimators=200,\n",
            "                          n_iter_no_change=None, presort='deprecated',\n",
            "                          random_state=None, subsample=1.0, tol=0.0001,\n",
            "                          validation_fraction=0.1, verbose=0, warm_start=False) is: 0.7274859918483723\n",
            "Error\n",
            "Mean Absolute Error: 171.4073371210661\n",
            "Mean Square Error: 67261.14660385979\n",
            "root mean squared Error: 259.3475401924217\n",
            "r2_score: 0.6568054399313414\n",
            "*********************************************************************************************\n",
            "\n",
            "\n"
          ],
          "name": "stdout"
        }
      ]
    },
    {
      "cell_type": "code",
      "metadata": {
        "colab": {
          "base_uri": "https://localhost:8080/"
        },
        "id": "5wlhlH5kg0iu",
        "outputId": "3620cbac-aba2-4638-e58a-7eaa68e94b11"
      },
      "source": [
        "from sklearn.model_selection import cross_val_score\r\n",
        "model=[ExtraTreeRegressor(criterion= 'friedman_mse', splitter='best'),AdaBoostRegressor(base_estimator= None, loss= 'linear', n_estimators=20),GradientBoostingRegressor(criterion = 'mse', loss= 'ls', n_estimators= 200)]\r\n",
        "for m in model:\r\n",
        "    score=cross_val_score(m,x,y,cv=3,scoring='r2')\r\n",
        "    print('Score of:',m,'is:')\r\n",
        "    print('score:',score)\r\n",
        "    print('mean score:',score.mean())\r\n",
        "    print(\"Standard Deviation:\",score.std())\r\n",
        "    print('***************************************************************************************')\r\n",
        "    print('\\n')"
      ],
      "execution_count": 95,
      "outputs": [
        {
          "output_type": "stream",
          "text": [
            "Score of: ExtraTreeRegressor(ccp_alpha=0.0, criterion='friedman_mse', max_depth=None,\n",
            "                   max_features='auto', max_leaf_nodes=None,\n",
            "                   min_impurity_decrease=0.0, min_impurity_split=None,\n",
            "                   min_samples_leaf=1, min_samples_split=2,\n",
            "                   min_weight_fraction_leaf=0.0, random_state=None,\n",
            "                   splitter='best') is:\n",
            "score: [0.35512328 0.32308937 0.40296672]\n",
            "mean score: 0.3603931240244691\n",
            "Standard Deviation: 0.03282200968244158\n",
            "***************************************************************************************\n",
            "\n",
            "\n",
            "Score of: AdaBoostRegressor(base_estimator=None, learning_rate=1.0, loss='linear',\n",
            "                  n_estimators=20, random_state=None) is:\n",
            "score: [0.36747232 0.35994957 0.37628145]\n",
            "mean score: 0.36790111486255034\n",
            "Standard Deviation: 0.006674351258512843\n",
            "***************************************************************************************\n",
            "\n",
            "\n",
            "Score of: GradientBoostingRegressor(alpha=0.9, ccp_alpha=0.0, criterion='mse', init=None,\n",
            "                          learning_rate=0.1, loss='ls', max_depth=3,\n",
            "                          max_features=None, max_leaf_nodes=None,\n",
            "                          min_impurity_decrease=0.0, min_impurity_split=None,\n",
            "                          min_samples_leaf=1, min_samples_split=2,\n",
            "                          min_weight_fraction_leaf=0.0, n_estimators=200,\n",
            "                          n_iter_no_change=None, presort='deprecated',\n",
            "                          random_state=None, subsample=1.0, tol=0.0001,\n",
            "                          validation_fraction=0.1, verbose=0, warm_start=False) is:\n",
            "score: [0.66810701 0.65578683 0.68279283]\n",
            "mean score: 0.6688955600108875\n",
            "Standard Deviation: 0.011039244557672467\n",
            "***************************************************************************************\n",
            "\n",
            "\n"
          ],
          "name": "stdout"
        }
      ]
    },
    {
      "cell_type": "markdown",
      "metadata": {
        "id": "zdGfGKDpiZIv"
      },
      "source": [
        "**The Best Model is ExtraTreeRegressor because of the score = 100% is Maximum**"
      ]
    },
    {
      "cell_type": "code",
      "metadata": {
        "colab": {
          "base_uri": "https://localhost:8080/"
        },
        "id": "MyzV73_lipGr",
        "outputId": "575b1854-6d61-49f9-c431-d2ed4b0470c9"
      },
      "source": [
        "ext=ExtraTreeRegressor(criterion= 'friedman_mse', splitter='best')\r\n",
        "ext.fit(x_train,y_train)\r\n",
        "print('score:',ext.score(x_train,y_train))\r\n",
        "predext=ext.predict(x_test)\r\n",
        "print('\\n')\r\n",
        "print('Mean absolute Error:',mean_absolute_error(y_test,predext))\r\n",
        "print('Mean Squared Error:',mean_squared_error(y_test,predext))\r\n",
        "print('Root Mean Squared Error:',np.sqrt(mean_squared_error(y_test,predext)))\r\n",
        "print('\\n')\r\n",
        "print(\"r2_score\",r2_score(y_test,predext))"
      ],
      "execution_count": 96,
      "outputs": [
        {
          "output_type": "stream",
          "text": [
            "score: 1.0\n",
            "\n",
            "\n",
            "Mean absolute Error: 230.13575701794753\n",
            "Mean Squared Error: 128499.75655775426\n",
            "Root Mean Squared Error: 358.46862702020974\n",
            "\n",
            "\n",
            "r2_score 0.344340385980909\n"
          ],
          "name": "stdout"
        }
      ]
    },
    {
      "cell_type": "markdown",
      "metadata": {
        "id": "OcMnLUfPi2xi"
      },
      "source": [
        "## **Conclusion**"
      ]
    },
    {
      "cell_type": "code",
      "metadata": {
        "colab": {
          "base_uri": "https://localhost:8080/"
        },
        "id": "jGQoaNnni0Bs",
        "outputId": "4a84a574-e70d-4116-ac16-c9fba35b200c"
      },
      "source": [
        "a=np.array(y_test)\r\n",
        "a"
      ],
      "execution_count": 97,
      "outputs": [
        {
          "output_type": "execute_result",
          "data": {
            "text/plain": [
              "array([1000,  650,  700, ..., 1300,  450,  800])"
            ]
          },
          "metadata": {
            "tags": []
          },
          "execution_count": 97
        }
      ]
    },
    {
      "cell_type": "code",
      "metadata": {
        "colab": {
          "base_uri": "https://localhost:8080/"
        },
        "id": "NBbONUHki9sA",
        "outputId": "638902e0-1bb0-43be-c138-7354665fc2b7"
      },
      "source": [
        "predicted=np.array(ext.predict(x_test))\r\n",
        "predicted"
      ],
      "execution_count": 98,
      "outputs": [
        {
          "output_type": "execute_result",
          "data": {
            "text/plain": [
              "array([ 800., 1000.,  200., ...,  800.,  400.,  900.])"
            ]
          },
          "metadata": {
            "tags": []
          },
          "execution_count": 98
        }
      ]
    },
    {
      "cell_type": "code",
      "metadata": {
        "id": "CcTOieLujBeT"
      },
      "source": [
        "train_com=pd.DataFrame({\"original\":a,\"predicted\":predicted},index= range(len(a)))"
      ],
      "execution_count": 99,
      "outputs": []
    },
    {
      "cell_type": "code",
      "metadata": {
        "colab": {
          "base_uri": "https://localhost:8080/",
          "height": 419
        },
        "id": "rPrOHHcqjNLd",
        "outputId": "410f3f22-689a-4916-91f0-117d0b6f6b89"
      },
      "source": [
        "train_com"
      ],
      "execution_count": 100,
      "outputs": [
        {
          "output_type": "execute_result",
          "data": {
            "text/html": [
              "<div>\n",
              "<style scoped>\n",
              "    .dataframe tbody tr th:only-of-type {\n",
              "        vertical-align: middle;\n",
              "    }\n",
              "\n",
              "    .dataframe tbody tr th {\n",
              "        vertical-align: top;\n",
              "    }\n",
              "\n",
              "    .dataframe thead th {\n",
              "        text-align: right;\n",
              "    }\n",
              "</style>\n",
              "<table border=\"1\" class=\"dataframe\">\n",
              "  <thead>\n",
              "    <tr style=\"text-align: right;\">\n",
              "      <th></th>\n",
              "      <th>original</th>\n",
              "      <th>predicted</th>\n",
              "    </tr>\n",
              "  </thead>\n",
              "  <tbody>\n",
              "    <tr>\n",
              "      <th>0</th>\n",
              "      <td>1000</td>\n",
              "      <td>800.0</td>\n",
              "    </tr>\n",
              "    <tr>\n",
              "      <th>1</th>\n",
              "      <td>650</td>\n",
              "      <td>1000.0</td>\n",
              "    </tr>\n",
              "    <tr>\n",
              "      <th>2</th>\n",
              "      <td>700</td>\n",
              "      <td>200.0</td>\n",
              "    </tr>\n",
              "    <tr>\n",
              "      <th>3</th>\n",
              "      <td>300</td>\n",
              "      <td>150.0</td>\n",
              "    </tr>\n",
              "    <tr>\n",
              "      <th>4</th>\n",
              "      <td>800</td>\n",
              "      <td>800.0</td>\n",
              "    </tr>\n",
              "    <tr>\n",
              "      <th>...</th>\n",
              "      <td>...</td>\n",
              "      <td>...</td>\n",
              "    </tr>\n",
              "    <tr>\n",
              "      <th>2168</th>\n",
              "      <td>800</td>\n",
              "      <td>600.0</td>\n",
              "    </tr>\n",
              "    <tr>\n",
              "      <th>2169</th>\n",
              "      <td>900</td>\n",
              "      <td>200.0</td>\n",
              "    </tr>\n",
              "    <tr>\n",
              "      <th>2170</th>\n",
              "      <td>1300</td>\n",
              "      <td>800.0</td>\n",
              "    </tr>\n",
              "    <tr>\n",
              "      <th>2171</th>\n",
              "      <td>450</td>\n",
              "      <td>400.0</td>\n",
              "    </tr>\n",
              "    <tr>\n",
              "      <th>2172</th>\n",
              "      <td>800</td>\n",
              "      <td>900.0</td>\n",
              "    </tr>\n",
              "  </tbody>\n",
              "</table>\n",
              "<p>2173 rows × 2 columns</p>\n",
              "</div>"
            ],
            "text/plain": [
              "      original  predicted\n",
              "0         1000      800.0\n",
              "1          650     1000.0\n",
              "2          700      200.0\n",
              "3          300      150.0\n",
              "4          800      800.0\n",
              "...        ...        ...\n",
              "2168       800      600.0\n",
              "2169       900      200.0\n",
              "2170      1300      800.0\n",
              "2171       450      400.0\n",
              "2172       800      900.0\n",
              "\n",
              "[2173 rows x 2 columns]"
            ]
          },
          "metadata": {
            "tags": []
          },
          "execution_count": 100
        }
      ]
    },
    {
      "cell_type": "code",
      "metadata": {
        "id": "ZHEgbAjQjP2m"
      },
      "source": [
        "#Saving the Model\r\n",
        "import pickle\r\n",
        "filename= 'Restaurent_FoodCost.pkl'\r\n",
        "pickle.dump(ext,open(filename,'wb'))"
      ],
      "execution_count": 101,
      "outputs": []
    },
    {
      "cell_type": "markdown",
      "metadata": {
        "id": "nWT31pWkjWT0"
      },
      "source": [
        "**Using the Test Dataset**"
      ]
    },
    {
      "cell_type": "code",
      "metadata": {
        "colab": {
          "base_uri": "https://localhost:8080/"
        },
        "id": "tGNzwGU2jc6y",
        "outputId": "4d5e57d7-2c03-45b4-aac6-dc28e9d29fbb"
      },
      "source": [
        "#treating outliers using z score metod\r\n",
        "from scipy.stats import zscore\r\n",
        "z=np.abs(zscore(test))\r\n",
        "z\r\n",
        "threshold=3\r\n",
        "print(np.where(z>3))"
      ],
      "execution_count": 102,
      "outputs": [
        {
          "output_type": "stream",
          "text": [
            "(array([   15,    19,    19, ..., 12671, 12683, 12688]), array([ 7,  7, 13, ...,  7,  7, 11]))\n"
          ],
          "name": "stdout"
        }
      ]
    },
    {
      "cell_type": "code",
      "metadata": {
        "id": "PpAt3QsTjqIN"
      },
      "source": [
        "test_new=test[(z<3).all(axis=1)]"
      ],
      "execution_count": 103,
      "outputs": []
    },
    {
      "cell_type": "code",
      "metadata": {
        "colab": {
          "base_uri": "https://localhost:8080/",
          "height": 419
        },
        "id": "ZNfcyipejzv5",
        "outputId": "def66ec7-f29c-4e71-c1ec-5977aa410c9e"
      },
      "source": [
        "test_new"
      ],
      "execution_count": 104,
      "outputs": [
        {
          "output_type": "execute_result",
          "data": {
            "text/html": [
              "<div>\n",
              "<style scoped>\n",
              "    .dataframe tbody tr th:only-of-type {\n",
              "        vertical-align: middle;\n",
              "    }\n",
              "\n",
              "    .dataframe tbody tr th {\n",
              "        vertical-align: top;\n",
              "    }\n",
              "\n",
              "    .dataframe thead th {\n",
              "        text-align: right;\n",
              "    }\n",
              "</style>\n",
              "<table border=\"1\" class=\"dataframe\">\n",
              "  <thead>\n",
              "    <tr style=\"text-align: right;\">\n",
              "      <th></th>\n",
              "      <th>RESTAURANT_ID</th>\n",
              "      <th>CITY</th>\n",
              "      <th>LOCALITY</th>\n",
              "      <th>RATING</th>\n",
              "      <th>VOTES</th>\n",
              "      <th>COST</th>\n",
              "      <th>TITLE_1</th>\n",
              "      <th>TITLE_2</th>\n",
              "      <th>CUISINES_1</th>\n",
              "      <th>CUISINES_2</th>\n",
              "      <th>CUISINES_3</th>\n",
              "      <th>CUISINES_4</th>\n",
              "      <th>TIME_1</th>\n",
              "      <th>TIME_2</th>\n",
              "    </tr>\n",
              "  </thead>\n",
              "  <tbody>\n",
              "    <tr>\n",
              "      <th>0</th>\n",
              "      <td>9438</td>\n",
              "      <td>320</td>\n",
              "      <td>285</td>\n",
              "      <td>3.6</td>\n",
              "      <td>49.0</td>\n",
              "      <td>1200</td>\n",
              "      <td>4</td>\n",
              "      <td>1</td>\n",
              "      <td>59</td>\n",
              "      <td>32</td>\n",
              "      <td>66</td>\n",
              "      <td>18</td>\n",
              "      <td>343</td>\n",
              "      <td>239</td>\n",
              "    </tr>\n",
              "    <tr>\n",
              "      <th>1</th>\n",
              "      <td>13198</td>\n",
              "      <td>67</td>\n",
              "      <td>1046</td>\n",
              "      <td>4.2</td>\n",
              "      <td>30.0</td>\n",
              "      <td>1500</td>\n",
              "      <td>4</td>\n",
              "      <td>1</td>\n",
              "      <td>6</td>\n",
              "      <td>60</td>\n",
              "      <td>41</td>\n",
              "      <td>18</td>\n",
              "      <td>945</td>\n",
              "      <td>291</td>\n",
              "    </tr>\n",
              "    <tr>\n",
              "      <th>2</th>\n",
              "      <td>10915</td>\n",
              "      <td>67</td>\n",
              "      <td>1101</td>\n",
              "      <td>3.8</td>\n",
              "      <td>221.0</td>\n",
              "      <td>800</td>\n",
              "      <td>4</td>\n",
              "      <td>1</td>\n",
              "      <td>72</td>\n",
              "      <td>23</td>\n",
              "      <td>12</td>\n",
              "      <td>32</td>\n",
              "      <td>327</td>\n",
              "      <td>291</td>\n",
              "    </tr>\n",
              "    <tr>\n",
              "      <th>3</th>\n",
              "      <td>6346</td>\n",
              "      <td>222</td>\n",
              "      <td>136</td>\n",
              "      <td>4.1</td>\n",
              "      <td>24.0</td>\n",
              "      <td>800</td>\n",
              "      <td>20</td>\n",
              "      <td>1</td>\n",
              "      <td>100</td>\n",
              "      <td>23</td>\n",
              "      <td>21</td>\n",
              "      <td>18</td>\n",
              "      <td>178</td>\n",
              "      <td>291</td>\n",
              "    </tr>\n",
              "    <tr>\n",
              "      <th>4</th>\n",
              "      <td>15387</td>\n",
              "      <td>222</td>\n",
              "      <td>620</td>\n",
              "      <td>3.8</td>\n",
              "      <td>165.0</td>\n",
              "      <td>300</td>\n",
              "      <td>8</td>\n",
              "      <td>1</td>\n",
              "      <td>28</td>\n",
              "      <td>23</td>\n",
              "      <td>21</td>\n",
              "      <td>18</td>\n",
              "      <td>316</td>\n",
              "      <td>291</td>\n",
              "    </tr>\n",
              "    <tr>\n",
              "      <th>...</th>\n",
              "      <td>...</td>\n",
              "      <td>...</td>\n",
              "      <td>...</td>\n",
              "      <td>...</td>\n",
              "      <td>...</td>\n",
              "      <td>...</td>\n",
              "      <td>...</td>\n",
              "      <td>...</td>\n",
              "      <td>...</td>\n",
              "      <td>...</td>\n",
              "      <td>...</td>\n",
              "      <td>...</td>\n",
              "      <td>...</td>\n",
              "      <td>...</td>\n",
              "    </tr>\n",
              "    <tr>\n",
              "      <th>12684</th>\n",
              "      <td>8324</td>\n",
              "      <td>252</td>\n",
              "      <td>723</td>\n",
              "      <td>3.8</td>\n",
              "      <td>492.0</td>\n",
              "      <td>550</td>\n",
              "      <td>4</td>\n",
              "      <td>1</td>\n",
              "      <td>72</td>\n",
              "      <td>23</td>\n",
              "      <td>21</td>\n",
              "      <td>18</td>\n",
              "      <td>290</td>\n",
              "      <td>291</td>\n",
              "    </tr>\n",
              "    <tr>\n",
              "      <th>12685</th>\n",
              "      <td>13228</td>\n",
              "      <td>131</td>\n",
              "      <td>342</td>\n",
              "      <td>3.8</td>\n",
              "      <td>546.0</td>\n",
              "      <td>500</td>\n",
              "      <td>20</td>\n",
              "      <td>1</td>\n",
              "      <td>72</td>\n",
              "      <td>17</td>\n",
              "      <td>44</td>\n",
              "      <td>18</td>\n",
              "      <td>521</td>\n",
              "      <td>338</td>\n",
              "    </tr>\n",
              "    <tr>\n",
              "      <th>12686</th>\n",
              "      <td>9686</td>\n",
              "      <td>222</td>\n",
              "      <td>133</td>\n",
              "      <td>4.3</td>\n",
              "      <td>1214.0</td>\n",
              "      <td>1800</td>\n",
              "      <td>4</td>\n",
              "      <td>1</td>\n",
              "      <td>37</td>\n",
              "      <td>25</td>\n",
              "      <td>21</td>\n",
              "      <td>18</td>\n",
              "      <td>536</td>\n",
              "      <td>479</td>\n",
              "    </tr>\n",
              "    <tr>\n",
              "      <th>12687</th>\n",
              "      <td>11133</td>\n",
              "      <td>239</td>\n",
              "      <td>1342</td>\n",
              "      <td>4.0</td>\n",
              "      <td>608.0</td>\n",
              "      <td>1300</td>\n",
              "      <td>14</td>\n",
              "      <td>1</td>\n",
              "      <td>34</td>\n",
              "      <td>25</td>\n",
              "      <td>4</td>\n",
              "      <td>18</td>\n",
              "      <td>519</td>\n",
              "      <td>291</td>\n",
              "    </tr>\n",
              "    <tr>\n",
              "      <th>12689</th>\n",
              "      <td>6430</td>\n",
              "      <td>131</td>\n",
              "      <td>1333</td>\n",
              "      <td>3.4</td>\n",
              "      <td>677.0</td>\n",
              "      <td>600</td>\n",
              "      <td>4</td>\n",
              "      <td>1</td>\n",
              "      <td>72</td>\n",
              "      <td>23</td>\n",
              "      <td>21</td>\n",
              "      <td>18</td>\n",
              "      <td>412</td>\n",
              "      <td>291</td>\n",
              "    </tr>\n",
              "  </tbody>\n",
              "</table>\n",
              "<p>10862 rows × 14 columns</p>\n",
              "</div>"
            ],
            "text/plain": [
              "       RESTAURANT_ID  CITY  LOCALITY  ...  CUISINES_4  TIME_1  TIME_2\n",
              "0               9438   320       285  ...          18     343     239\n",
              "1              13198    67      1046  ...          18     945     291\n",
              "2              10915    67      1101  ...          32     327     291\n",
              "3               6346   222       136  ...          18     178     291\n",
              "4              15387   222       620  ...          18     316     291\n",
              "...              ...   ...       ...  ...         ...     ...     ...\n",
              "12684           8324   252       723  ...          18     290     291\n",
              "12685          13228   131       342  ...          18     521     338\n",
              "12686           9686   222       133  ...          18     536     479\n",
              "12687          11133   239      1342  ...          18     519     291\n",
              "12689           6430   131      1333  ...          18     412     291\n",
              "\n",
              "[10862 rows x 14 columns]"
            ]
          },
          "metadata": {
            "tags": []
          },
          "execution_count": 104
        }
      ]
    },
    {
      "cell_type": "code",
      "metadata": {
        "id": "N8wDRffLj240"
      },
      "source": [
        "import pickle\r\n",
        "fitted_model=pickle.load(open(\"Restaurent_FoodCost.pkl\",\"rb\"))"
      ],
      "execution_count": 105,
      "outputs": []
    },
    {
      "cell_type": "code",
      "metadata": {
        "colab": {
          "base_uri": "https://localhost:8080/"
        },
        "id": "2eWpm5waj8Rc",
        "outputId": "611edce9-4db3-4574-fc5a-33ca55d0eae8"
      },
      "source": [
        "fitted_model"
      ],
      "execution_count": 106,
      "outputs": [
        {
          "output_type": "execute_result",
          "data": {
            "text/plain": [
              "ExtraTreeRegressor(ccp_alpha=0.0, criterion='friedman_mse', max_depth=None,\n",
              "                   max_features='auto', max_leaf_nodes=None,\n",
              "                   min_impurity_decrease=0.0, min_impurity_split=None,\n",
              "                   min_samples_leaf=1, min_samples_split=2,\n",
              "                   min_weight_fraction_leaf=0.0, random_state=None,\n",
              "                   splitter='best')"
            ]
          },
          "metadata": {
            "tags": []
          },
          "execution_count": 106
        }
      ]
    }
  ]
}